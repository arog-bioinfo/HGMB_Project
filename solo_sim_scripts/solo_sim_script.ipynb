{
 "cells": [
  {
   "cell_type": "markdown",
   "id": "08c63f61",
   "metadata": {},
   "source": [
    "# Import"
   ]
  },
  {
   "cell_type": "code",
   "execution_count": 1,
   "id": "ee24ddcc",
   "metadata": {},
   "outputs": [],
   "source": [
    "import os\n",
    "import json\n",
    "import pandas as pd\n",
    "from collections import defaultdict\n",
    "from cobra import io\n",
    "from cobra.flux_analysis import flux_variability_analysis\n",
    "from cobra.medium import minimal_medium"
   ]
  },
  {
   "cell_type": "markdown",
   "id": "e03cd341",
   "metadata": {},
   "source": [
    "# Individual Model Simulations"
   ]
  },
  {
   "cell_type": "code",
   "execution_count": 2,
   "id": "e3865695",
   "metadata": {},
   "outputs": [
    {
     "name": "stdout",
     "output_type": "stream",
     "text": [
      "Processing: /home/arog/models/xml/iYL1228.xml\n",
      "Saved summary: /home/arog/models/solo_results/iYL1228_summary.txt\n",
      "Saved minimal medium: /home/arog/models/solo_results/iYL1228_minimal_medium.csv\n",
      "Saved FVA: /home/arog/models/solo_results/iYL1228_fva.csv\n",
      "Processing: /home/arog/models/xml/iSDY_1059.xml\n",
      "Saved summary: /home/arog/models/solo_results/iSDY_1059_summary.txt\n",
      "Saved minimal medium: /home/arog/models/solo_results/iSDY_1059_minimal_medium.csv\n",
      "Saved FVA: /home/arog/models/solo_results/iSDY_1059_fva.csv\n",
      "Processing: /home/arog/models/xml/iCN900.xml\n"
     ]
    },
    {
     "name": "stderr",
     "output_type": "stream",
     "text": [
      "Minimization of medium was infeasible.\n"
     ]
    },
    {
     "name": "stdout",
     "output_type": "stream",
     "text": [
      "Saved summary: /home/arog/models/solo_results/iCN900_summary.txt\n",
      "Failed to process iCN900.xml: 'NoneType' object has no attribute 'to_csv'\n",
      "Processing: /home/arog/models/xml/iECSE_1348.xml\n",
      "Saved summary: /home/arog/models/solo_results/iECSE_1348_summary.txt\n",
      "Saved minimal medium: /home/arog/models/solo_results/iECSE_1348_minimal_medium.csv\n",
      "Saved FVA: /home/arog/models/solo_results/iECSE_1348_fva.csv\n",
      "Processing: /home/arog/models/xml/iUMNK88_1353.xml\n",
      "Saved summary: /home/arog/models/solo_results/iUMNK88_1353_summary.txt\n",
      "Saved minimal medium: /home/arog/models/solo_results/iUMNK88_1353_minimal_medium.csv\n",
      "Saved FVA: /home/arog/models/solo_results/iUMNK88_1353_fva.csv\n",
      "Processing: /home/arog/models/xml/iETEC_1333.xml\n",
      "Saved summary: /home/arog/models/solo_results/iETEC_1333_summary.txt\n",
      "Saved minimal medium: /home/arog/models/solo_results/iETEC_1333_minimal_medium.csv\n",
      "Saved FVA: /home/arog/models/solo_results/iETEC_1333_fva.csv\n",
      "Processing: /home/arog/models/xml/iECSF_1327.xml\n",
      "Saved summary: /home/arog/models/solo_results/iECSF_1327_summary.txt\n",
      "Saved minimal medium: /home/arog/models/solo_results/iECSF_1327_minimal_medium.csv\n",
      "Saved FVA: /home/arog/models/solo_results/iECSF_1327_fva.csv\n",
      "Processing: /home/arog/models/xml/iEcSMS35_1347.xml\n",
      "Saved summary: /home/arog/models/solo_results/iEcSMS35_1347_summary.txt\n",
      "Saved minimal medium: /home/arog/models/solo_results/iEcSMS35_1347_minimal_medium.csv\n",
      "Saved FVA: /home/arog/models/solo_results/iEcSMS35_1347_fva.csv\n",
      "Processing: /home/arog/models/xml/iEC1356_Bl21DE3.xml\n",
      "Saved summary: /home/arog/models/solo_results/iEC1356_Bl21DE3_summary.txt\n",
      "Saved minimal medium: /home/arog/models/solo_results/iEC1356_Bl21DE3_minimal_medium.csv\n",
      "Saved FVA: /home/arog/models/solo_results/iEC1356_Bl21DE3_fva.csv\n",
      "Processing: /home/arog/models/xml/iECUMN_1333.xml\n",
      "Saved summary: /home/arog/models/solo_results/iECUMN_1333_summary.txt\n",
      "Saved minimal medium: /home/arog/models/solo_results/iECUMN_1333_minimal_medium.csv\n",
      "Saved FVA: /home/arog/models/solo_results/iECUMN_1333_fva.csv\n",
      "Processing: /home/arog/models/xml/iNRG857_1313.xml\n",
      "Saved summary: /home/arog/models/solo_results/iNRG857_1313_summary.txt\n",
      "Saved minimal medium: /home/arog/models/solo_results/iNRG857_1313_minimal_medium.csv\n",
      "Saved FVA: /home/arog/models/solo_results/iNRG857_1313_fva.csv\n",
      "Processing: /home/arog/models/xml/iUTI89_1310.xml\n",
      "Saved summary: /home/arog/models/solo_results/iUTI89_1310_summary.txt\n",
      "Saved minimal medium: /home/arog/models/solo_results/iUTI89_1310_minimal_medium.csv\n",
      "Saved FVA: /home/arog/models/solo_results/iUTI89_1310_fva.csv\n",
      "Processing: /home/arog/models/xml/ic_1306.xml\n",
      "Saved summary: /home/arog/models/solo_results/ic_1306_summary.txt\n",
      "Saved minimal medium: /home/arog/models/solo_results/ic_1306_minimal_medium.csv\n",
      "Saved FVA: /home/arog/models/solo_results/ic_1306_fva.csv\n"
     ]
    }
   ],
   "source": [
    "# === CONFIGURATION ===\n",
    "input_dir = \"/home/arog/models/xml\"            # Directory containing .xml files\n",
    "output_dir = \"/home/arog/models/solo_results\"   # Directory to save results\n",
    "fraction_of_optimum = 1.0                      # FVA at 100% of optimal growth\n",
    "\n",
    "# === Ensure output directory exists ===\n",
    "os.makedirs(output_dir, exist_ok=True)\n",
    "\n",
    "# === Process all .xml files ===\n",
    "for file_name in os.listdir(input_dir):\n",
    "    if file_name.endswith(\".xml\"):\n",
    "        model_path = os.path.join(input_dir, file_name)\n",
    "        print(f\"Processing: {model_path}\")\n",
    "        \n",
    "        try:\n",
    "            # === Load model ===\n",
    "            model = io.read_sbml_model(model_path)\n",
    "            base_name = os.path.splitext(file_name)[0]\n",
    "\n",
    "            # === Save model summary ===\n",
    "            summary_text = str(model.summary())\n",
    "            summary_path = os.path.join(output_dir, f\"{base_name}_summary.txt\")\n",
    "            with open(summary_path, \"w\") as f:\n",
    "                f.write(summary_text)\n",
    "            print(f\"Saved summary: {summary_path}\")\n",
    "\n",
    "            # === Get and save minimal medium ===\n",
    "            min_med = minimal_medium(model)\n",
    "            minmed_path = os.path.join(output_dir, f\"{base_name}_minimal_medium.csv\")\n",
    "            min_med.to_csv(minmed_path)\n",
    "            print(f\"Saved minimal medium: {minmed_path}\")\n",
    "\n",
    "            # === Run and save FVA ===\n",
    "            fva_result = flux_variability_analysis(model, fraction_of_optimum=fraction_of_optimum)\n",
    "            fva_path = os.path.join(output_dir, f\"{base_name}_fva.csv\")\n",
    "            fva_result.to_csv(fva_path)\n",
    "            print(f\"Saved FVA: {fva_path}\")\n",
    "\n",
    "\n",
    "\n",
    "        except Exception as e:\n",
    "            print(f\"Failed to process {file_name}: {e}\")\n"
   ]
  },
  {
   "cell_type": "markdown",
   "id": "8a219cc4",
   "metadata": {},
   "source": [
    "# External Reaction Analysis"
   ]
  },
  {
   "cell_type": "code",
   "execution_count": 3,
   "id": "fa3c25a9",
   "metadata": {},
   "outputs": [
    {
     "name": "stdout",
     "output_type": "stream",
     "text": [
      "Processing: /home/arog/models/xml/iYL1228.xml\n",
      "Processing: /home/arog/models/xml/iSDY_1059.xml\n",
      "Processing: /home/arog/models/xml/iCN900.xml\n",
      "Processing: /home/arog/models/xml/iECSE_1348.xml\n",
      "Processing: /home/arog/models/xml/iUMNK88_1353.xml\n",
      "Processing: /home/arog/models/xml/iETEC_1333.xml\n",
      "Processing: /home/arog/models/xml/iECSF_1327.xml\n",
      "Processing: /home/arog/models/xml/iEcSMS35_1347.xml\n",
      "Processing: /home/arog/models/xml/iEC1356_Bl21DE3.xml\n",
      "Processing: /home/arog/models/xml/iECUMN_1333.xml\n",
      "Processing: /home/arog/models/xml/iNRG857_1313.xml\n",
      "Processing: /home/arog/models/xml/iUTI89_1310.xml\n",
      "Processing: /home/arog/models/xml/ic_1306.xml\n",
      "\n",
      "Saved non-zero lower bounds to: /home/arog/models/solo_results/nonzero_exchange_lbs.json\n"
     ]
    }
   ],
   "source": [
    "# === CONFIGURATION ===\n",
    "input_dir = \"/home/arog/models/xml\"               # Input directory\n",
    "output_path = \"/home/arog/models/solo_results/nonzero_exchange_lbs.json\"  # Output JSON\n",
    "\n",
    "# === Store results in defaultdict(list)\n",
    "nonzero_lbs = defaultdict(list)\n",
    "\n",
    "# === Process all .xml files ===\n",
    "for file_name in os.listdir(input_dir):\n",
    "    if file_name.endswith(\".xml\"):\n",
    "        model_path = os.path.join(input_dir, file_name)\n",
    "        model_name = os.path.splitext(file_name)[0]\n",
    "        print(f\"Processing: {model_path}\")\n",
    "\n",
    "        try:\n",
    "            model = io.read_sbml_model(model_path)\n",
    "            \n",
    "            for rxn in model.exchanges:\n",
    "                if rxn.lower_bound != 0:\n",
    "                    nonzero_lbs[rxn.id].append((model_name, rxn.lower_bound))\n",
    "        \n",
    "        except Exception as e:\n",
    "            print(f\"Failed to process {file_name}: {e}\")\n",
    "\n",
    "# === Convert to regular dict and sort by reaction ID ===\n",
    "sorted_lbs = dict(sorted(nonzero_lbs.items()))\n",
    "\n",
    "# === Save to JSON ===\n",
    "with open(output_path, \"w\") as f:\n",
    "    json.dump(sorted_lbs, f, indent=2)\n",
    "\n",
    "print(f\"\\nSaved non-zero lower bounds to: {output_path}\")\n"
   ]
  },
  {
   "cell_type": "code",
   "execution_count": 4,
   "id": "fbeea628",
   "metadata": {},
   "outputs": [
    {
     "name": "stdout",
     "output_type": "stream",
     "text": [
      "Processing: /home/arog/models/xml/iYL1228.xml\n",
      "Processing: /home/arog/models/xml/iSDY_1059.xml\n",
      "Processing: /home/arog/models/xml/iCN900.xml\n",
      "Processing: /home/arog/models/xml/iECSE_1348.xml\n",
      "Processing: /home/arog/models/xml/iUMNK88_1353.xml\n",
      "Processing: /home/arog/models/xml/iETEC_1333.xml\n",
      "Processing: /home/arog/models/xml/iECSF_1327.xml\n",
      "Processing: /home/arog/models/xml/iEcSMS35_1347.xml\n",
      "Processing: /home/arog/models/xml/iEC1356_Bl21DE3.xml\n",
      "Processing: /home/arog/models/xml/iECUMN_1333.xml\n",
      "Processing: /home/arog/models/xml/iNRG857_1313.xml\n",
      "Processing: /home/arog/models/xml/iUTI89_1310.xml\n",
      "Processing: /home/arog/models/xml/ic_1306.xml\n",
      "\n",
      "Saved R_EX reactions to: /home/arog/models/solo_results/all_exchange.json\n"
     ]
    }
   ],
   "source": [
    "# === CONFIGURATION ===            \n",
    "output_path = \"/home/arog/models/solo_results/all_exchange.json\"\n",
    "\n",
    "# === Store results\n",
    "r_ex_reactions = defaultdict(list)\n",
    "\n",
    "# === Process all .xml files ===\n",
    "for file_name in os.listdir(input_dir):\n",
    "    if file_name.endswith(\".xml\"):\n",
    "        model_path = os.path.join(input_dir, file_name)\n",
    "        model_name = os.path.splitext(file_name)[0]\n",
    "        print(f\"Processing: {model_path}\")\n",
    "\n",
    "        try:\n",
    "            model = io.read_sbml_model(model_path)\n",
    "\n",
    "            for rxn in model.exchanges:  # model.exchanges gives reaction objects\n",
    "                r_ex_reactions[rxn.id].append((model_name, rxn.lower_bound))\n",
    "\n",
    "        except Exception as e:\n",
    "            print(f\"Failed to process {file_name}: {e}\")\n",
    "\n",
    "# === Sort and save ===\n",
    "sorted_r_ex = dict(sorted(r_ex_reactions.items()))\n",
    "\n",
    "with open(output_path, \"w\") as f:\n",
    "    json.dump(sorted_r_ex, f, indent=2)\n",
    "\n",
    "print(f\"\\nSaved R_EX reactions to: {output_path}\")\n"
   ]
  }
 ],
 "metadata": {
  "kernelspec": {
   "display_name": "micom",
   "language": "python",
   "name": "python3"
  },
  "language_info": {
   "codemirror_mode": {
    "name": "ipython",
    "version": 3
   },
   "file_extension": ".py",
   "mimetype": "text/x-python",
   "name": "python",
   "nbconvert_exporter": "python",
   "pygments_lexer": "ipython3",
   "version": "3.10.16"
  }
 },
 "nbformat": 4,
 "nbformat_minor": 5
}
