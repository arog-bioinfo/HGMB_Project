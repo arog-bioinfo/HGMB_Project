{
 "cells": [
  {
   "cell_type": "markdown",
   "id": "0ce16f76",
   "metadata": {},
   "source": [
    "# Imports"
   ]
  },
  {
   "cell_type": "code",
   "execution_count": 1,
   "id": "810a4730",
   "metadata": {},
   "outputs": [],
   "source": [
    "import os\n",
    "import pandas as pd\n",
    "import numpy as np\n",
    "\n",
    "from micom.media import minimal_medium\n",
    "\n",
    "from micom import Community\n",
    "\n",
    "basePath = \"/home/arog/models\""
   ]
  },
  {
   "cell_type": "markdown",
   "id": "8cd0b706",
   "metadata": {},
   "source": [
    "# Dataset for Micom"
   ]
  },
  {
   "cell_type": "code",
   "execution_count": 2,
   "id": "c7cae980",
   "metadata": {},
   "outputs": [
    {
     "data": {
      "text/plain": [
       "Index(['Unique ID', 'UP name', 'NCBI taxonomy name',\n",
       "       'Assembly ID (UP matched)', 'Present in GFKB v3 (Y/N)',\n",
       "       'Present in GFKB v5 (Y/N)', 'BiGG Model Link', 'BiGG ID', 'uniqueID',\n",
       "       'Lineage( full )', 'Median_Control_Before_Diet',\n",
       "       'Mean_Control_Before_Diet', 'Standard_Deviation_Control_Before_Diet',\n",
       "       'Interquartile_Range_Control_Before_Diet', 'Range_Control_Before_Diet',\n",
       "       '0%_Control_Before_Diet', '25%_Control_Before_Diet',\n",
       "       '50%_Control_Before_Diet', '75%_Control_Before_Diet',\n",
       "       '100%_Control_Before_Diet', 'Relative_Abundance_Control_Before_Diet'],\n",
       "      dtype='object')"
      ]
     },
     "execution_count": 2,
     "metadata": {},
     "output_type": "execute_result"
    }
   ],
   "source": [
    "# Load both datasets\n",
    "# Replace these paths with your actual file paths\n",
    "df_ids = pd.read_csv(\"/home/arog/Documents/GitHub/HGMB_Project/datasets/treated/models_final.csv\")         # Dataset containing \"Unique ID\" column\n",
    "df_data = pd.read_csv(\"/home/arog/Documents/GitHub/HGMB_Project/datasets/GFKB/GutFeelingKnowledgeBase-v4-Epilepsy_Data.csv\")  # Dataset to filter based on \"Unique ID\"\n",
    "\n",
    "# Set the first row as the new header\n",
    "df_data.columns = df_data.iloc[0]\n",
    "df_data = df_data[1:].reset_index(drop=True)\n",
    "\n",
    "# Ensure the key column is correctly named\n",
    "id_column = \"Unique ID\"\n",
    "id2_column = \"uniqueID\"\n",
    "\n",
    "# Merge instead of using isin\n",
    "merged_df = df_ids.merge(df_data, left_on=id_column, right_on=id2_column, how='inner')\n",
    "merged_df = merged_df.rename(columns={'UP name_x': 'UP name'})\n",
    "merged_df = merged_df.drop(columns=['UP name_y']).iloc[:, :20]\n",
    "\n",
    "# Convert to numeric (invalid strings become NaN)\n",
    "merged_df[\"Mean_Control_Before_Diet\"] = pd.to_numeric(merged_df[\"Mean_Control_Before_Diet\"], errors=\"coerce\")\n",
    "\n",
    "# Then compute the relative abundance\n",
    "merged_df[\"Relative_Abundance_Control_Before_Diet\"] = (\n",
    "    merged_df[\"Mean_Control_Before_Diet\"] / merged_df[\"Mean_Control_Before_Diet\"].sum()\n",
    ")\n",
    "\n",
    "\n",
    "merged_df.columns"
   ]
  },
  {
   "cell_type": "code",
   "execution_count": 3,
   "id": "3ef255e3",
   "metadata": {},
   "outputs": [],
   "source": [
    "basepath = \"/home/arog/models/xml\"\n",
    "\n",
    "taxonomy = {\n",
    "    \"id\": list(merged_df[\"BiGG ID\"]),\n",
    "    \"file\": [f\"{basepath}/{x}.xml\" for x in merged_df[\"BiGG ID\"]],\n",
    "    \"abundance\": list(merged_df[\"Relative_Abundance_Control_Before_Diet\"])\n",
    "}\n",
    "\n",
    "taxonomy_df = pd.DataFrame(taxonomy)\n",
    "taxonomy_df.to_csv(\"/home/arog/Documents/GitHub/HGMB_Project/datasets/taxonomy.csv\", index=False)"
   ]
  },
  {
   "cell_type": "markdown",
   "id": "e6f4a3f4",
   "metadata": {},
   "source": [
    "# Micom Simulation"
   ]
  },
  {
   "cell_type": "code",
   "execution_count": 4,
   "id": "35784f77",
   "metadata": {},
   "outputs": [
    {
     "data": {
      "text/html": [
       "<div>\n",
       "<style scoped>\n",
       "    .dataframe tbody tr th:only-of-type {\n",
       "        vertical-align: middle;\n",
       "    }\n",
       "\n",
       "    .dataframe tbody tr th {\n",
       "        vertical-align: top;\n",
       "    }\n",
       "\n",
       "    .dataframe thead th {\n",
       "        text-align: right;\n",
       "    }\n",
       "</style>\n",
       "<table border=\"1\" class=\"dataframe\">\n",
       "  <thead>\n",
       "    <tr style=\"text-align: right;\">\n",
       "      <th></th>\n",
       "      <th>id</th>\n",
       "      <th>file</th>\n",
       "      <th>abundance</th>\n",
       "    </tr>\n",
       "  </thead>\n",
       "  <tbody>\n",
       "    <tr>\n",
       "      <th>0</th>\n",
       "      <td>iEC1356_Bl21DE3</td>\n",
       "      <td>/home/arog/models/xml/iEC1356_Bl21DE3.xml</td>\n",
       "      <td>0.025104</td>\n",
       "    </tr>\n",
       "    <tr>\n",
       "      <th>1</th>\n",
       "      <td>iEcSMS35_1347</td>\n",
       "      <td>/home/arog/models/xml/iEcSMS35_1347.xml</td>\n",
       "      <td>0.543917</td>\n",
       "    </tr>\n",
       "    <tr>\n",
       "      <th>2</th>\n",
       "      <td>iUTI89_1310</td>\n",
       "      <td>/home/arog/models/xml/iUTI89_1310.xml</td>\n",
       "      <td>0.043361</td>\n",
       "    </tr>\n",
       "    <tr>\n",
       "      <th>3</th>\n",
       "      <td>iECUMN_1333</td>\n",
       "      <td>/home/arog/models/xml/iECUMN_1333.xml</td>\n",
       "      <td>0.171923</td>\n",
       "    </tr>\n",
       "    <tr>\n",
       "      <th>4</th>\n",
       "      <td>iECSF_1327</td>\n",
       "      <td>/home/arog/models/xml/iECSF_1327.xml</td>\n",
       "      <td>0.072649</td>\n",
       "    </tr>\n",
       "    <tr>\n",
       "      <th>5</th>\n",
       "      <td>ic_1306</td>\n",
       "      <td>/home/arog/models/xml/ic_1306.xml</td>\n",
       "      <td>0.023221</td>\n",
       "    </tr>\n",
       "    <tr>\n",
       "      <th>6</th>\n",
       "      <td>iETEC_1333</td>\n",
       "      <td>/home/arog/models/xml/iETEC_1333.xml</td>\n",
       "      <td>0.057054</td>\n",
       "    </tr>\n",
       "    <tr>\n",
       "      <th>7</th>\n",
       "      <td>iNRG857_1313</td>\n",
       "      <td>/home/arog/models/xml/iNRG857_1313.xml</td>\n",
       "      <td>0.047165</td>\n",
       "    </tr>\n",
       "    <tr>\n",
       "      <th>8</th>\n",
       "      <td>iUMNK88_1353</td>\n",
       "      <td>/home/arog/models/xml/iUMNK88_1353.xml</td>\n",
       "      <td>0.015606</td>\n",
       "    </tr>\n",
       "  </tbody>\n",
       "</table>\n",
       "</div>"
      ],
      "text/plain": [
       "                id                                       file  abundance\n",
       "0  iEC1356_Bl21DE3  /home/arog/models/xml/iEC1356_Bl21DE3.xml   0.025104\n",
       "1    iEcSMS35_1347    /home/arog/models/xml/iEcSMS35_1347.xml   0.543917\n",
       "2      iUTI89_1310      /home/arog/models/xml/iUTI89_1310.xml   0.043361\n",
       "3      iECUMN_1333      /home/arog/models/xml/iECUMN_1333.xml   0.171923\n",
       "4       iECSF_1327       /home/arog/models/xml/iECSF_1327.xml   0.072649\n",
       "5          ic_1306          /home/arog/models/xml/ic_1306.xml   0.023221\n",
       "6       iETEC_1333       /home/arog/models/xml/iETEC_1333.xml   0.057054\n",
       "7     iNRG857_1313     /home/arog/models/xml/iNRG857_1313.xml   0.047165\n",
       "8     iUMNK88_1353     /home/arog/models/xml/iUMNK88_1353.xml   0.015606"
      ]
     },
     "execution_count": 4,
     "metadata": {},
     "output_type": "execute_result"
    }
   ],
   "source": [
    "taxonomy = pd.read_csv(\"/home/arog/Documents/GitHub/HGMB_Project/datasets/taxonomy.csv\", delimiter=\",\")\n",
    "taxonomy"
   ]
  },
  {
   "cell_type": "code",
   "execution_count": 5,
   "id": "a6e18a71",
   "metadata": {},
   "outputs": [
    {
     "data": {
      "application/vnd.jupyter.widget-view+json": {
       "model_id": "a3d2d951ddc74b6ca313869b7394e34f",
       "version_major": 2,
       "version_minor": 0
      },
      "text/plain": [
       "Output()"
      ]
     },
     "metadata": {},
     "output_type": "display_data"
    },
    {
     "data": {
      "text/html": [
       "<pre style=\"white-space:pre;overflow-x:auto;line-height:normal;font-family:Menlo,'DejaVu Sans Mono',consolas,'Courier New',monospace\"></pre>\n"
      ],
      "text/plain": []
     },
     "metadata": {},
     "output_type": "display_data"
    }
   ],
   "source": [
    "com = Community(taxonomy) # necessário instalar package especifica"
   ]
  },
  {
   "cell_type": "code",
   "execution_count": 6,
   "id": "ff3afc79",
   "metadata": {},
   "outputs": [
    {
     "name": "stdout",
     "output_type": "stream",
     "text": [
      "Community objective expression:\n",
      "1.0*community_objective\n"
     ]
    }
   ],
   "source": [
    "# === Inspect Community Objective ===\n",
    "print(\"Community objective expression:\")\n",
    "print(com.objective.expression)"
   ]
  },
  {
   "cell_type": "code",
   "execution_count": null,
   "id": "bda5977c",
   "metadata": {},
   "outputs": [
    {
     "name": "stdout",
     "output_type": "stream",
     "text": [
      "\n",
      "Running baseline FBA...\n",
      "FBA community growth rate: 1.0329794581567353\n",
      "\n",
      "Running baseline pFBA...\n",
      "pFBA community growth rate: 1.03297759710055\n"
     ]
    }
   ],
   "source": [
    "# === FBA & pFBA Baseline ===\n",
    "print(\"\\nRunning baseline FBA...\")\n",
    "fba = com.optimize()\n",
    "print(\"FBA community growth rate:\", fba.growth_rate)\n",
    "print(\"FBA community members:\", fba.members)\n",
    "\n",
    "print(\"\\nRunning baseline pFBA...\")\n",
    "pfba = com.optimize(fluxes=True, pfba=True)\n",
    "print(\"pFBA community growth rate:\", pfba.growth_rate)\n",
    "print(\"pFBA community members:\", fba.members)\n"
   ]
  },
  {
   "cell_type": "code",
   "execution_count": null,
   "id": "5bc2d502",
   "metadata": {},
   "outputs": [
    {
     "name": "stdout",
     "output_type": "stream",
     "text": [
      "\n",
      "Running cooperative trade-off (sol1) with min_growth = 0.0075...\n",
      "sol1 community growth: 1.0328548173864236\n"
     ]
    }
   ],
   "source": [
    "# === Cooperative Trade-Off Optimization ===\n",
    "print(\"\\nRunning cooperative trade-off (sol1) with min_growth = 0.0075...\")\n",
    "sol1 = com.cooperative_tradeoff(min_growth=0.0075, fluxes=True)\n",
    "print(\"sol1 community growth:\", sol1.growth_rate)\n",
    "print(\"sol1 community members:\", sol1.members)"
   ]
  },
  {
   "cell_type": "code",
   "execution_count": 9,
   "id": "5473cd85",
   "metadata": {},
   "outputs": [],
   "source": [
    "# === Optional: run a second trade-off with per-taxon constraints\n",
    "# min_growths = [0.0075] * len(com.taxa)  # Adjust manually if needed\n",
    "# sol2 = com.cooperative_tradeoff(min_growth=min_growths, fluxes=True)"
   ]
  },
  {
   "cell_type": "code",
   "execution_count": null,
   "id": "375fcff7",
   "metadata": {},
   "outputs": [
    {
     "name": "stdout",
     "output_type": "stream",
     "text": [
      "\n",
      "Computing minimal medium for 80% growth...\n"
     ]
    },
    {
     "data": {
      "text/html": [
       "<pre style=\"white-space:pre;overflow-x:auto;line-height:normal;font-family:Menlo,'DejaVu Sans Mono',consolas,'Courier New',monospace\"><span style=\"color: #7fbfbf; text-decoration-color: #7fbfbf\">[05/31/25 19:02:31] </span><span style=\"color: #808000; text-decoration-color: #808000\">WARNING </span> the MIP version of minimal media is extremely slow for models that large   <a href=\"file:///home/arog/miniconda3/envs/micom/lib/python3.10/site-packages/micom/media.py\" target=\"_blank\"><span style=\"color: #7f7f7f; text-decoration-color: #7f7f7f\">media.py</span></a><span style=\"color: #7f7f7f; text-decoration-color: #7f7f7f\">:</span><a href=\"file:///home/arog/miniconda3/envs/micom/lib/python3.10/site-packages/micom/media.py#72\" target=\"_blank\"><span style=\"color: #7f7f7f; text-decoration-color: #7f7f7f\">72</span></a>\n",
       "<span style=\"color: #7fbfbf; text-decoration-color: #7fbfbf\">                    </span>         :<span style=\"font-weight: bold\">(</span>                                                                         <span style=\"color: #7f7f7f; text-decoration-color: #7f7f7f\">           </span>\n",
       "</pre>\n"
      ],
      "text/plain": [
       "\u001b[2;36m[05/31/25 19:02:31]\u001b[0m\u001b[2;36m \u001b[0m\u001b[33mWARNING \u001b[0m the MIP version of minimal media is extremely slow for models that large   \u001b]8;id=678934;file:///home/arog/miniconda3/envs/micom/lib/python3.10/site-packages/micom/media.py\u001b\\\u001b[2mmedia.py\u001b[0m\u001b]8;;\u001b\\\u001b[2m:\u001b[0m\u001b]8;id=774400;file:///home/arog/miniconda3/envs/micom/lib/python3.10/site-packages/micom/media.py#72\u001b\\\u001b[2m72\u001b[0m\u001b]8;;\u001b\\\n",
       "\u001b[2;36m                    \u001b[0m         :\u001b[1m(\u001b[0m                                                                         \u001b[2m           \u001b[0m\n"
      ]
     },
     "metadata": {},
     "output_type": "display_data"
    },
    {
     "name": "stdout",
     "output_type": "stream",
     "text": [
      "EX_h2o_m       13.657999\n",
      "EX_trp__L_m     1.121952\n",
      "dtype: float64\n"
     ]
    }
   ],
   "source": [
    "# === Minimal Medium to Support 80% of Growth ===\n",
    "print(\"\\nComputing minimal medium for 80% growth...\")\n",
    "minMed = minimal_medium(com, 0.8, minimize_components=True)\n",
    "print(minMed)"
   ]
  },
  {
   "cell_type": "code",
   "execution_count": 11,
   "id": "9dc56b4b",
   "metadata": {},
   "outputs": [],
   "source": [
    "# === Get Member Growth Rates (excluding medium pseudo-tax)\n",
    "rates = sol1.members.growth_rate.drop(\"medium\")"
   ]
  },
  {
   "cell_type": "code",
   "execution_count": 12,
   "id": "8f082191",
   "metadata": {},
   "outputs": [
    {
     "name": "stdout",
     "output_type": "stream",
     "text": [
      "\n",
      "Computing restricted minimal medium for 10% of sol1 growth...\n"
     ]
    }
   ],
   "source": [
    "# === Constrain to Medium Supporting 10% Growth with Member Constraints ===\n",
    "print(\"\\nComputing restricted minimal medium for 10% of sol1 growth...\")\n",
    "med_1 = minimal_medium(com, 0.1 * sol1.growth_rate, min_growth=rates, exports=True)\n",
    "com.medium = med_1"
   ]
  },
  {
   "cell_type": "code",
   "execution_count": 13,
   "id": "3daf28c4",
   "metadata": {},
   "outputs": [
    {
     "name": "stdout",
     "output_type": "stream",
     "text": [
      "\n",
      "Re-running pFBA under constrained minimal medium...\n"
     ]
    }
   ],
   "source": [
    "# === Rerun pFBA under new constrained medium ===\n",
    "print(\"\\nRe-running pFBA under constrained minimal medium...\")\n",
    "pfba_medium = com.optimize(fluxes=True, pfba=True)"
   ]
  },
  {
   "cell_type": "code",
   "execution_count": null,
   "id": "68ec205e",
   "metadata": {},
   "outputs": [
    {
     "ename": "OSError",
     "evalue": "Cannot save file into a non-existent directory: '/home/arog/Documents/GitHub/HGMB_Project/results'",
     "output_type": "error",
     "traceback": [
      "\u001b[0;31m---------------------------------------------------------------------------\u001b[0m",
      "\u001b[0;31mOSError\u001b[0m                                   Traceback (most recent call last)",
      "Cell \u001b[0;32mIn[14], line 2\u001b[0m\n\u001b[1;32m      1\u001b[0m \u001b[38;5;66;03m# === Export Fluxes ===\u001b[39;00m\n\u001b[0;32m----> 2\u001b[0m \u001b[43msol1\u001b[49m\u001b[38;5;241;43m.\u001b[39;49m\u001b[43mfluxes\u001b[49m\u001b[38;5;241;43m.\u001b[39;49m\u001b[43mto_csv\u001b[49m\u001b[43m(\u001b[49m\u001b[38;5;124;43m\"\u001b[39;49m\u001b[38;5;124;43m/home/arog/Documents/GitHub/HGMB_Project/results/fluxes_MICOM.csv\u001b[39;49m\u001b[38;5;124;43m\"\u001b[39;49m\u001b[43m,\u001b[49m\u001b[43m \u001b[49m\u001b[43msep\u001b[49m\u001b[38;5;241;43m=\u001b[39;49m\u001b[38;5;124;43m\"\u001b[39;49m\u001b[38;5;124;43m;\u001b[39;49m\u001b[38;5;124;43m\"\u001b[39;49m\u001b[43m)\u001b[49m\n\u001b[1;32m      3\u001b[0m \u001b[38;5;28mprint\u001b[39m(\u001b[38;5;124m\"\u001b[39m\u001b[38;5;130;01m\\n\u001b[39;00m\u001b[38;5;124mFluxes exported to \u001b[39m\u001b[38;5;124m'\u001b[39m\u001b[38;5;124mfluxes_MICOM.csv\u001b[39m\u001b[38;5;124m'\u001b[39m\u001b[38;5;124m\"\u001b[39m)\n",
      "File \u001b[0;32m~/miniconda3/envs/micom/lib/python3.10/site-packages/pandas/util/_decorators.py:333\u001b[0m, in \u001b[0;36mdeprecate_nonkeyword_arguments.<locals>.decorate.<locals>.wrapper\u001b[0;34m(*args, **kwargs)\u001b[0m\n\u001b[1;32m    327\u001b[0m \u001b[38;5;28;01mif\u001b[39;00m \u001b[38;5;28mlen\u001b[39m(args) \u001b[38;5;241m>\u001b[39m num_allow_args:\n\u001b[1;32m    328\u001b[0m     warnings\u001b[38;5;241m.\u001b[39mwarn(\n\u001b[1;32m    329\u001b[0m         msg\u001b[38;5;241m.\u001b[39mformat(arguments\u001b[38;5;241m=\u001b[39m_format_argument_list(allow_args)),\n\u001b[1;32m    330\u001b[0m         \u001b[38;5;167;01mFutureWarning\u001b[39;00m,\n\u001b[1;32m    331\u001b[0m         stacklevel\u001b[38;5;241m=\u001b[39mfind_stack_level(),\n\u001b[1;32m    332\u001b[0m     )\n\u001b[0;32m--> 333\u001b[0m \u001b[38;5;28;01mreturn\u001b[39;00m \u001b[43mfunc\u001b[49m\u001b[43m(\u001b[49m\u001b[38;5;241;43m*\u001b[39;49m\u001b[43margs\u001b[49m\u001b[43m,\u001b[49m\u001b[43m \u001b[49m\u001b[38;5;241;43m*\u001b[39;49m\u001b[38;5;241;43m*\u001b[39;49m\u001b[43mkwargs\u001b[49m\u001b[43m)\u001b[49m\n",
      "File \u001b[0;32m~/miniconda3/envs/micom/lib/python3.10/site-packages/pandas/core/generic.py:3967\u001b[0m, in \u001b[0;36mNDFrame.to_csv\u001b[0;34m(self, path_or_buf, sep, na_rep, float_format, columns, header, index, index_label, mode, encoding, compression, quoting, quotechar, lineterminator, chunksize, date_format, doublequote, escapechar, decimal, errors, storage_options)\u001b[0m\n\u001b[1;32m   3956\u001b[0m df \u001b[38;5;241m=\u001b[39m \u001b[38;5;28mself\u001b[39m \u001b[38;5;28;01mif\u001b[39;00m \u001b[38;5;28misinstance\u001b[39m(\u001b[38;5;28mself\u001b[39m, ABCDataFrame) \u001b[38;5;28;01melse\u001b[39;00m \u001b[38;5;28mself\u001b[39m\u001b[38;5;241m.\u001b[39mto_frame()\n\u001b[1;32m   3958\u001b[0m formatter \u001b[38;5;241m=\u001b[39m DataFrameFormatter(\n\u001b[1;32m   3959\u001b[0m     frame\u001b[38;5;241m=\u001b[39mdf,\n\u001b[1;32m   3960\u001b[0m     header\u001b[38;5;241m=\u001b[39mheader,\n\u001b[0;32m   (...)\u001b[0m\n\u001b[1;32m   3964\u001b[0m     decimal\u001b[38;5;241m=\u001b[39mdecimal,\n\u001b[1;32m   3965\u001b[0m )\n\u001b[0;32m-> 3967\u001b[0m \u001b[38;5;28;01mreturn\u001b[39;00m \u001b[43mDataFrameRenderer\u001b[49m\u001b[43m(\u001b[49m\u001b[43mformatter\u001b[49m\u001b[43m)\u001b[49m\u001b[38;5;241;43m.\u001b[39;49m\u001b[43mto_csv\u001b[49m\u001b[43m(\u001b[49m\n\u001b[1;32m   3968\u001b[0m \u001b[43m    \u001b[49m\u001b[43mpath_or_buf\u001b[49m\u001b[43m,\u001b[49m\n\u001b[1;32m   3969\u001b[0m \u001b[43m    \u001b[49m\u001b[43mlineterminator\u001b[49m\u001b[38;5;241;43m=\u001b[39;49m\u001b[43mlineterminator\u001b[49m\u001b[43m,\u001b[49m\n\u001b[1;32m   3970\u001b[0m \u001b[43m    \u001b[49m\u001b[43msep\u001b[49m\u001b[38;5;241;43m=\u001b[39;49m\u001b[43msep\u001b[49m\u001b[43m,\u001b[49m\n\u001b[1;32m   3971\u001b[0m \u001b[43m    \u001b[49m\u001b[43mencoding\u001b[49m\u001b[38;5;241;43m=\u001b[39;49m\u001b[43mencoding\u001b[49m\u001b[43m,\u001b[49m\n\u001b[1;32m   3972\u001b[0m \u001b[43m    \u001b[49m\u001b[43merrors\u001b[49m\u001b[38;5;241;43m=\u001b[39;49m\u001b[43merrors\u001b[49m\u001b[43m,\u001b[49m\n\u001b[1;32m   3973\u001b[0m \u001b[43m    \u001b[49m\u001b[43mcompression\u001b[49m\u001b[38;5;241;43m=\u001b[39;49m\u001b[43mcompression\u001b[49m\u001b[43m,\u001b[49m\n\u001b[1;32m   3974\u001b[0m \u001b[43m    \u001b[49m\u001b[43mquoting\u001b[49m\u001b[38;5;241;43m=\u001b[39;49m\u001b[43mquoting\u001b[49m\u001b[43m,\u001b[49m\n\u001b[1;32m   3975\u001b[0m \u001b[43m    \u001b[49m\u001b[43mcolumns\u001b[49m\u001b[38;5;241;43m=\u001b[39;49m\u001b[43mcolumns\u001b[49m\u001b[43m,\u001b[49m\n\u001b[1;32m   3976\u001b[0m \u001b[43m    \u001b[49m\u001b[43mindex_label\u001b[49m\u001b[38;5;241;43m=\u001b[39;49m\u001b[43mindex_label\u001b[49m\u001b[43m,\u001b[49m\n\u001b[1;32m   3977\u001b[0m \u001b[43m    \u001b[49m\u001b[43mmode\u001b[49m\u001b[38;5;241;43m=\u001b[39;49m\u001b[43mmode\u001b[49m\u001b[43m,\u001b[49m\n\u001b[1;32m   3978\u001b[0m \u001b[43m    \u001b[49m\u001b[43mchunksize\u001b[49m\u001b[38;5;241;43m=\u001b[39;49m\u001b[43mchunksize\u001b[49m\u001b[43m,\u001b[49m\n\u001b[1;32m   3979\u001b[0m \u001b[43m    \u001b[49m\u001b[43mquotechar\u001b[49m\u001b[38;5;241;43m=\u001b[39;49m\u001b[43mquotechar\u001b[49m\u001b[43m,\u001b[49m\n\u001b[1;32m   3980\u001b[0m \u001b[43m    \u001b[49m\u001b[43mdate_format\u001b[49m\u001b[38;5;241;43m=\u001b[39;49m\u001b[43mdate_format\u001b[49m\u001b[43m,\u001b[49m\n\u001b[1;32m   3981\u001b[0m \u001b[43m    \u001b[49m\u001b[43mdoublequote\u001b[49m\u001b[38;5;241;43m=\u001b[39;49m\u001b[43mdoublequote\u001b[49m\u001b[43m,\u001b[49m\n\u001b[1;32m   3982\u001b[0m \u001b[43m    \u001b[49m\u001b[43mescapechar\u001b[49m\u001b[38;5;241;43m=\u001b[39;49m\u001b[43mescapechar\u001b[49m\u001b[43m,\u001b[49m\n\u001b[1;32m   3983\u001b[0m \u001b[43m    \u001b[49m\u001b[43mstorage_options\u001b[49m\u001b[38;5;241;43m=\u001b[39;49m\u001b[43mstorage_options\u001b[49m\u001b[43m,\u001b[49m\n\u001b[1;32m   3984\u001b[0m \u001b[43m\u001b[49m\u001b[43m)\u001b[49m\n",
      "File \u001b[0;32m~/miniconda3/envs/micom/lib/python3.10/site-packages/pandas/io/formats/format.py:1014\u001b[0m, in \u001b[0;36mDataFrameRenderer.to_csv\u001b[0;34m(self, path_or_buf, encoding, sep, columns, index_label, mode, compression, quoting, quotechar, lineterminator, chunksize, date_format, doublequote, escapechar, errors, storage_options)\u001b[0m\n\u001b[1;32m    993\u001b[0m     created_buffer \u001b[38;5;241m=\u001b[39m \u001b[38;5;28;01mFalse\u001b[39;00m\n\u001b[1;32m    995\u001b[0m csv_formatter \u001b[38;5;241m=\u001b[39m CSVFormatter(\n\u001b[1;32m    996\u001b[0m     path_or_buf\u001b[38;5;241m=\u001b[39mpath_or_buf,\n\u001b[1;32m    997\u001b[0m     lineterminator\u001b[38;5;241m=\u001b[39mlineterminator,\n\u001b[0;32m   (...)\u001b[0m\n\u001b[1;32m   1012\u001b[0m     formatter\u001b[38;5;241m=\u001b[39m\u001b[38;5;28mself\u001b[39m\u001b[38;5;241m.\u001b[39mfmt,\n\u001b[1;32m   1013\u001b[0m )\n\u001b[0;32m-> 1014\u001b[0m \u001b[43mcsv_formatter\u001b[49m\u001b[38;5;241;43m.\u001b[39;49m\u001b[43msave\u001b[49m\u001b[43m(\u001b[49m\u001b[43m)\u001b[49m\n\u001b[1;32m   1016\u001b[0m \u001b[38;5;28;01mif\u001b[39;00m created_buffer:\n\u001b[1;32m   1017\u001b[0m     \u001b[38;5;28;01massert\u001b[39;00m \u001b[38;5;28misinstance\u001b[39m(path_or_buf, StringIO)\n",
      "File \u001b[0;32m~/miniconda3/envs/micom/lib/python3.10/site-packages/pandas/io/formats/csvs.py:251\u001b[0m, in \u001b[0;36mCSVFormatter.save\u001b[0;34m(self)\u001b[0m\n\u001b[1;32m    247\u001b[0m \u001b[38;5;250m\u001b[39m\u001b[38;5;124;03m\"\"\"\u001b[39;00m\n\u001b[1;32m    248\u001b[0m \u001b[38;5;124;03mCreate the writer & save.\u001b[39;00m\n\u001b[1;32m    249\u001b[0m \u001b[38;5;124;03m\"\"\"\u001b[39;00m\n\u001b[1;32m    250\u001b[0m \u001b[38;5;66;03m# apply compression and byte/text conversion\u001b[39;00m\n\u001b[0;32m--> 251\u001b[0m \u001b[38;5;28;01mwith\u001b[39;00m \u001b[43mget_handle\u001b[49m\u001b[43m(\u001b[49m\n\u001b[1;32m    252\u001b[0m \u001b[43m    \u001b[49m\u001b[38;5;28;43mself\u001b[39;49m\u001b[38;5;241;43m.\u001b[39;49m\u001b[43mfilepath_or_buffer\u001b[49m\u001b[43m,\u001b[49m\n\u001b[1;32m    253\u001b[0m \u001b[43m    \u001b[49m\u001b[38;5;28;43mself\u001b[39;49m\u001b[38;5;241;43m.\u001b[39;49m\u001b[43mmode\u001b[49m\u001b[43m,\u001b[49m\n\u001b[1;32m    254\u001b[0m \u001b[43m    \u001b[49m\u001b[43mencoding\u001b[49m\u001b[38;5;241;43m=\u001b[39;49m\u001b[38;5;28;43mself\u001b[39;49m\u001b[38;5;241;43m.\u001b[39;49m\u001b[43mencoding\u001b[49m\u001b[43m,\u001b[49m\n\u001b[1;32m    255\u001b[0m \u001b[43m    \u001b[49m\u001b[43merrors\u001b[49m\u001b[38;5;241;43m=\u001b[39;49m\u001b[38;5;28;43mself\u001b[39;49m\u001b[38;5;241;43m.\u001b[39;49m\u001b[43merrors\u001b[49m\u001b[43m,\u001b[49m\n\u001b[1;32m    256\u001b[0m \u001b[43m    \u001b[49m\u001b[43mcompression\u001b[49m\u001b[38;5;241;43m=\u001b[39;49m\u001b[38;5;28;43mself\u001b[39;49m\u001b[38;5;241;43m.\u001b[39;49m\u001b[43mcompression\u001b[49m\u001b[43m,\u001b[49m\n\u001b[1;32m    257\u001b[0m \u001b[43m    \u001b[49m\u001b[43mstorage_options\u001b[49m\u001b[38;5;241;43m=\u001b[39;49m\u001b[38;5;28;43mself\u001b[39;49m\u001b[38;5;241;43m.\u001b[39;49m\u001b[43mstorage_options\u001b[49m\u001b[43m,\u001b[49m\n\u001b[1;32m    258\u001b[0m \u001b[43m\u001b[49m\u001b[43m)\u001b[49m \u001b[38;5;28;01mas\u001b[39;00m handles:\n\u001b[1;32m    259\u001b[0m     \u001b[38;5;66;03m# Note: self.encoding is irrelevant here\u001b[39;00m\n\u001b[1;32m    260\u001b[0m     \u001b[38;5;28mself\u001b[39m\u001b[38;5;241m.\u001b[39mwriter \u001b[38;5;241m=\u001b[39m csvlib\u001b[38;5;241m.\u001b[39mwriter(\n\u001b[1;32m    261\u001b[0m         handles\u001b[38;5;241m.\u001b[39mhandle,\n\u001b[1;32m    262\u001b[0m         lineterminator\u001b[38;5;241m=\u001b[39m\u001b[38;5;28mself\u001b[39m\u001b[38;5;241m.\u001b[39mlineterminator,\n\u001b[0;32m   (...)\u001b[0m\n\u001b[1;32m    267\u001b[0m         quotechar\u001b[38;5;241m=\u001b[39m\u001b[38;5;28mself\u001b[39m\u001b[38;5;241m.\u001b[39mquotechar,\n\u001b[1;32m    268\u001b[0m     )\n\u001b[1;32m    270\u001b[0m     \u001b[38;5;28mself\u001b[39m\u001b[38;5;241m.\u001b[39m_save()\n",
      "File \u001b[0;32m~/miniconda3/envs/micom/lib/python3.10/site-packages/pandas/io/common.py:749\u001b[0m, in \u001b[0;36mget_handle\u001b[0;34m(path_or_buf, mode, encoding, compression, memory_map, is_text, errors, storage_options)\u001b[0m\n\u001b[1;32m    747\u001b[0m \u001b[38;5;66;03m# Only for write methods\u001b[39;00m\n\u001b[1;32m    748\u001b[0m \u001b[38;5;28;01mif\u001b[39;00m \u001b[38;5;124m\"\u001b[39m\u001b[38;5;124mr\u001b[39m\u001b[38;5;124m\"\u001b[39m \u001b[38;5;129;01mnot\u001b[39;00m \u001b[38;5;129;01min\u001b[39;00m mode \u001b[38;5;129;01mand\u001b[39;00m is_path:\n\u001b[0;32m--> 749\u001b[0m     \u001b[43mcheck_parent_directory\u001b[49m\u001b[43m(\u001b[49m\u001b[38;5;28;43mstr\u001b[39;49m\u001b[43m(\u001b[49m\u001b[43mhandle\u001b[49m\u001b[43m)\u001b[49m\u001b[43m)\u001b[49m\n\u001b[1;32m    751\u001b[0m \u001b[38;5;28;01mif\u001b[39;00m compression:\n\u001b[1;32m    752\u001b[0m     \u001b[38;5;28;01mif\u001b[39;00m compression \u001b[38;5;241m!=\u001b[39m \u001b[38;5;124m\"\u001b[39m\u001b[38;5;124mzstd\u001b[39m\u001b[38;5;124m\"\u001b[39m:\n\u001b[1;32m    753\u001b[0m         \u001b[38;5;66;03m# compression libraries do not like an explicit text-mode\u001b[39;00m\n",
      "File \u001b[0;32m~/miniconda3/envs/micom/lib/python3.10/site-packages/pandas/io/common.py:616\u001b[0m, in \u001b[0;36mcheck_parent_directory\u001b[0;34m(path)\u001b[0m\n\u001b[1;32m    614\u001b[0m parent \u001b[38;5;241m=\u001b[39m Path(path)\u001b[38;5;241m.\u001b[39mparent\n\u001b[1;32m    615\u001b[0m \u001b[38;5;28;01mif\u001b[39;00m \u001b[38;5;129;01mnot\u001b[39;00m parent\u001b[38;5;241m.\u001b[39mis_dir():\n\u001b[0;32m--> 616\u001b[0m     \u001b[38;5;28;01mraise\u001b[39;00m \u001b[38;5;167;01mOSError\u001b[39;00m(\u001b[38;5;124mrf\u001b[39m\u001b[38;5;124m\"\u001b[39m\u001b[38;5;124mCannot save file into a non-existent directory: \u001b[39m\u001b[38;5;124m'\u001b[39m\u001b[38;5;132;01m{\u001b[39;00mparent\u001b[38;5;132;01m}\u001b[39;00m\u001b[38;5;124m'\u001b[39m\u001b[38;5;124m\"\u001b[39m)\n",
      "\u001b[0;31mOSError\u001b[0m: Cannot save file into a non-existent directory: '/home/arog/Documents/GitHub/HGMB_Project/results'"
     ]
    }
   ],
   "source": [
    "# === Export Fluxes ===\n",
    "sol1.fluxes.to_csv(\"/home/arog/Documents/GitHub/HGMB_Project/comm_results/fluxes_MICOM.csv\", sep=\";\")\n",
    "print(\"\\nFluxes exported to 'fluxes_MICOM.csv'\")"
   ]
  },
  {
   "cell_type": "code",
   "execution_count": null,
   "id": "bff08e33",
   "metadata": {},
   "outputs": [
    {
     "name": "stdout",
     "output_type": "stream",
     "text": [
      "Saving Community\n"
     ]
    }
   ],
   "source": [
    "# === Save Community Objective ===\n",
    "print(\"Saving Community\")\n",
    "com.to_pickle(\"/home/arog/models/xml/community/micom_com\")"
   ]
  },
  {
   "cell_type": "code",
   "execution_count": null,
   "id": "ff691818",
   "metadata": {},
   "outputs": [
    {
     "name": "stdout",
     "output_type": "stream",
     "text": [
      "\n",
      "Member growth rates under trade-off:\n",
      "                 abundance  growth_rate  reactions  metabolites\n",
      "compartments                                                   \n",
      "iEC1356_Bl21DE3   0.025104     0.082894       2740         1918\n",
      "iECSF_1327        0.072649     0.224130       2742         1951\n",
      "iECUMN_1333       0.171923     0.523835       2740         1935\n",
      "iETEC_1333        0.057054     0.176889       2756         1962\n",
      "iEcSMS35_1347     0.543917     1.652657       2746         1947\n",
      "iNRG857_1313      0.047165     0.147372       2735         1943\n",
      "iUMNK88_1353      0.015606     0.054238       2777         1969\n",
      "iUTI89_1310       0.043361     0.135329       2725         1940\n",
      "ic_1306           0.023221     0.076067       2726         1936\n",
      "medium                 NaN          NaN        385          385\n",
      "\n",
      "Restricted minimal medium (med_1):\n",
      "EX_ca2_m         0.005376\n",
      "EX_cl_m          0.005376\n",
      "EX_co2_m       -21.089918\n",
      "EX_cobalt2_m     0.000026\n",
      "EX_cu2_m         0.000732\n",
      "EX_glc__D_m     10.000000\n",
      "EX_h_m          -8.435452\n",
      "EX_h2o_m       -45.999761\n",
      "EX_fe2_m         0.008524\n",
      "EX_fe3_m         0.008064\n",
      "EX_k_m           0.201606\n",
      "EX_mg2_m         0.008959\n",
      "EX_mn2_m         0.000713\n",
      "EX_mobd_m        0.000133\n",
      "EX_trp__L_m      1.000000\n",
      "EX_nac_m         0.002296\n",
      "EX_nh4_m        10.094922\n",
      "EX_ni2_m         0.000334\n",
      "EX_o2_m         18.443049\n",
      "EX_pi_m          0.996675\n",
      "EX_zn2_m         0.000352\n",
      "EX_so4_m         0.260308\n",
      "dtype: float64\n",
      "\n",
      "Minimal medium (80%, minimized):\n",
      "EX_h2o_m       13.657999\n",
      "EX_trp__L_m     1.121952\n",
      "dtype: float64\n"
     ]
    }
   ],
   "source": [
    "# === Print Final Results ===\n",
    "print(\"\\nMember growth rates under trade-off:\")\n",
    "print(sol1.members)\n",
    "\n",
    "print(\"\\nRestricted minimal medium (med_1):\")\n",
    "print(med_1)\n",
    "\n",
    "print(\"\\nMinimal medium (80%, minimized):\")\n",
    "print(minMed)"
   ]
  }
 ],
 "metadata": {
  "kernelspec": {
   "display_name": "micom",
   "language": "python",
   "name": "python3"
  },
  "language_info": {
   "codemirror_mode": {
    "name": "ipython",
    "version": 3
   },
   "file_extension": ".py",
   "mimetype": "text/x-python",
   "name": "python",
   "nbconvert_exporter": "python",
   "pygments_lexer": "ipython3",
   "version": "3.10.16"
  }
 },
 "nbformat": 4,
 "nbformat_minor": 5
}
