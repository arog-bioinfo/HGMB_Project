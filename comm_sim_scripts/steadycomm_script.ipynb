{
 "cells": [
  {
   "cell_type": "markdown",
   "id": "2b9f4220",
   "metadata": {},
   "source": [
    "Imports"
   ]
  },
  {
   "cell_type": "code",
   "execution_count": 7,
   "id": "c5bbc758",
   "metadata": {},
   "outputs": [],
   "source": [
    "import os\n",
    "from reframed import load_cbmodel, save_cbmodel\n",
    "from reframed import Community, Environment\n",
    "from reframed import SteadyCom, SteadyComVA"
   ]
  },
  {
   "cell_type": "code",
   "execution_count": 8,
   "id": "55d3501e",
   "metadata": {},
   "outputs": [
    {
     "name": "stdout",
     "output_type": "stream",
     "text": [
      "Loading model: iYL1228\n",
      "Loading model: iSDY_1059\n",
      "Loading model: iECSE_1348\n",
      "Loading model: iUMNK88_1353\n",
      "Loading model: iETEC_1333\n",
      "Loading model: iECSF_1327\n",
      "Loading model: iEcSMS35_1347\n",
      "Loading model: iEC1356_Bl21DE3\n",
      "Loading model: iECUMN_1333\n",
      "Loading model: iNRG857_1313\n",
      "Loading model: iUTI89_1310\n",
      "Loading model: ic_1306\n"
     ]
    }
   ],
   "source": [
    "basePath = \"/home/arog/models/xml\"\n",
    "\n",
    "list_models = []\n",
    "\n",
    "# === CONFIGURATION ===\n",
    "basePath = \"/home/arog/models/xml\"\n",
    "list_models = []\n",
    "\n",
    "# === Load models and unify biomass reaction ID ===\n",
    "for file in os.listdir(basePath):\n",
    "    if file.endswith(\".xml\"):\n",
    "        SBML_FILE = os.path.join(basePath, file)\n",
    "        model_id = os.path.splitext(file)[0]\n",
    "        print(f\"Loading model: {model_id}\")\n",
    "\n",
    "        # Load with BiGG flavor to preserve reaction IDs\n",
    "        model = load_cbmodel(SBML_FILE, flavor=\"bigg\")\n",
    "        list_models.append(model)\n",
    "\n"
   ]
  },
  {
   "cell_type": "code",
   "execution_count": 9,
   "id": "3c0f3bd0",
   "metadata": {},
   "outputs": [],
   "source": [
    "community = Community('Gut', models = list_models)"
   ]
  },
  {
   "cell_type": "code",
   "execution_count": 10,
   "id": "6d7d993a",
   "metadata": {},
   "outputs": [
    {
     "name": "stdout",
     "output_type": "stream",
     "text": [
      "===============================================\n",
      "=== SteadyComm ===\n"
     ]
    },
    {
     "name": "stderr",
     "output_type": "stream",
     "text": [
      "/home/arog/miniconda3/envs/steadycom/lib/python3.10/site-packages/reframed/community/SteadyCom.py:173: UserWarning: Max iterations exceeded.\n",
      "  warn(\"Max iterations exceeded.\")\n"
     ]
    },
    {
     "name": "stdout",
     "output_type": "stream",
     "text": [
      "Community growth: 105.79296875\n",
      "iYL1228\t0.0\n",
      "iSDY_1059\t0.0\n",
      "iECSE_1348\t0.0\n",
      "iUMNK88_1353\t0.0\n",
      "iETEC_1333\t0.0\n",
      "iECSF_1327\t0.0\n",
      "iEcSMS35_1347\t0.0\n",
      "iEC1356_Bl21DE3\t0.0\n",
      "iECUMN_1333\t0.0\n",
      "iNRG857_1313\t0.0\n",
      "iUTI89_1310\t0.0\n",
      "ic_1306\t1.0\n",
      "{('ic_1306', 'M_ac_e'): 1000.0, ('ic_1306', 'M_acald_e'): -1000.0, ('ic_1306', 'M_5dglcn_e'): 1000.0, ('ic_1306', 'M_ade_e'): 1000.0, ('ic_1306', 'M_adn_e'): -1000.0, ('ic_1306', 'M_LalaDgluMdapDala_e'): -2.939775015625, ('ic_1306', 'M_akg_e'): -1000.0, ('ic_1306', 'M_ala__D_e'): 1.4698875078125, ('ic_1306', 'M_ala__L_e'): 887.7836989511724, ('ic_1306', 'M_arg__L_e'): -1000.0, ('ic_1306', 'M_asn__L_e'): -25.50192408203125, ('ic_1306', 'M_cit_e'): 939.8135410722641, ('ic_1306', 'M_asp__L_e'): -25.50192408203125, ('ic_1306', 'M_cys__L_e'): -9.916609718750053, ('ic_1306', 'M_cl_e'): -0.55065240234375, ('ic_1306', 'M_cytd_e'): -19.750595128906248, ('ic_1306', 'M_dad_2_e'): -21.613186136718696, ('ic_1306', 'M_co2_e'): 1000.0, ('ic_1306', 'M_cobalt2_e'): -0.00264482421875, ('ic_1306', 'M_ca2_e'): -0.5506524023437578, ('ic_1306', 'M_dha_e'): 780.5708496074191, ('ic_1306', 'M_cu2_e'): -0.07500721484375, ('ic_1306', 'M_for_e'): 0.21232648828127312, ('ic_1306', 'M_duri_e'): -8.73447908593755, ('ic_1306', 'M_fruur_e'): -1000.0, ('ic_1306', 'M_dms_e'): 1000.0, ('ic_1306', 'M_dmso_e'): -1000.0, ('ic_1306', 'M_etoh_e'): 30.347665222656246, ('ic_1306', 'M_glcur_e'): 1000.0, ('ic_1306', 'M_fe2_e'): -1.6991408710937503, ('ic_1306', 'M_glu__L_e'): -995.942741193358, ('ic_1306', 'M_galct__D_e'): -841.205821929685, ('ic_1306', 'M_gly_e'): 286.1715508613313, ('ic_1306', 'M_glyald_e'): -1000.0, ('ic_1306', 'M_glyc_e'): 875.8615815839871, ('ic_1306', 'M_glyc__R_e'): 841.205821929685, ('ic_1306', 'M_gam6p_e'): -5.87955003125, ('ic_1306', 'M_glyclt_e'): 0.07077549609374971, ('ic_1306', 'M_glc__D_e'): -714.2010223750008, ('ic_1306', 'M_glcn_e'): -285.7989776249992, ('ic_1306', 'M_his__L_e'): -10.022614273437501, ('ic_1306', 'M_gsn_e'): -1000.0, ('ic_1306', 'M_leu__L_e'): -47.66301200390626, ('ic_1306', 'M_gua_e'): 974.216560828125, ('ic_1306', 'M_h_e'): 1000.0, ('ic_1306', 'M_hxan_e'): -952.5561910273439, ('ic_1306', 'M_lys__L_e'): -36.30402094921874, ('ic_1306', 'M_h2o_e'): -63.35549464453243, ('ic_1306', 'M_ile__L_e'): -30.735925417968748, ('ic_1306', 'M_indole_e'): -1000.0, ('ic_1306', 'M_ins_e'): 952.5561910273439, ('ic_1306', 'M_k_e'): -20.65004694921875, ('ic_1306', 'M_kdo2lipid4_e'): -2.0583080000000002, ('ic_1306', 'M_lac__D_e'): -1000.0, ('ic_1306', 'M_met__L_e'): -16.282490027343744, ('ic_1306', 'M_n2o_e'): 500.0, ('ic_1306', 'M_mg2_e'): -0.9177540039062501, ('ic_1306', 'M_mn2_e'): -0.07310294140625, ('ic_1306', 'M_nh4_e'): 1000.0, ('ic_1306', 'M_ni2_e'): -0.03417112890625, ('ic_1306', 'M_mobd_e'): -0.01364729296875, ('ic_1306', 'M_nmn_e'): -0.24099638281290936, ('ic_1306', 'M_no_e'): -1000.0, ('ic_1306', 'M_o2_e'): -357.58430243359413, ('ic_1306', 'M_pro__L_e'): -23.38606470703125, ('ic_1306', 'M_orn_e'): 968.7072861875, ('ic_1306', 'M_ser__D_e'): -1000.0, ('ic_1306', 'M_phe__L_e'): -19.59973435546875, ('ic_1306', 'M_pyr_e'): 1000.0, ('ic_1306', 'M_ser__L_e'): 959.5999926796875, ('ic_1306', 'M_skm_e'): -0.0943673281249997, ('ic_1306', 'M_pi_e'): -91.81401482421987, ('ic_1306', 'M_pnto__R_e'): -0.06093675000005305, ('ic_1306', 'M_so4_e'): -0.4589298984375, ('ic_1306', 'M_tmao_e'): -650.8455277304683, ('ic_1306', 'M_succ_e'): 1000.0, ('ic_1306', 'M_ura_e'): 993.4892891171876, ('ic_1306', 'M_trp__L_e'): 993.9864102773438, ('ic_1306', 'M_uri_e'): -1000.0, ('ic_1306', 'M_val__L_e'): -44.7675642421875, ('ic_1306', 'M_xan_e'): -1000.0, ('ic_1306', 'M_tyr__L_e'): -14.588427218749999, ('ic_1306', 'M_thm_e'): -0.02359183203125, ('ic_1306', 'M_xtsn_e'): 1000.0, ('ic_1306', 'M_thr__L_e'): -375.3495222832063, ('ic_1306', 'M_zn2_e'): -0.03607540234375, ('ic_1306', 'M_tma_e'): 650.8455277304683, ('ic_1306', 'M_btn_e'): -0.0002115859375, ('ic_1306', 'M_12ppd__R_e'): 0.38942391796875003, ('ic_1306', 'M_alltn_e'): -31.196966593750616}\n"
     ]
    }
   ],
   "source": [
    "print('===============================================')\n",
    "print('=== SteadyComm ===')\n",
    "\n",
    "steady_sol = SteadyCom(community)\n",
    "\n",
    "print(steady_sol)\n",
    "print(steady_sol.exchange_map)"
   ]
  },
  {
   "cell_type": "code",
   "execution_count": 13,
   "id": "49e87d7a",
   "metadata": {},
   "outputs": [
    {
     "name": "stderr",
     "output_type": "stream",
     "text": [
      "/home/arog/miniconda3/envs/steadycom/lib/python3.10/site-packages/reframed/community/SteadyCom.py:173: UserWarning: Max iterations exceeded.\n",
      "  warn(\"Max iterations exceeded.\")\n"
     ]
    },
    {
     "name": "stdout",
     "output_type": "stream",
     "text": [
      "===============================================\n",
      "=== SteadyCommFVA ===\n",
      "{'iYL1228': [0.0, 0.0], 'iSDY_1059': [0.0, 1.0], 'iECSE_1348': [0.0, 1.0], 'iUMNK88_1353': [0.0, 1.0], 'iETEC_1333': [0.0, 1.0], 'iECSF_1327': [0.0, 1.0], 'iEcSMS35_1347': [0.0, 1.0], 'iEC1356_Bl21DE3': [0.0, 1.0], 'iECUMN_1333': [0.0, 1.0], 'iNRG857_1313': [0.0, 1.0], 'iUTI89_1310': [0.0, 1.0], 'ic_1306': [0.0, 1.0]}\n"
     ]
    }
   ],
   "source": [
    "steady_solFVA = SteadyComVA(community, obj_frac=0.8)\n",
    "print('===============================================')\n",
    "print('=== SteadyCommFVA ===')\n",
    "print(steady_solFVA)"
   ]
  },
  {
   "cell_type": "code",
   "execution_count": null,
   "id": "40605ed8",
   "metadata": {},
   "outputs": [
    {
     "ename": "AttributeError",
     "evalue": "'Community' object has no attribute 'compartments'",
     "output_type": "error",
     "traceback": [
      "\u001b[0;31m---------------------------------------------------------------------------\u001b[0m",
      "\u001b[0;31mAttributeError\u001b[0m                            Traceback (most recent call last)",
      "Cell \u001b[0;32mIn[12], line 2\u001b[0m\n\u001b[1;32m      1\u001b[0m save_path \u001b[38;5;241m=\u001b[39m \u001b[38;5;124m\"\u001b[39m\u001b[38;5;124m/home/arog/models/xml/community\u001b[39m\u001b[38;5;124m\"\u001b[39m\n\u001b[0;32m----> 2\u001b[0m \u001b[43msave_cbmodel\u001b[49m\u001b[43m(\u001b[49m\u001b[43mcommunity\u001b[49m\u001b[43m,\u001b[49m\u001b[43m \u001b[49m\u001b[43msave_path\u001b[49m\u001b[43m)\u001b[49m\n",
      "File \u001b[0;32m~/miniconda3/envs/steadycom/lib/python3.10/site-packages/reframed/io/sbml.py:630\u001b[0m, in \u001b[0;36msave_cbmodel\u001b[0;34m(model, filename, flavor)\u001b[0m\n\u001b[1;32m    627\u001b[0m     fbc_model\u001b[38;5;241m.\u001b[39msetStrict(\u001b[38;5;28;01mTrue\u001b[39;00m)\n\u001b[1;32m    628\u001b[0m     document\u001b[38;5;241m.\u001b[39msetPackageRequired(\u001b[38;5;124m'\u001b[39m\u001b[38;5;124mfbc\u001b[39m\u001b[38;5;124m'\u001b[39m, \u001b[38;5;28;01mFalse\u001b[39;00m)\n\u001b[0;32m--> 630\u001b[0m \u001b[43msave_compartments\u001b[49m\u001b[43m(\u001b[49m\u001b[43mmodel\u001b[49m\u001b[43m,\u001b[49m\u001b[43m \u001b[49m\u001b[43msbml_model\u001b[49m\u001b[43m)\u001b[49m\n\u001b[1;32m    631\u001b[0m save_metabolites(model, sbml_model, flavor)\n\u001b[1;32m    632\u001b[0m save_reactions(model, sbml_model)\n",
      "File \u001b[0;32m~/miniconda3/envs/steadycom/lib/python3.10/site-packages/reframed/io/sbml.py:642\u001b[0m, in \u001b[0;36msave_compartments\u001b[0;34m(model, sbml_model)\u001b[0m\n\u001b[1;32m    641\u001b[0m \u001b[38;5;28;01mdef\u001b[39;00m\u001b[38;5;250m \u001b[39m\u001b[38;5;21msave_compartments\u001b[39m(model, sbml_model):\n\u001b[0;32m--> 642\u001b[0m     \u001b[38;5;28;01mfor\u001b[39;00m compartment \u001b[38;5;129;01min\u001b[39;00m \u001b[43mmodel\u001b[49m\u001b[38;5;241;43m.\u001b[39;49m\u001b[43mcompartments\u001b[49m\u001b[38;5;241m.\u001b[39mvalues():\n\u001b[1;32m    643\u001b[0m         sbml_compartment \u001b[38;5;241m=\u001b[39m sbml_model\u001b[38;5;241m.\u001b[39mcreateCompartment()\n\u001b[1;32m    644\u001b[0m         sbml_compartment\u001b[38;5;241m.\u001b[39msetId(compartment\u001b[38;5;241m.\u001b[39mid)\n",
      "\u001b[0;31mAttributeError\u001b[0m: 'Community' object has no attribute 'compartments'"
     ]
    }
   ],
   "source": [
    "# save_path = \"/home/arog/models/xml/community\"\n",
    "# save_cbmodel(community, save_path)"
   ]
  }
 ],
 "metadata": {
  "kernelspec": {
   "display_name": "steadycom",
   "language": "python",
   "name": "python3"
  },
  "language_info": {
   "codemirror_mode": {
    "name": "ipython",
    "version": 3
   },
   "file_extension": ".py",
   "mimetype": "text/x-python",
   "name": "python",
   "nbconvert_exporter": "python",
   "pygments_lexer": "ipython3",
   "version": "3.10.16"
  }
 },
 "nbformat": 4,
 "nbformat_minor": 5
}
