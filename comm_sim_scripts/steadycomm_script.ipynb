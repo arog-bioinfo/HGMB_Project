{
 "cells": [
  {
   "cell_type": "markdown",
   "id": "2b9f4220",
   "metadata": {},
   "source": [
    "# Imports"
   ]
  },
  {
   "cell_type": "code",
   "execution_count": 13,
   "id": "c5bbc758",
   "metadata": {},
   "outputs": [],
   "source": [
    "import os\n",
    "from reframed import load_cbmodel, save_cbmodel\n",
    "from reframed import Community, Environment\n",
    "from reframed import SteadyCom, SteadyComVA"
   ]
  },
  {
   "cell_type": "markdown",
   "id": "3f4b830d",
   "metadata": {},
   "source": [
    "# Competitive Medium"
   ]
  },
  {
   "cell_type": "code",
   "execution_count": 14,
   "id": "5ba36c0d",
   "metadata": {},
   "outputs": [],
   "source": [
    "import pandas as pd\n",
    "from collections import defaultdict\n",
    "import glob\n",
    "\n",
    "# Match all minimal medium files (adjust path if needed)\n",
    "file_paths = glob.glob(\"/home/arog/Documents/GitHub/HGMB_Project/solo_sim_results/*minimal_medium.csv\")\n",
    "\n",
    "# Dictionary to store max flux per reaction\n",
    "competitive_medium_dict = defaultdict(tuple)\n",
    "\n",
    "for file_path in file_paths:\n",
    "    df = pd.read_csv(file_path, header=0, names=[\"reaction\", \"flux\"])\n",
    "    for _, row in df.iterrows():\n",
    "        reaction = \"R_\" + row[\"reaction\"]\n",
    "        flux = float(row[\"flux\"])\n",
    "        if reaction not in competitive_medium_dict.keys() or -flux < competitive_medium_dict[reaction][0]:\n",
    "            competitive_medium_dict[reaction] = (-flux, 10)\n"
   ]
  },
  {
   "cell_type": "code",
   "execution_count": 15,
   "id": "c8ca192b",
   "metadata": {},
   "outputs": [
    {
     "data": {
      "text/plain": [
       "defaultdict(tuple,\n",
       "            {'R_EX_arg__L_e': (-0.071755000002895, 10),\n",
       "             'R_EX_btn_e': (-2.0000004496978366e-07, 10),\n",
       "             'R_EX_ca2_e': (-0.0005205, 10),\n",
       "             'R_EX_cl_e': (-0.0005205, 10),\n",
       "             'R_EX_cobalt2_e': (-2.5e-06, 10),\n",
       "             'R_EX_cu2_e': (-7.09e-05, 10),\n",
       "             'R_EX_cytd_e': (-0.0160525, 10),\n",
       "             'R_EX_gsn_e': (-0.0810423800063261, 10),\n",
       "             'R_EX_gthrd_e': (-0.0247645000002183, 10),\n",
       "             'R_EX_his__L_e': (-0.0094738, 10),\n",
       "             'R_EX_fe2_e': (-0.0008253, 10),\n",
       "             'R_EX_fe3_e': (-0.0007808000000295, 10),\n",
       "             'R_EX_k_e': (-0.0195193, 10),\n",
       "             'R_EX_kdo2lipid4_e': (-0.0019456, 10),\n",
       "             'R_EX_mg2_e': (-0.0008675, 10),\n",
       "             'R_EX_mn2_e': (-6.91e-05, 10),\n",
       "             'R_EX_tre_e': (-0.9345097990737062, 10),\n",
       "             'R_EX_trp__L_e': (-0.1, 10),\n",
       "             'R_EX_mobd_e': (-1.29e-05, 10),\n",
       "             'R_EX_tyr__L_e': (-0.0137895999999999, 10),\n",
       "             'R_EX_uacgam_e': (-0.0055576, 10),\n",
       "             'R_EX_udpg_e': (-0.0406144500002029, 10),\n",
       "             'R_EX_ni2_e': (-3.23e-05, 10),\n",
       "             'R_EX_nmn_e': (-0.0002278000001751, 10),\n",
       "             'R_EX_no3_e': (-0.2814950000000248, 10),\n",
       "             'R_EX_o2_e': (-1.142428272685449, 10),\n",
       "             'R_EX_zn2_e': (-3.41e-05, 10),\n",
       "             'R_EX_phe__L_e': (-0.0185265, 10),\n",
       "             'R_EX_progly_e': (-0.0160136999999613, 10),\n",
       "             'R_EX_pydx_e': (-2.23e-05, 10),\n",
       "             'R_EX_so4_e': (-0.0004338, 10),\n",
       "             'R_EX_thm_e': (-2.23e-05, 10),\n",
       "             'R_EX_LalaDgluMdapDala_e': (-0.0370949, 10),\n",
       "             'R_EX_adn_e': (-1.2800000000000027, 10),\n",
       "             'R_EX_gmp_e': (-0.0264129000019024, 10),\n",
       "             'R_EX_fe3dcit_e': (-0.0016061, 10),\n",
       "             'R_EX_malthx_e': (-0.8214264202246151, 10),\n",
       "             'R_EX_udpacgal_e': (-0.0330795000000246, 10),\n",
       "             'R_EX_leu__L_e': (-0.2, 10),\n",
       "             'R_EX_dachi_e': (-0.15, 10),\n",
       "             'R_EX_cdpg_e': (-0.1, 10),\n",
       "             'R_EX_dad_2_e': (-1.1000000000000014, 10),\n",
       "             'R_EX_ribflv_e': (-0.1, 10),\n",
       "             'R_EX_raffin_e': (-3.555092592592599, 10),\n",
       "             'R_EX_man6pglyc_e': (-4.299999999999991, 10),\n",
       "             'R_EX_pnto__R_e': (-0.1999999999999993, 10),\n",
       "             'R_EX_uaccg_e': (-0.1, 10),\n",
       "             'R_EX_val__L_e': (-0.2, 10),\n",
       "             'R_EX_gthox_e': (-0.2499999999999996, 10),\n",
       "             'R_EX_14glucan_e': (-1.4744061105262107, 10),\n",
       "             'R_EX_3cmp_e': (-0.0484999999999899, 10),\n",
       "             'R_EX_3gmp_e': (-0.0656519999966569, 10),\n",
       "             'R_EX_amp_e': (-0.0204296999999087, 10),\n",
       "             'R_EX_3amp_e': (-0.0204297000000993, 10)})"
      ]
     },
     "execution_count": 15,
     "metadata": {},
     "output_type": "execute_result"
    }
   ],
   "source": [
    "competitive_medium_dict"
   ]
  },
  {
   "cell_type": "markdown",
   "id": "22995534",
   "metadata": {},
   "source": [
    "# Mercyful Medium"
   ]
  },
  {
   "cell_type": "code",
   "execution_count": 16,
   "id": "06d1af57",
   "metadata": {},
   "outputs": [],
   "source": [
    "import pandas as pd\n",
    "from collections import defaultdict\n",
    "import glob\n",
    "\n",
    "# Match all minimal medium files (adjust path if needed)\n",
    "file_paths = glob.glob(\"/home/arog/Documents/GitHub/HGMB_Project/solo_sim_results/*minimal_medium.csv\")\n",
    "\n",
    "# Dictionary to store max flux per reaction\n",
    "mercyful_medium_dict = defaultdict(tuple)\n",
    "\n",
    "for file_path in file_paths:\n",
    "    df = pd.read_csv(file_path, header=0, names=[\"reaction\", \"flux\"])\n",
    "    for _, row in df.iterrows():\n",
    "        reaction = \"R_\" + row[\"reaction\"]\n",
    "        flux = float(row[\"flux\"])\n",
    "        if reaction not in mercyful_medium_dict.keys():\n",
    "            mercyful_medium_dict[reaction] = (- flux, 25)\n",
    "        else:\n",
    "            x = mercyful_medium_dict[reaction]\n",
    "            mercyful_medium_dict[reaction] = (x[0]- flux, 25)"
   ]
  },
  {
   "cell_type": "code",
   "execution_count": 17,
   "id": "4497a537",
   "metadata": {},
   "outputs": [
    {
     "data": {
      "text/plain": [
       "defaultdict(tuple,\n",
       "            {'R_EX_arg__L_e': (-0.39712620000272614, 25),\n",
       "             'R_EX_btn_e': (-2.200000044969783e-06, 25),\n",
       "             'R_EX_ca2_e': (-0.0057254999999796, 25),\n",
       "             'R_EX_cl_e': (-0.0057255000000000006, 25),\n",
       "             'R_EX_cobalt2_e': (-2.75e-05, 25),\n",
       "             'R_EX_cu2_e': (-0.0007798999999687878, 25),\n",
       "             'R_EX_cytd_e': (-0.0160525, 25),\n",
       "             'R_EX_gsn_e': (-0.7100132600090306, 25),\n",
       "             'R_EX_gthrd_e': (-0.2897094999992866, 25),\n",
       "             'R_EX_his__L_e': (-0.11311180000000001, 25),\n",
       "             'R_EX_fe2_e': (-0.0057771, 25),\n",
       "             'R_EX_fe3_e': (-0.005465600000059, 25),\n",
       "             'R_EX_k_e': (-0.21471229999999997, 25),\n",
       "             'R_EX_kdo2lipid4_e': (-0.0214016, 25),\n",
       "             'R_EX_mg2_e': (-0.0095425, 25),\n",
       "             'R_EX_mn2_e': (-0.0007601, 25),\n",
       "             'R_EX_tre_e': (-0.9345097990737062, 25),\n",
       "             'R_EX_trp__L_e': (-0.11136860000000001, 25),\n",
       "             'R_EX_mobd_e': (-0.00014189999999999998, 25),\n",
       "             'R_EX_tyr__L_e': (-0.0137895999999999, 25),\n",
       "             'R_EX_uacgam_e': (-0.0055576, 25),\n",
       "             'R_EX_udpg_e': (-0.0406144500002029, 25),\n",
       "             'R_EX_ni2_e': (-0.0003552999999999999, 25),\n",
       "             'R_EX_nmn_e': (-0.00045560000012289997, 25),\n",
       "             'R_EX_no3_e': (-0.2814950000000248, 25),\n",
       "             'R_EX_o2_e': (-1.1625042726843313, 25),\n",
       "             'R_EX_zn2_e': (-0.0003751000000000001, 25),\n",
       "             'R_EX_phe__L_e': (-0.0185265, 25),\n",
       "             'R_EX_progly_e': (-0.0160136999999613, 25),\n",
       "             'R_EX_pydx_e': (-2.23e-05, 25),\n",
       "             'R_EX_so4_e': (-0.004771799999999999, 25),\n",
       "             'R_EX_thm_e': (-0.0002453, 25),\n",
       "             'R_EX_LalaDgluMdapDala_e': (-0.4341439000000421, 25),\n",
       "             'R_EX_adn_e': (-1.423007899998965, 25),\n",
       "             'R_EX_gmp_e': (-0.0912050999903508, 25),\n",
       "             'R_EX_fe3dcit_e': (-0.0064244, 25),\n",
       "             'R_EX_malthx_e': (-3.1817076844504006, 25),\n",
       "             'R_EX_udpacgal_e': (-0.33079499999993356, 25),\n",
       "             'R_EX_leu__L_e': (-0.2, 25),\n",
       "             'R_EX_dachi_e': (-0.15, 25),\n",
       "             'R_EX_cdpg_e': (-0.1, 25),\n",
       "             'R_EX_dad_2_e': (-1.1000000000000014, 25),\n",
       "             'R_EX_ribflv_e': (-0.1, 25),\n",
       "             'R_EX_raffin_e': (-3.555092592592599, 25),\n",
       "             'R_EX_man6pglyc_e': (-4.299999999999991, 25),\n",
       "             'R_EX_pnto__R_e': (-0.1999999999999993, 25),\n",
       "             'R_EX_uaccg_e': (-0.1, 25),\n",
       "             'R_EX_val__L_e': (-0.2, 25),\n",
       "             'R_EX_gthox_e': (-0.2499999999999996, 25),\n",
       "             'R_EX_14glucan_e': (-6.3611040844372715, 25),\n",
       "             'R_EX_3cmp_e': (-0.0484999999999899, 25),\n",
       "             'R_EX_3gmp_e': (-0.15662929999681893, 25),\n",
       "             'R_EX_amp_e': (-0.0408593999965773, 25),\n",
       "             'R_EX_3amp_e': (-0.0408593999998677, 25)})"
      ]
     },
     "execution_count": 17,
     "metadata": {},
     "output_type": "execute_result"
    }
   ],
   "source": [
    "mercyful_medium_dict"
   ]
  },
  {
   "cell_type": "markdown",
   "id": "5162debe",
   "metadata": {},
   "source": [
    "# Gut Medium"
   ]
  },
  {
   "cell_type": "code",
   "execution_count": 18,
   "id": "96ce746c",
   "metadata": {},
   "outputs": [],
   "source": [
    "import pandas as pd\n",
    "from collections import defaultdict\n",
    "import glob\n",
    "\n",
    "gut_medium_dict = {\n",
    "    # Carbohydrates & SCFAs\n",
    "    \"R_EX_glc__D_e\": (-10.0, 5.0),\n",
    "    \"R_EX_ac_e\": (-5.0, 5.0),\n",
    "    \"R_EX_but_e\": (-5.0, 5.0),\n",
    "    \"R_EX_lac__D_e\": (-2.0, 5.0),\n",
    "    \"R_EX_lac__L_e\": (-2.0, 5.0),\n",
    "    \"R_EX_succ_e\": (-2.0, 5.0),\n",
    "\n",
    "    # Amino acids\n",
    "    \"R_EX_ala__L_e\": (-1.0, 5.0),\n",
    "    \"R_EX_arg__L_e\": (-1.0, 5.0),\n",
    "    \"R_EX_asn__L_e\": (-1.0, 5.0),\n",
    "    \"R_EX_asp__L_e\": (-1.0, 5.0),\n",
    "    \"R_EX_cys__L_e\": (-1.0, 5.0),\n",
    "    \"R_EX_gln__L_e\": (-1.0, 5.0),\n",
    "    \"R_EX_glu__L_e\": (-1.0, 5.0),\n",
    "    \"R_EX_gly_e\": (-1.0, 5.0),\n",
    "    \"R_EX_his__L_e\": (-1.0, 5.0),\n",
    "    \"R_EX_ile__L_e\": (-1.0, 5.0),\n",
    "    \"R_EX_leu__L_e\": (-1.0, 5.0),\n",
    "    \"R_EX_lys__L_e\": (-1.0, 5.0),\n",
    "    \"R_EX_met__L_e\": (-1.0, 5.0),\n",
    "    \"R_EX_phe__L_e\": (-1.0, 5.0),\n",
    "    \"R_EX_pro__L_e\": (-1.0, 5.0),\n",
    "    \"R_EX_ser__L_e\": (-1.0, 5.0),\n",
    "    \"R_EX_thr__L_e\": (-1.0, 5.0),\n",
    "    \"R_EX_trp__L_e\": (-1.0, 5.0),\n",
    "    \"R_EX_tyr__L_e\": (-1.0, 5.0),\n",
    "    \"R_EX_val__L_e\": (-1.0, 5.0),\n",
    "\n",
    "    # Inorganic ions\n",
    "    \"R_EX_ca2_e\": (-0.1, 5.0),\n",
    "    \"R_EX_cl_e\": (-0.1, 5.0),\n",
    "    \"R_EX_k_e\": (-1.0, 5.0),\n",
    "    \"R_EX_mg2_e\": (-0.1, 5.0),\n",
    "    \"R_EX_mn2_e\": (-0.01, 5.0),\n",
    "    \"R_EX_nh4_e\": (-5.0, 5.0),\n",
    "    \"R_EX_pi_e\": (-2.0, 5.0),\n",
    "    \"R_EX_so4_e\": (-0.5, 5.0),\n",
    "    \"R_EX_fe2_e\": (-0.01, 5.0),\n",
    "    \"R_EX_zn2_e\": (-0.005, 5.0),\n",
    "\n",
    "    # Vitamins & cofactors\n",
    "    \"R_EX_nac_e\": (-0.01, 5.0),\n",
    "    \"R_EX_thm_e\": (-0.01, 5.0),\n",
    "    \"R_EX_btn_e\": (-0.01, 5.0),\n",
    "    \"R_EX_pnto__R_e\": (-0.01, 5.0),\n",
    "    \"R_EX_ribflv_e\": (-0.01, 5.0),\n",
    "    # Gases\n",
    "    \"R_EX_o2_e\": (0.0, 0.0),           # strict anaerobic\n",
    "    \"R_EX_h2o_e\": (-1000.0, 1000.0),\n",
    "    \"R_EX_co2_e\": (-1000.0, 1000.0)\n",
    "}\n"
   ]
  },
  {
   "cell_type": "code",
   "execution_count": 19,
   "id": "3fab2b5e",
   "metadata": {},
   "outputs": [
    {
     "data": {
      "text/plain": [
       "{'R_EX_glc__D_e': (-10.0, 5.0),\n",
       " 'R_EX_ac_e': (-5.0, 5.0),\n",
       " 'R_EX_but_e': (-5.0, 5.0),\n",
       " 'R_EX_lac__D_e': (-2.0, 5.0),\n",
       " 'R_EX_lac__L_e': (-2.0, 5.0),\n",
       " 'R_EX_succ_e': (-2.0, 5.0),\n",
       " 'R_EX_ala__L_e': (-1.0, 5.0),\n",
       " 'R_EX_arg__L_e': (-1.0, 5.0),\n",
       " 'R_EX_asn__L_e': (-1.0, 5.0),\n",
       " 'R_EX_asp__L_e': (-1.0, 5.0),\n",
       " 'R_EX_cys__L_e': (-1.0, 5.0),\n",
       " 'R_EX_gln__L_e': (-1.0, 5.0),\n",
       " 'R_EX_glu__L_e': (-1.0, 5.0),\n",
       " 'R_EX_gly_e': (-1.0, 5.0),\n",
       " 'R_EX_his__L_e': (-1.0, 5.0),\n",
       " 'R_EX_ile__L_e': (-1.0, 5.0),\n",
       " 'R_EX_leu__L_e': (-1.0, 5.0),\n",
       " 'R_EX_lys__L_e': (-1.0, 5.0),\n",
       " 'R_EX_met__L_e': (-1.0, 5.0),\n",
       " 'R_EX_phe__L_e': (-1.0, 5.0),\n",
       " 'R_EX_pro__L_e': (-1.0, 5.0),\n",
       " 'R_EX_ser__L_e': (-1.0, 5.0),\n",
       " 'R_EX_thr__L_e': (-1.0, 5.0),\n",
       " 'R_EX_trp__L_e': (-1.0, 5.0),\n",
       " 'R_EX_tyr__L_e': (-1.0, 5.0),\n",
       " 'R_EX_val__L_e': (-1.0, 5.0),\n",
       " 'R_EX_ca2_e': (-0.1, 5.0),\n",
       " 'R_EX_cl_e': (-0.1, 5.0),\n",
       " 'R_EX_k_e': (-1.0, 5.0),\n",
       " 'R_EX_mg2_e': (-0.1, 5.0),\n",
       " 'R_EX_mn2_e': (-0.01, 5.0),\n",
       " 'R_EX_nh4_e': (-5.0, 5.0),\n",
       " 'R_EX_pi_e': (-2.0, 5.0),\n",
       " 'R_EX_so4_e': (-0.5, 5.0),\n",
       " 'R_EX_fe2_e': (-0.01, 5.0),\n",
       " 'R_EX_zn2_e': (-0.005, 5.0),\n",
       " 'R_EX_nac_e': (-0.01, 5.0),\n",
       " 'R_EX_thm_e': (-0.01, 5.0),\n",
       " 'R_EX_btn_e': (-0.01, 5.0),\n",
       " 'R_EX_pnto__R_e': (-0.01, 5.0),\n",
       " 'R_EX_ribflv_e': (-0.01, 5.0),\n",
       " 'R_EX_o2_e': (0.0, 0.0),\n",
       " 'R_EX_h2o_e': (-1000.0, 1000.0),\n",
       " 'R_EX_co2_e': (-1000.0, 1000.0)}"
      ]
     },
     "execution_count": 19,
     "metadata": {},
     "output_type": "execute_result"
    }
   ],
   "source": [
    "gut_medium_dict"
   ]
  },
  {
   "cell_type": "markdown",
   "id": "14a0d4df",
   "metadata": {},
   "source": [
    "# Loading Models"
   ]
  },
  {
   "cell_type": "code",
   "execution_count": 20,
   "id": "55d3501e",
   "metadata": {},
   "outputs": [
    {
     "name": "stdout",
     "output_type": "stream",
     "text": [
      "Loading model: iYL1228\n",
      "Loading model: iSDY_1059\n",
      "Loading model: iCN900\n",
      "Loading model: iECSE_1348\n",
      "Loading model: iUMNK88_1353\n",
      "Loading model: iETEC_1333\n",
      "Loading model: iECSF_1327\n",
      "Loading model: iEcSMS35_1347\n",
      "Loading model: iEC1356_Bl21DE3\n",
      "Loading model: iECUMN_1333\n",
      "Loading model: iNRG857_1313\n",
      "Loading model: iUTI89_1310\n",
      "Loading model: ic_1306\n"
     ]
    }
   ],
   "source": [
    "# === CONFIGURATION ===\n",
    "basePath = \"/home/arog/models/xml\"\n",
    "constraints = set()\n",
    "list_models = []\n",
    "\n",
    "# === Load models and unify biomass reaction ID ===\n",
    "for file in os.listdir(basePath):\n",
    "    if file.endswith(\".xml\"):\n",
    "        SBML_FILE = os.path.join(basePath, file)\n",
    "        model_id = os.path.splitext(file)[0]\n",
    "        print(f\"Loading model: {model_id}\")\n",
    "             \n",
    "        # Load with BiGG flavor to preserve reaction IDs\n",
    "        model = load_cbmodel(SBML_FILE, flavor=\"bigg\")\n",
    "\n",
    "        for r_id, rxn in model.reactions.items():\n",
    "            if r_id.startswith('R_EX_'):\n",
    "                if r_id not in competitive_medium_dict.keys():\n",
    "                    competitive_medium_dict[r_id] = (0,25)\n",
    "\n",
    "                if r_id not in mercyful_medium_dict.keys():\n",
    "                    mercyful_medium_dict[r_id] = (0,25)\n",
    "\n",
    "                if r_id not in gut_medium_dict.keys():\n",
    "                    gut_medium_dict[r_id] = (0,25)\n",
    "\n",
    "        list_models.append(model)\n",
    "\n"
   ]
  },
  {
   "cell_type": "code",
   "execution_count": 21,
   "id": "3c0f3bd0",
   "metadata": {},
   "outputs": [],
   "source": [
    "community = Community('Gut', models = list_models)"
   ]
  },
  {
   "cell_type": "markdown",
   "id": "af934ab4",
   "metadata": {},
   "source": [
    "# Competitive Medium Simulation"
   ]
  },
  {
   "cell_type": "code",
   "execution_count": 22,
   "id": "6d7d993a",
   "metadata": {},
   "outputs": [
    {
     "name": "stdout",
     "output_type": "stream",
     "text": [
      "===============================================\n",
      "=== SteadyComm ===\n"
     ]
    },
    {
     "name": "stderr",
     "output_type": "stream",
     "text": [
      "/home/arog/miniconda3/envs/steadycom/lib/python3.10/site-packages/reframed/solvers/cplex_solver.py:168: UserWarning: Constrained variable not previously declared: R_EX_AEP_e\n",
      "  warn(f\"Constrained variable not previously declared: {r_id}\")\n",
      "/home/arog/miniconda3/envs/steadycom/lib/python3.10/site-packages/reframed/solvers/cplex_solver.py:168: UserWarning: Constrained variable not previously declared: R_EX_Glc_aD_e\n",
      "  warn(f\"Constrained variable not previously declared: {r_id}\")\n"
     ]
    },
    {
     "name": "stdout",
     "output_type": "stream",
     "text": [
      "Community growth: 1.4667968749999991\n",
      "iYL1228\t0.8946020872495262\n",
      "iSDY_1059\t3.415868890297563e-05\n",
      "iCN900\t0.03722214710466813\n",
      "iECSE_1348\t0.0\n",
      "iUMNK88_1353\t0.006139031628403572\n",
      "iETEC_1333\t0.015180855142068012\n",
      "iECSF_1327\t0.0013644806995371335\n",
      "iEcSMS35_1347\t0.009293960300481033\n",
      "iEC1356_Bl21DE3\t0.008484658931206085\n",
      "iECUMN_1333\t0.0035550925925926014\n",
      "iNRG857_1313\t0.005088864191952669\n",
      "iUTI89_1310\t0.01661024532318905\n",
      "ic_1306\t0.002424418147472593\n",
      "{('iECSF_1327', 'M_14glucan_e'): -0.18583144078570524, ('iEcSMS35_1347', 'M_14glucan_e'): -1.0798905113663808, ('iEC1356_Bl21DE3', 'M_14glucan_e'): -0.20868415837412468, ('iYL1228', 'M_ac_e'): 20.8531403810033, ('iSDY_1059', 'M_ac_e'): -0.00010878820239535429, ('iCN900', 'M_ac_e'): -15.169329070244421, ('iUMNK88_1353', 'M_ac_e'): 0.0040560646476643925, ('iETEC_1333', 'M_ac_e'): -0.5052215287501145, ('iECSF_1327', 'M_ac_e'): 1.3644806995371326, ('iEcSMS35_1347', 'M_ac_e'): -0.02963207082085169, ('iEC1356_Bl21DE3', 'M_ac_e'): 8.48465893120608, ('iECUMN_1333', 'M_ac_e'): -0.01133475419223907, ('iNRG857_1313', 'M_ac_e'): 1.0918767684125874, ('iUTI89_1310', 'M_ac_e'): 8.92224015172204, ('ic_1306', 'M_ac_e'): -0.004826784318655353, ('iEC1356_Bl21DE3', 'M_34dhpac_e'): 2.2737367544323206e-13, ('iYL1228', 'M_3ump_e'): 2.2737367544323206e-13, ('iSDY_1059', 'M_3ump_e'): 2.2737367544323206e-13, ('iECSE_1348', 'M_3ump_e'): 2.2737367544323206e-13, ('iUMNK88_1353', 'M_3ump_e'): 2.2737367544323206e-13, ('iETEC_1333', 'M_3ump_e'): 2.2737367544323206e-13, ('iECSF_1327', 'M_3ump_e'): 2.2737367544323206e-13, ('iEcSMS35_1347', 'M_3ump_e'): 2.2737367544323206e-13, ('iEC1356_Bl21DE3', 'M_3ump_e'): 2.2737367544323206e-13, ('iECUMN_1333', 'M_3ump_e'): 2.2737367544323206e-13, ('iNRG857_1313', 'M_3ump_e'): 2.2737367544323206e-13, ('iUTI89_1310', 'M_3ump_e'): 2.2737367544323206e-13, ('ic_1306', 'M_3ump_e'): 2.2737367544323206e-13, ('iETEC_1333', 'M_3amp_e'): -0.0204297000000993, ('iYL1228', 'M_acald_e'): -63.063591030583716, ('iSDY_1059', 'M_acald_e'): 0.034158688902975604, ('iUMNK88_1353', 'M_acald_e'): 6.139031628403568, ('iETEC_1333', 'M_acald_e'): 15.180855142068001, ('iECSF_1327', 'M_acald_e'): 1.3602463837073986, ('iEcSMS35_1347', 'M_acald_e'): 9.293960300481027, ('iEC1356_Bl21DE3', 'M_acald_e'): 8.457281450249571, ('iECUMN_1333', 'M_acald_e'): 3.555092592592599, ('iNRG857_1313', 'M_acald_e'): 3.9807625227164936, ('iUTI89_1310', 'M_acald_e'): 12.640489562415803, ('ic_1306', 'M_acald_e'): 2.4217127590462955, ('iETEC_1333', 'M_3cmp_e'): -0.04850000000249101, ('iEcSMS35_1347', 'M_3cmp_e'): 2.5011104298755527e-12, ('iYL1228', 'M_3gmp_e'): -0.0656519999966569, ('iSDY_1059', 'M_acgal_e'): 0.0330795000000246, ('iETEC_1333', 'M_acgal_e'): -0.0330795000000246, ('iEC1356_Bl21DE3', 'M_4hoxpacd_e'): 2.2737367544323206e-13, ('iYL1228', 'M_acgam_e'): -0.0033942483298427546, ('iUMNK88_1353', 'M_acgam_e'): -0.0005004458967908158, ('iECSF_1327', 'M_acgam_e'): -0.00011122469281728159, ('iNRG857_1313', 'M_acgam_e'): 0.0055576, ('iUTI89_1310', 'M_acgam_e'): -0.0013540456573344671, ('ic_1306', 'M_acgam_e'): -0.00019763542321468065, ('iYL1228', 'M_3hcinnm_e'): 2.2737367544323206e-13, ('iYL1228', 'M_acgam1p_e'): 0.0055576, ('iNRG857_1313', 'M_acgam1p_e'): -0.0055576, ('iYL1228', 'M_3hpppn_e'): 2.2737367544323206e-13, ('iECSF_1327', 'M_5dglcn_e'): 0.33706353937918343, ('iEcSMS35_1347', 'M_5dglcn_e'): 9.293960300481027, ('iEC1356_Bl21DE3', 'M_5dglcn_e'): -7.465630922724496, ('iECUMN_1333', 'M_5dglcn_e'): -2.2027587580823482, ('iNRG857_1313', 'M_5dglcn_e'): -5.088864191952665, ('iUTI89_1310', 'M_5dglcn_e'): 5.121793651778707, ('ic_1306', 'M_5dglcn_e'): 0.0044363811205991865, ('iYL1228', 'M_ade_e'): 0.0368238462574601, ('iSDY_1059', 'M_ade_e'): -2.2413760522147896e-05, ('iUMNK88_1353', 'M_ade_e'): -0.38329987187717984, ('iETEC_1333', 'M_ade_e'): -0.266763245591509, ('iECSF_1327', 'M_ade_e'): -0.07483700380636525, ('iEcSMS35_1347', 'M_ade_e'): -9.293954220452068, ('iEC1356_Bl21DE3', 'M_ade_e'): -0.0022169134956980586, ('iECUMN_1333', 'M_ade_e'): -0.00106532687166494, ('iNRG857_1313', 'M_ade_e'): -5.088860862861443, ('iUTI89_1310', 'M_ade_e'): 16.61024532318904, ('ic_1306', 'M_ade_e'): -1.5360493107300541, ('iUMNK88_1353', 'M_adn_e'): 0.3792656436571048, ('iETEC_1333', 'M_adn_e'): -1.021635270882613, ('iECSF_1327', 'M_adn_e'): -0.8213322533439631, ('iEcSMS35_1347', 'M_adn_e'): 9.291169171850802, ('iNRG857_1313', 'M_adn_e'): 5.087335922616218, ('iUTI89_1310', 'M_adn_e'): -15.73012601814897, ('ic_1306', 'M_adn_e'): 1.535322804251422, ('iETEC_1333', 'M_amp_e'): -0.0204297000000993, ('iYL1228', 'M_LalaDgluMdap_e'): -0.02886839001081379, ('iNRG857_1313', 'M_LalaDgluMdap_e'): 0.02886839001081379, ('iSDY_1059', 'M_LalaDgluMdapDala_e'): -1.858597607205526e-05, ('iUMNK88_1353', 'M_LalaDgluMdapDala_e'): -0.0002502229483954079, ('iETEC_1333', 'M_LalaDgluMdapDala_e'): -0.0006187618117549355, ('iECSF_1327', 'M_LalaDgluMdapDala_e'): -5.561534853267992e-05, ('iEcSMS35_1347', 'M_LalaDgluMdapDala_e'): -0.0003788157952952243, ('iEC1356_Bl21DE3', 'M_LalaDgluMdapDala_e'): -0.004616560908495791, ('iECUMN_1333', 'M_LalaDgluMdapDala_e'): -0.00014490326881872132, ('iNRG857_1313', 'M_LalaDgluMdapDala_e'): -0.030235593402321213, ('iUTI89_1310', 'M_LalaDgluMdapDala_e'): -0.0006770228286672336, ('ic_1306', 'M_LalaDgluMdapDala_e'): -9.881771160734033e-05, ('iSDY_1059', 'M_akg_e'): -9.355743118343193e-06, ('iCN900', 'M_akg_e'): 20.825117789355595, ('iUMNK88_1353', 'M_akg_e'): 1.1131018381853544, ('iETEC_1333', 'M_akg_e'): 2.121669732953934, ('iECSF_1327', 'M_akg_e'): -1.3634628854213182, ('iEcSMS35_1347', 'M_akg_e'): 0.04130821283674557, ('iEC1356_Bl21DE3', 'M_akg_e'): -0.001932427041198892, ('iECUMN_1333', 'M_akg_e'): -3.555092592592599, ('iNRG857_1313', 'M_akg_e'): -2.5685682602304465, ('iUTI89_1310', 'M_akg_e'): -16.61024532318904, ('ic_1306', 'M_akg_e'): -0.0018867291139071294, ('iYL1228', 'M_ala__D_e'): 0.014434195005406896, ('iSDY_1059', 'M_ala__D_e'): 6.96143004955225e-07, ('iUMNK88_1353', 'M_ala__D_e'): 0.00012511147419770396, ('iETEC_1333', 'M_ala__D_e'): -0.04438260411034323, ('iECSF_1327', 'M_ala__D_e'): 2.780767426633996e-05, ('iEcSMS35_1347', 'M_ala__D_e'): 0.00018940789764761216, ('iEC1356_Bl21DE3', 'M_ala__D_e'): 0.00017291459813246706, ('iECUMN_1333', 'M_ala__D_e'): 7.245163440936066e-05, ('iNRG857_1313', 'M_ala__D_e'): 0.0289720994131406, ('iUTI89_1310', 'M_ala__D_e'): 0.0003385114143336168, ('ic_1306', 'M_ala__D_e'): 4.9408855803670164e-05, ('iSDY_1059', 'M_ala__L_e'): -0.002375299678941876, ('iUMNK88_1353', 'M_ala__L_e'): 6.083470064368, ('iETEC_1333', 'M_ala__L_e'): 15.180855142068001, ('iECSF_1327', 'M_ala__L_e'): -0.0010805585082316327, ('iEcSMS35_1347', 'M_ala__L_e'): 8.802661695602414, ('iEC1356_Bl21DE3', 'M_ala__L_e'): -7.472064580345926, ('iECUMN_1333', 'M_ala__L_e'): -3.555092592592599, ('iNRG857_1313', 'M_ala__L_e'): -0.00171040025108244, ('iUTI89_1310', 'M_ala__L_e'): -16.61024532318904, ('ic_1306', 'M_ala__L_e'): -2.4244181474725917, ('iYL1228', 'M_arg__L_e'): -0.40153306105950093, ('iSDY_1059', 'M_arg__L_e'): -1.482032040605412e-05, ('iUMNK88_1353', 'M_arg__L_e'): -0.0026635218926074344, ('iETEC_1333', 'M_arg__L_e'): -0.006586468757111774, ('iECSF_1327', 'M_arg__L_e'): -0.0005920028491859242, ('iEcSMS35_1347', 'M_arg__L_e'): -0.004032340640634402, ('iEC1356_Bl21DE3', 'M_arg__L_e'): -0.0036812116604864474, ('iECUMN_1333', 'M_arg__L_e'): -0.0015424365801938685, ('iNRG857_1313', 'M_arg__L_e'): 0.34994273825528044, ('ic_1306', 'M_arg__L_e'): -0.001051874498048111, ('iYL1228', 'M_cgly_e'): 0.05733393156964023, ('iSDY_1059', 'M_cgly_e'): -1.2408170363765413e-05, ('iUMNK88_1353', 'M_cgly_e'): -0.002229972004296126, ('iETEC_1333', 'M_cgly_e'): -0.005514368391825649, ('iECSF_1327', 'M_cgly_e'): -0.0004956486774424089, ('iEcSMS35_1347', 'M_cgly_e'): -0.0033759837924962535, ('iEC1356_Bl21DE3', 'M_cgly_e'): -0.0030848342643083246, ('iECUMN_1333', 'M_cgly_e'): -0.0012913692963368775, ('iNRG857_1313', 'M_cgly_e'): -0.034415102313134716, ('iUTI89_1310', 'M_cgly_e'): -0.006033587102540612, ('ic_1306', 'M_cgly_e'): -0.0008806575568950549, ('iYL1228', 'M_asn__L_e'): 0.024105500000000002, ('iSDY_1059', 'M_asn__L_e'): -1.2077785523210145e-05, ('iUMNK88_1353', 'M_asn__L_e'): -0.0021706309495269555, ('iETEC_1333', 'M_asn__L_e'): -0.00536762734031186, ('iECSF_1327', 'M_asn__L_e'): -0.00048245134016644434, ('iEcSMS35_1347', 'M_asn__L_e'): -0.0032861465933097123, ('iEC1356_Bl21DE3', 'M_asn__L_e'): -0.0029999948504981894, ('iECUMN_1333', 'M_asn__L_e'): -0.001257005090870047, ('iNRG857_1313', 'M_asn__L_e'): -0.0017993140908225652, ('iUTI89_1310', 'M_asn__L_e'): -0.005873029291938245, ('ic_1306', 'M_asn__L_e'): -0.000857222667032799, ('iYL1228', 'M_chol_e'): -2.2737367544323206e-13, ('iECSE_1348', 'M_chol_e'): 2.2737367544323206e-13, ('iUMNK88_1353', 'M_chol_e'): 2.2737367544323206e-13, ('iETEC_1333', 'M_chol_e'): 2.2737367544323206e-13, ('iECSF_1327', 'M_chol_e'): 2.2737367544323206e-13, ('iEcSMS35_1347', 'M_chol_e'): 2.2737367544323206e-13, ('iECUMN_1333', 'M_chol_e'): 2.2737367544323206e-13, ('iNRG857_1313', 'M_chol_e'): 2.2737367544323206e-13, ('iUTI89_1310', 'M_chol_e'): 2.2737367544323206e-13, ('ic_1306', 'M_chol_e'): 2.2737367544323206e-13, ('iSDY_1059', 'M_asp__L_e'): -5.297105141887057e-05, ('iUMNK88_1353', 'M_asp__L_e'): 0.013608794848175877, ('iETEC_1333', 'M_asp__L_e'): 0.577029190958104, ('iECSF_1327', 'M_asp__L_e'): -0.0014525496965030339, ('iEcSMS35_1347', 'M_asp__L_e'): -9.293960300481027, ('iEC1356_Bl21DE3', 'M_asp__L_e'): 8.475952281696905, ('iECUMN_1333', 'M_asp__L_e'): -0.005512993686855297, ('iNRG857_1313', 'M_asp__L_e'): 0.255846755880363, ('iUTI89_1310', 'M_asp__L_e'): -0.017698587137724237, ('ic_1306', 'M_asp__L_e'): -0.003759621330021723, ('iCN900', 'M_cys__L_e'): -0.03256659828699233, ('iNRG857_1313', 'M_cys__L_e'): 0.03256659828699233, ('iSDY_1059', 'M_cl_e'): -2.607905816029903e-07, ('iUMNK88_1353', 'M_cl_e'): -4.6869528083996624e-05, ('iETEC_1333', 'M_cl_e'): -0.00011590093674191881, ('iECSF_1327', 'M_cl_e'): -1.0417370415740571e-05, ('iEcSMS35_1347', 'M_cl_e'): -7.095639177024769e-05, ('iEC1356_Bl21DE3', 'M_cl_e'): -6.477763662584505e-05, ('iECUMN_1333', 'M_cl_e'): -2.7141986260308214e-05, ('iNRG857_1313', 'M_cl_e'): -3.8851838139559246e-05, ('iUTI89_1310', 'M_cl_e'): -0.00012681387013145786, ('ic_1306', 'M_cl_e'): -1.8509651249323683e-05, ('iYL1228', 'M_cytd_e'): -0.0645524999999899, ('iETEC_1333', 'M_cytd_e'): 0.04850000000249101, ('iEcSMS35_1347', 'M_cytd_e'): -2.5011104298755527e-12, ('iYL1228', 'M_btd_RR_e'): -7.105427357601002e-15, ('iYL1228', 'M_dad_2_e'): -0.20863972780542692, ('iEC1356_Bl21DE3', 'M_dad_2_e'): -0.00032564296636923367, ('iUTI89_1310', 'M_dad_2_e'): -0.8910346292282053, ('iUMNK88_1353', 'M_but_e'): 4.547473508864641e-13, ('iETEC_1333', 'M_but_e'): 4.547473508864641e-13, ('iECSF_1327', 'M_but_e'): 4.547473508864641e-13, ('iEcSMS35_1347', 'M_but_e'): 4.547473508864641e-13, ('iEC1356_Bl21DE3', 'M_but_e'): 4.547473508864641e-13, ('iECUMN_1333', 'M_but_e'): 4.547473508864641e-13, ('iNRG857_1313', 'M_but_e'): 4.547473508864641e-13, ('iUTI89_1310', 'M_but_e'): 4.547473508864641e-13, ('ic_1306', 'M_but_e'): 4.547473508864641e-13, ('iYL1228', 'M_co2_e'): 42.578671162435825, ('iSDY_1059', 'M_co2_e'): 0.002394310134900068, ('iCN900', 'M_co2_e'): -37.2221471046681, ('iUMNK88_1353', 'M_co2_e'): 4.981004490250059, ('iETEC_1333', 'M_co2_e'): 7.278615013180366, ('iECSF_1327', 'M_co2_e'): -1.3639757282638407, ('iEcSMS35_1347', 'M_co2_e'): 0.018888964469994426, ('iEC1356_Bl21DE3', 'M_co2_e'): -5.208038403302948, ('iECUMN_1333', 'M_co2_e'): 0.0014707358479979383, ('iNRG857_1313', 'M_co2_e'): 2.6703683424104634, ('iUTI89_1310', 'M_co2_e'): 5.419600717333781, ('ic_1306', 'M_co2_e'): 0.0008887477502845288, ('iSDY_1059', 'M_cobalt2_e'): -1.252596453424545e-09, ('iUMNK88_1353', 'M_cobalt2_e'): -2.251178102017129e-07, ('iETEC_1333', 'M_cobalt2_e'): -5.566807720553257e-07, ('iECSF_1327', 'M_cobalt2_e'): -5.0035400651972e-08, ('iEcSMS35_1347', 'M_cobalt2_e'): -3.4080879812799083e-07, ('iEC1356_Bl21DE3', 'M_cobalt2_e'): -3.1113178014334794e-07, ('iECUMN_1333', 'M_cobalt2_e'): -1.3036496762876182e-07, ('iNRG857_1313', 'M_cobalt2_e'): -1.8660825235138925e-07, ('iUTI89_1310', 'M_cobalt2_e'): -6.090963983259263e-07, ('ic_1306', 'M_cobalt2_e'): -8.890322406015217e-08, ('iSDY_1059', 'M_ca2_e'): -2.6079058160299025e-07, ('iUMNK88_1353', 'M_ca2_e'): -4.686952808352629e-05, ('iETEC_1333', 'M_ca2_e'): -0.00011590093674129776, ('iECSF_1327', 'M_ca2_e'): -1.0417370415627403e-05, ('iEcSMS35_1347', 'M_ca2_e'): -7.095639177023827e-05, ('iEC1356_Bl21DE3', 'M_ca2_e'): -6.477763662584505e-05, ('iECUMN_1333', 'M_ca2_e'): -2.714198626030829e-05, ('iNRG857_1313', 'M_ca2_e'): -3.8851838139559395e-05, ('iUTI89_1310', 'M_ca2_e'): -0.00012681387013202539, ('ic_1306', 'M_ca2_e'): -1.850965124905457e-05, ('iYL1228', 'M_dcyt_e'): 2.2737367544323206e-13, ('iSDY_1059', 'M_dcyt_e'): 2.2737367544323206e-13, ('iECSE_1348', 'M_dcyt_e'): 2.2737367544323206e-13, ('iUMNK88_1353', 'M_dcyt_e'): 2.2737367544323206e-13, ('iETEC_1333', 'M_dcyt_e'): 2.2737367544323206e-13, ('iECSF_1327', 'M_dcyt_e'): 2.2737367544323206e-13, ('iEcSMS35_1347', 'M_dcyt_e'): 2.2737367544323206e-13, ('iEC1356_Bl21DE3', 'M_dcyt_e'): 2.2737367544323206e-13, ('iECUMN_1333', 'M_dcyt_e'): 2.2737367544323206e-13, ('iNRG857_1313', 'M_dcyt_e'): 2.2737367544323206e-13, ('iUTI89_1310', 'M_dcyt_e'): 2.2737367544323206e-13, ('ic_1306', 'M_dcyt_e'): 2.2737367544323206e-13, ('iYL1228', 'M_dgsn_e'): 2.2737367544323206e-13, ('iSDY_1059', 'M_dgsn_e'): 2.2737367544323206e-13, ('iECSE_1348', 'M_dgsn_e'): 2.2737367544323206e-13, ('iUMNK88_1353', 'M_dgsn_e'): 2.2737367544323206e-13, ('iETEC_1333', 'M_dgsn_e'): 2.2737367544323206e-13, ('iECSF_1327', 'M_dgsn_e'): 2.2737367544323206e-13, ('iEcSMS35_1347', 'M_dgsn_e'): 2.2737367544323206e-13, ('iEC1356_Bl21DE3', 'M_dgsn_e'): 2.2737367544323206e-13, ('iECUMN_1333', 'M_dgsn_e'): 2.2737367544323206e-13, ('iNRG857_1313', 'M_dgsn_e'): 2.2737367544323206e-13, ('iUTI89_1310', 'M_dgsn_e'): 2.2737367544323206e-13, ('ic_1306', 'M_dgsn_e'): 2.2737367544323206e-13, ('iYL1228', 'M_dha_e'): 28.995734115641262, ('iSDY_1059', 'M_dha_e'): -0.0016132561057975426, ('iUMNK88_1353', 'M_dha_e'): -6.139031628403568, ('iETEC_1333', 'M_dha_e'): -0.4083258945907704, ('iECSF_1327', 'M_dha_e'): -1.2327802286227076, ('iEcSMS35_1347', 'M_dha_e'): -9.293960300481027, ('iEC1356_Bl21DE3', 'M_dha_e'): 1.2468545060410818, ('iECUMN_1333', 'M_dha_e'): 0.0004947228847541724, ('iNRG857_1313', 'M_dha_e'): 3.4423382719649327, ('iUTI89_1310', 'M_dha_e'): -16.61024532318904, ('ic_1306', 'M_dha_e'): 0.0005350148608887125, ('iYL1228', 'M_cu_e'): 2.2737367544323206e-13, ('iECSE_1348', 'M_cu_e'): 2.2737367544323206e-13, ('iUMNK88_1353', 'M_cu_e'): 2.2737367544323206e-13, ('iETEC_1333', 'M_cu_e'): 2.2737367544323206e-13, ('iECSF_1327', 'M_cu_e'): 2.2737367544323206e-13, ('iEcSMS35_1347', 'M_cu_e'): 2.2737367544323206e-13, ('iEC1356_Bl21DE3', 'M_cu_e'): 2.2737367544323206e-13, ('iECUMN_1333', 'M_cu_e'): 2.2737367544323206e-13, ('iNRG857_1313', 'M_cu_e'): 2.2737367544323206e-13, ('iUTI89_1310', 'M_cu_e'): 2.2737367544323206e-13, ('ic_1306', 'M_cu_e'): 2.2737367544323206e-13, ('iSDY_1059', 'M_cu2_e'): -3.5523635419120095e-08, ('iUMNK88_1353', 'M_cu2_e'): -6.384341097320578e-06, ('iETEC_1333', 'M_cu2_e'): -1.5787466695489037e-05, ('iECSF_1327', 'M_cu2_e'): -1.419003962489926e-06, ('iEcSMS35_1347', 'M_cu2_e'): -9.66533751490982e-06, ('iEC1356_Bl21DE3', 'M_cu2_e'): -8.823697284865349e-06, ('iECUMN_1333', 'M_cu2_e'): -3.6971504819516853e-06, ('iNRG857_1313', 'M_cu2_e'): -5.2922100366854e-06, ('iUTI89_1310', 'M_cu2_e'): -1.7273973856523267e-05, ('ic_1306', 'M_cu2_e'): -2.5212954343459156e-06, ('iSDY_1059', 'M_for_e'): 6.703896218728165e-08, ('iCN900', 'M_for_e'): -0.00020621707147666646, ('iUMNK88_1353', 'M_for_e'): 1.807245780299356e-05, ('iETEC_1333', 'M_for_e'): 4.469033238060166e-05, ('iECSF_1327', 'M_for_e'): 4.016841964340323e-06, ('iEcSMS35_1347', 'M_for_e'): 2.7360130313715177e-05, ('iEC1356_Bl21DE3', 'M_for_e'): 3.052825026766537e-05, ('iECUMN_1333', 'M_for_e'): 1.0465699601236953e-05, ('iNRG857_1313', 'M_for_e'): 1.498091049876957e-05, ('iUTI89_1310', 'M_for_e'): 4.8898258857605495e-05, ('ic_1306', 'M_for_e'): 7.1371508275490345e-06, ('iYL1228', 'M_duri_e'): 2.2737367544323206e-13, ('iSDY_1059', 'M_duri_e'): 2.2737367544323206e-13, ('iECSE_1348', 'M_duri_e'): 2.2737367544323206e-13, ('iUMNK88_1353', 'M_duri_e'): 2.2737367544323206e-13, ('iETEC_1333', 'M_duri_e'): 2.2737367544323206e-13, ('iECSF_1327', 'M_duri_e'): 2.2737367544323206e-13, ('iEcSMS35_1347', 'M_duri_e'): 2.2737367544323206e-13, ('iEC1356_Bl21DE3', 'M_duri_e'): 2.2737367544323206e-13, ('iECUMN_1333', 'M_duri_e'): 2.2737367544323206e-13, ('iNRG857_1313', 'M_duri_e'): 2.2737367544323206e-13, ('iUTI89_1310', 'M_duri_e'): 2.2737367544323206e-13, ('ic_1306', 'M_duri_e'): 2.2737367544323206e-13, ('iYL1228', 'M_din_e'): 2.2737367544323206e-13, ('iSDY_1059', 'M_din_e'): 2.2737367544323206e-13, ('iECSE_1348', 'M_din_e'): 2.2737367544323206e-13, ('iUMNK88_1353', 'M_din_e'): 2.2737367544323206e-13, ('iETEC_1333', 'M_din_e'): 2.2737367544323206e-13, ('iECSF_1327', 'M_din_e'): 2.2737367544323206e-13, ('iEcSMS35_1347', 'M_din_e'): 2.2737367544323206e-13, ('iEC1356_Bl21DE3', 'M_din_e'): 2.2737367544323206e-13, ('iECUMN_1333', 'M_din_e'): 2.2737367544323206e-13, ('iNRG857_1313', 'M_din_e'): 2.2737367544323206e-13, ('iUTI89_1310', 'M_din_e'): 2.2737367544323206e-13, ('ic_1306', 'M_din_e'): 2.2737367544323206e-13, ('iYL1228', 'M_fru_e'): -1.5039522465270783, ('iETEC_1333', 'M_fru_e'): -2.051140346065521, ('iECUMN_1333', 'M_fru_e'): 3.555092592592599, ('iUMNK88_1353', 'M_fruur_e'): 6.139031628403568, ('iETEC_1333', 'M_fruur_e'): 7.024557562755481, ('iECSF_1327', 'M_fruur_e'): -1.3644806995371326, ('iEcSMS35_1347', 'M_fruur_e'): -9.293960300481027, ('iEC1356_Bl21DE3', 'M_fruur_e'): -8.48465893120608, ('iECUMN_1333', 'M_fruur_e'): 3.555092592592599, ('ic_1306', 'M_fruur_e'): 2.4244181474725917, ('iYL1228', 'M_fuc__L_e'): 4.547473508864641e-13, ('iUMNK88_1353', 'M_fuc__L_e'): -2.0463630789890885e-12, ('iETEC_1333', 'M_fuc__L_e'): 2.2737367544323206e-13, ('iECUMN_1333', 'M_fuc__L_e'): 4.547473508864641e-13, ('iNRG857_1313', 'M_fuc__L_e'): 2.2737367544323206e-13, ('iUTI89_1310', 'M_fuc__L_e'): 4.547473508864641e-13, ('iCN900', 'M_fum_e'): 0.6005706195930899, ('iETEC_1333', 'M_fum_e'): -0.6005706195930899, ('iNRG857_1313', 'M_dmso_e'): -2.2737367544323206e-13, ('iYL1228', 'M_etoh_e'): 83.8611606008411, ('iSDY_1059', 'M_etoh_e'): -0.034158688902975604, ('iCN900', 'M_etoh_e'): 2.466306283090547, ('iUMNK88_1353', 'M_etoh_e'): -6.139031628403568, ('iETEC_1333', 'M_etoh_e'): -15.180855142068001, ('iECSF_1327', 'M_etoh_e'): -1.3644806995371326, ('iEcSMS35_1347', 'M_etoh_e'): -9.293960300481027, ('iEC1356_Bl21DE3', 'M_etoh_e'): -8.48465893120608, ('iECUMN_1333', 'M_etoh_e'): -3.555092592592599, ('iNRG857_1313', 'M_etoh_e'): -5.088864191952665, ('iUTI89_1310', 'M_etoh_e'): -16.61024532318904, ('ic_1306', 'M_etoh_e'): -2.4244181474725917, ('iYL1228', 'M_g1p_e'): -0.0406144500002029, ('ic_1306', 'M_g1p_e'): 0.0406144500002029, ('iUMNK88_1353', 'M_glcur_e'): -6.139031628403568, ('iETEC_1333', 'M_glcur_e'): -7.024557562755481, ('iECSF_1327', 'M_glcur_e'): 1.3644806995371326, ('iEcSMS35_1347', 'M_glcur_e'): 9.293960300481027, ('iEC1356_Bl21DE3', 'M_glcur_e'): 8.48465893120608, ('iECUMN_1333', 'M_glcur_e'): -3.555092592592599, ('ic_1306', 'M_glcur_e'): -2.4244181474725917, ('iSDY_1059', 'M_glcur1p_e'): 2.2737367544323206e-13, ('iECSE_1348', 'M_glcur1p_e'): 2.2737367544323206e-13, ('iUMNK88_1353', 'M_glcur1p_e'): 2.2737367544323206e-13, ('iETEC_1333', 'M_glcur1p_e'): 2.2737367544323206e-13, ('iECSF_1327', 'M_glcur1p_e'): 2.2737367544323206e-13, ('iEcSMS35_1347', 'M_glcur1p_e'): 2.2737367544323206e-13, ('iEC1356_Bl21DE3', 'M_glcur1p_e'): 2.2737367544323206e-13, ('iECUMN_1333', 'M_glcur1p_e'): 2.2737367544323206e-13, ('iNRG857_1313', 'M_glcur1p_e'): 2.2737367544323206e-13, ('iUTI89_1310', 'M_glcur1p_e'): 2.2737367544323206e-13, ('ic_1306', 'M_glcur1p_e'): 2.2737367544323206e-13, ('iECSE_1348', 'M_fald_e'): 4.547473508864641e-13, ('iUMNK88_1353', 'M_fald_e'): 6.821210263296962e-13, ('iETEC_1333', 'M_fald_e'): 4.547473508864641e-13, ('iECSF_1327', 'M_fald_e'): 4.547473508864641e-13, ('iEcSMS35_1347', 'M_fald_e'): 4.547473508864641e-13, ('iEC1356_Bl21DE3', 'M_fald_e'): 6.821210263296962e-13, ('iECUMN_1333', 'M_fald_e'): 4.547473508864641e-13, ('iNRG857_1313', 'M_fald_e'): 4.547473508864641e-13, ('iUTI89_1310', 'M_fald_e'): 4.547473508864641e-13, ('ic_1306', 'M_fald_e'): 6.821210263296962e-13, ('iSDY_1059', 'M_fe2_e'): -4.135071412045108e-07, ('iUMNK88_1353', 'M_fe2_e'): 0.0008202061481760742, ('iECSF_1327', 'M_fe2_e'): -1.6517686463228998e-05, ('iEcSMS35_1347', 'M_fe2_e'): -0.00011250780043801234, ('iNRG857_1313', 'M_fe2_e'): -6.160311626624063e-05, ('iUTI89_1310', 'M_fe2_e'): -0.0002010749030153548, ('ic_1306', 'M_fe2_e'): -2.9348732326737437e-05, ('iYL1228', 'M_glu__L_e'): -2.8890067636061625, ('iUMNK88_1353', 'M_glu__L_e'): -6.139031628403568, ('iETEC_1333', 'M_glu__L_e'): -2.132768500178708, ('iECSF_1327', 'M_glu__L_e'): -0.002079679398362672, ('iEcSMS35_1347', 'M_glu__L_e'): -0.04854095257708069, ('iEC1356_Bl21DE3', 'M_glu__L_e'): -8.48465893120608, ('iECUMN_1333', 'M_glu__L_e'): 3.5524934540869975, ('iNRG857_1313', 'M_glu__L_e'): -0.4537259075935518, ('iUTI89_1310', 'M_glu__L_e'): 16.597318908876776, ('iSDY_1059', 'M_fe3_e'): -3.9121092433355383e-07, ('iECSF_1327', 'M_fe3_e'): -1.5627056331623896e-05, ('iEcSMS35_1347', 'M_fe3_e'): -0.00010644140383133407, ('iNRG857_1313', 'M_fe3_e'): -5.828148937438589e-05, ('iUTI89_1310', 'M_fe3_e'): -0.00019023298712515327, ('ic_1306', 'M_fe3_e'): -2.7766254938466725e-05, ('iYL1228', 'M_gal1p_e'): 2.2737367544323206e-13, ('iSDY_1059', 'M_gal1p_e'): 2.2737367544323206e-13, ('iECSE_1348', 'M_gal1p_e'): 2.2737367544323206e-13, ('iUMNK88_1353', 'M_gal1p_e'): 2.2737367544323206e-13, ('iETEC_1333', 'M_gal1p_e'): 2.2737367544323206e-13, ('iECSF_1327', 'M_gal1p_e'): 2.2737367544323206e-13, ('iEcSMS35_1347', 'M_gal1p_e'): 2.2737367544323206e-13, ('iEC1356_Bl21DE3', 'M_gal1p_e'): 2.2737367544323206e-13, ('iECUMN_1333', 'M_gal1p_e'): 2.2737367544323206e-13, ('iNRG857_1313', 'M_gal1p_e'): 2.2737367544323206e-13, ('iUTI89_1310', 'M_gal1p_e'): 2.2737367544323206e-13, ('ic_1306', 'M_gal1p_e'): 2.2737367544323206e-13, ('iYL1228', 'M_galct__D_e'): 2.2737367544323206e-13, ('iECUMN_1333', 'M_galct__D_e'): -4.547473508864641e-13, ('iYL1228', 'M_gly_e'): -0.11818021810633095, ('iSDY_1059', 'M_gly_e'): 2.957580641967906e-06, ('iUMNK88_1353', 'M_gly_e'): 0.0005374912836371526, ('iETEC_1333', 'M_gly_e'): 0.0013291310113602776, ('iECSF_1327', 'M_gly_e'): 0.07405981993936318, ('iEcSMS35_1347', 'M_gly_e'): -0.002508707195372063, ('iEC1356_Bl21DE3', 'M_gly_e'): -0.002287378621256053, ('iECUMN_1333', 'M_gly_e'): -0.0009596217413143648, ('iNRG857_1313', 'M_gly_e'): 0.031192967477103654, ('iUTI89_1310', 'M_gly_e'): 0.017467978560603115, ('ic_1306', 'M_gly_e'): -0.000654420188435743, ('iYL1228', 'M_glyald_e'): 50.109173037107894, ('iUMNK88_1353', 'M_glyald_e'): -6.139031628403568, ('iETEC_1333', 'M_glyald_e'): -15.180855142068001, ('iECSF_1327', 'M_glyald_e'): 1.3644806995371326, ('iEcSMS35_1347', 'M_glyald_e'): 2.4535236743088475, ('iEC1356_Bl21DE3', 'M_glyald_e'): -8.48465893120608, ('iECUMN_1333', 'M_glyald_e'): -3.555092592592599, ('iNRG857_1313', 'M_glyald_e'): -1.5328756460219823, ('iUTI89_1310', 'M_glyald_e'): -16.61024532318904, ('ic_1306', 'M_glyald_e'): -2.4244181474725917, ('iYL1228', 'M_glyc_e'): -50.1066798579706, ('iCN900', 'M_glyc_e'): 0.16379198716175244, ('iUMNK88_1353', 'M_glyc_e'): 6.139031628403568, ('iETEC_1333', 'M_glyc_e'): 15.180855142068001, ('iECSF_1327', 'M_glyc_e'): -1.3644806995371326, ('iEcSMS35_1347', 'M_glyc_e'): -2.4535236743088475, ('iEC1356_Bl21DE3', 'M_glyc_e'): 8.48465893120608, ('iECUMN_1333', 'M_glyc_e'): 3.555092592592599, ('iNRG857_1313', 'M_glyc_e'): 1.3665904797229333, ('iUTI89_1310', 'M_glyc_e'): 16.61024532318904, ('ic_1306', 'M_glyc_e'): 2.4244181474725917, ('iYL1228', 'M_galur_e'): 4.547473508864641e-13, ('iECSE_1348', 'M_galur_e'): 2.5579538487363607e-13, ('iUMNK88_1353', 'M_galur_e'): 2.5579538487363607e-13, ('iETEC_1333', 'M_galur_e'): 2.5579538487363607e-13, ('iECSF_1327', 'M_galur_e'): 2.5579538487363607e-13, ('iEcSMS35_1347', 'M_galur_e'): 2.5579538487363607e-13, ('iEC1356_Bl21DE3', 'M_galur_e'): 2.5579538487363607e-13, ('iECUMN_1333', 'M_galur_e'): 2.5579538487363607e-13, ('iNRG857_1313', 'M_galur_e'): 2.5579538487363607e-13, ('iUTI89_1310', 'M_galur_e'): 2.5579538487363607e-13, ('ic_1306', 'M_galur_e'): 2.5579538487363607e-13, ('iSDY_1059', 'M_glyc__R_e'): -0.0024269808315849424, ('iETEC_1333', 'M_glyc__R_e'): -0.25153142102265846, ('iECSF_1327', 'M_glyc__R_e'): -0.3998735630008473, ('iEC1356_Bl21DE3', 'M_glyc__R_e'): 0.6538319648550892, ('iUMNK88_1353', 'M_glyclt_e'): 6.024152600758725e-06, ('iETEC_1333', 'M_glyclt_e'): 1.4896777459583177e-05, ('iECSF_1327', 'M_glyclt_e'): 1.3389473214467813e-06, ('iEcSMS35_1347', 'M_glyclt_e'): 9.120043437905105e-06, ('iEC1356_Bl21DE3', 'M_glyclt_e'): 8.325886436636058e-06, ('iECUMN_1333', 'M_glyclt_e'): 3.4885665337456206e-06, ('iNRG857_1313', 'M_glyclt_e'): 4.993636832923216e-06, ('iUTI89_1310', 'M_glyclt_e'): 1.6299419619201915e-05, ('ic_1306', 'M_glyclt_e'): 2.3790502758496905e-06, ('iYL1228', 'M_glc__D_e'): 1.909634048147609, ('iNRG857_1313', 'M_glc__D_e'): -1.9096340481476153, ('iYL1228', 'M_gmp_e'): -0.0264129000019024, ('iECSF_1327', 'M_glcn_e'): -1.3644806995371326, ('iEC1356_Bl21DE3', 'M_glcn_e'): -1.0190280084815848, ('iECUMN_1333', 'M_glcn_e'): -0.0037387316920264343, ('iUTI89_1310', 'M_glcn_e'): -0.03273432664124761, ('ic_1306', 'M_glcn_e'): 2.4199817663519925, ('iYL1228', 'M_his__L_e'): -0.08799962854957093, ('iSDY_1059', 'M_his__L_e'): 7.430853096437633e-06, ('iUMNK88_1353', 'M_his__L_e'): 0.0013415040451287756, ('iETEC_1333', 'M_his__L_e'): 0.0033173275223713117, ('iECSF_1327', 'M_his__L_e'): 0.07423850636217151, ('iEcSMS35_1347', 'M_his__L_e'): -0.0012915017566819836, ('iEC1356_Bl21DE3', 'M_his__L_e'): -0.00117904010348882, ('iECUMN_1333', 'M_his__L_e'): -0.0004940206521285455, ('iNRG857_1313', 'M_his__L_e'): -0.0007071557044506366, ('iUTI89_1310', 'M_his__L_e'): 0.003629678529191221, ('ic_1306', 'M_his__L_e'): -0.00033690054564042786, ('iYL1228', 'M_glcr_e'): 2.2737367544323206e-13, ('iYL1228', 'M_gsn_e'): -0.0810423800063261, ('iCN900', 'M_gthox_e'): -0.2500000000000018, ('iYL1228', 'M_leu__L_e'): -0.5025724260973492, ('iSDY_1059', 'M_leu__L_e'): -2.2573341310312548e-05, ('iCN900', 'M_leu__L_e'): -0.10919465810783496, ('iUMNK88_1353', 'M_leu__L_e'): -0.004056902085919134, ('iETEC_1333', 'M_leu__L_e'): 0.44678810640855104, ('iECSF_1327', 'M_leu__L_e'): -0.0009016999636453082, ('iEcSMS35_1347', 'M_leu__L_e'): -0.006141797145176042, ('iEC1356_Bl21DE3', 'M_leu__L_e'): -0.005606980481590509, ('iECUMN_1333', 'M_leu__L_e'): -0.002349338369230125, ('iNRG857_1313', 'M_leu__L_e'): -0.003362912101604998, ('iUTI89_1310', 'M_leu__L_e'): -0.010976672377367436, ('ic_1306', 'M_leu__L_e'): -0.0016021463375617767, ('iYL1228', 'M_gthrd_e'): -0.28434445301831235, ('iCN900', 'M_gthrd_e'): 0.25957995301741194, ('iUMNK88_1353', 'M_gthrd_e'): 2.2737367544323206e-13, ('iEC1356_Bl21DE3', 'M_gthrd_e'): 2.2737367544323206e-13, ('ic_1306', 'M_gthrd_e'): 2.2737367544323206e-13, ('iYL1228', 'M_gua_e'): 0.010312277336387815, ('iEcSMS35_1347', 'M_gua_e'): -0.003322422281782456, ('iEC1356_Bl21DE3', 'M_gua_e'): -0.003033111717176648, ('iECUMN_1333', 'M_gua_e'): -0.0012708811380246487, ('iNRG857_1313', 'M_gua_e'): -0.0018191766732024697, ('ic_1306', 'M_gua_e'): -0.0008666855262015819, ('iYL1228', 'M_h_e'): 12.913541867549915, ('iSDY_1059', 'M_h_e'): 0.06831737780595121, ('iCN900', 'M_h_e'): -33.59073366967087, ('iUMNK88_1353', 'M_h_e'): -7.409368815130732e-05, ('iECSF_1327', 'M_h_e'): 1.6286246971351712, ('iEcSMS35_1347', 'M_h_e'): 5.511635120418856, ('iEC1356_Bl21DE3', 'M_h_e'): 4.906691991220005, ('iECUMN_1333', 'M_h_e'): -0.017064179798349916, ('iNRG857_1313', 'M_h_e'): 3.696629184357431, ('iUTI89_1310', 'M_h_e'): 4.80985192621117, ('ic_1306', 'M_h_e'): 0.07257977845886865, ('iCN900', 'M_hxan_e'): -0.7551021769797545, ('iUMNK88_1353', 'M_hxan_e'): -3.2937144782515264, ('iETEC_1333', 'M_hxan_e'): 15.180855142068001, ('iECSF_1327', 'M_hxan_e'): -1.3644806995371326, ('iEcSMS35_1347', 'M_hxan_e'): 6.991927772679899, ('iEC1356_Bl21DE3', 'M_hxan_e'): 0.0025481568341098725, ('iUTI89_1310', 'M_hxan_e'): -16.61024532318904, ('iYL1228', 'M_lys__L_e'): 0.02886839001085323, ('iUMNK88_1353', 'M_lys__L_e'): -0.0030900661146652, ('iETEC_1333', 'M_lys__L_e'): -0.007641245216771104, ('iECSF_1327', 'M_lys__L_e'): -0.0006868079249252545, ('iEcSMS35_1347', 'M_lys__L_e'): -0.004678091518975978, ('iECUMN_1333', 'M_lys__L_e'): -0.0017894469062581415, ('iNRG857_1313', 'M_lys__L_e'): -0.0014016823925523984, ('iUTI89_1310', 'M_lys__L_e'): -0.008360725165836927, ('ic_1306', 'M_lys__L_e'): -0.0012203247708682352, ('iYL1228', 'M_h2_e'): 42.474206289632946, ('iCN900', 'M_h2_e'): -17.474206289632942, ('iECSF_1327', 'M_idon__L_e'): 1.0274171601579491, ('iEcSMS35_1347', 'M_idon__L_e'): -9.293960300481027, ('iEC1356_Bl21DE3', 'M_idon__L_e'): 8.48465893120608, ('iECUMN_1333', 'M_idon__L_e'): 2.2064974897743745, ('iNRG857_1313', 'M_idon__L_e'): 5.088864191952665, ('iUTI89_1310', 'M_idon__L_e'): -5.089059325137459, ('ic_1306', 'M_idon__L_e'): -2.4244181474725917, ('iYL1228', 'M_h2o_e'): -31.881578330575252, ('iSDY_1059', 'M_h2o_e'): -0.034158688902975604, ('iCN900', 'M_h2o_e'): 37.22214710466811, ('iUMNK88_1353', 'M_h2o_e'): -6.139031628403568, ('iETEC_1333', 'M_h2o_e'): 4.869131728221362, ('iECSF_1327', 'M_h2o_e'): 1.3644806995371326, ('iEcSMS35_1347', 'M_h2o_e'): 9.293960300481027, ('iEC1356_Bl21DE3', 'M_h2o_e'): -4.90968173793757, ('iECUMN_1333', 'M_h2o_e'): -1.260679427332681, ('iNRG857_1313', 'M_h2o_e'): -5.088864191952665, ('iUTI89_1310', 'M_h2o_e'): -1.0113076803303223, ('ic_1306', 'M_h2o_e'): -2.4244181474725917, ('iYL1228', 'M_ile__L_e'): 0.029052900000000048, ('iSDY_1059', 'M_ile__L_e'): -1.4556623800679183e-05, ('iUMNK88_1353', 'M_ile__L_e'): -0.0026161300912037376, ('iETEC_1333', 'M_ile__L_e'): -0.006469276320978467, ('iECSF_1327', 'M_ile__L_e'): -0.0005814693966406709, ('iEcSMS35_1347', 'M_ile__L_e'): -0.003960593572453081, ('iEC1356_Bl21DE3', 'M_ile__L_e'): -0.0036157121981306695, ('iECUMN_1333', 'M_ile__L_e'): -0.0015149921472086614, ('iNRG857_1313', 'M_ile__L_e'): -0.0021686043578958702, ('iUTI89_1310', 'M_ile__L_e'): -0.0070784067003693205, ('ic_1306', 'M_ile__L_e'): -0.001033158591318878, ('iNRG857_1313', 'M_malthx_e'): -0.8214264202246151, ('iYL1228', 'M_indole_e'): 0.029040357118795157, ('iSDY_1059', 'M_indole_e'): 0.002364474890702956, ('iUMNK88_1353', 'M_indole_e'): 4.9171232445207815, ('iETEC_1333', 'M_indole_e'): 0.6947512065473698, ('iECSF_1327', 'M_indole_e'): -0.9742140982888882, ('iEcSMS35_1347', 'M_indole_e'): 5.488343671379193, ('iEC1356_Bl21DE3', 'M_indole_e'): -8.48465893120608, ('iECUMN_1333', 'M_indole_e'): -2.2258648144193267, ('iNRG857_1313', 'M_indole_e'): 2.4894748885388367, ('iUTI89_1310', 'M_indole_e'): -1.9411643755392696, ('ic_1306', 'M_indole_e'): 0.004804376457887108, ('iUMNK88_1353', 'M_ins_e'): 3.2937144782515264, ('iETEC_1333', 'M_ins_e'): -13.861573234502918, ('iECSF_1327', 'M_ins_e'): 0.9520893625763605, ('iEcSMS35_1347', 'M_ins_e'): -6.991927772679899, ('iEC1356_Bl21DE3', 'M_ins_e'): -0.0025481568341098725, ('iUTI89_1310', 'M_ins_e'): 16.61024532318904, ('iSDY_1059', 'M_k_e'): -9.779922381331888e-06, ('iUMNK88_1353', 'M_k_e'): -0.0017576568290681178, ('iETEC_1333', 'M_k_e'): -0.004346407597591808, ('iECSF_1327', 'M_k_e'): -0.00039066239837841485, ('iEcSMS35_1347', 'M_k_e'): -0.0026609396693198766, ('iEC1356_Bl21DE3', 'M_k_e'): -0.002429229822460821, ('iECUMN_1333', 'M_k_e'): -0.0010178531650544363, ('iNRG857_1313', 'M_k_e'): -0.001456984984048989, ('iUTI89_1310', 'M_k_e'): -0.004755654131137301, ('ic_1306', 'M_k_e'): -0.0006941314805589313, ('iSDY_1059', 'M_kdo2lipid4_e'): -9.748582418067205e-07, ('iUMNK88_1353', 'M_kdo2lipid4_e'): -0.00017519568461138102, ('iETEC_1333', 'M_kdo2lipid4_e'): -0.0004332312440443367, ('iECSF_1327', 'M_kdo2lipid4_e'): -3.894255232742981e-05, ('iEcSMS35_1347', 'M_kdo2lipid4_e'): -0.0002652310390551276, ('iEC1356_Bl21DE3', 'M_kdo2lipid4_e'): -0.00024213519657875914, ('iECUMN_1333', 'M_kdo2lipid4_e'): -0.0001014552324074076, ('iNRG857_1313', 'M_kdo2lipid4_e'): -0.0001452260063099452, ('iUTI89_1310', 'M_kdo2lipid4_e'): -0.0004740231810331689, ('ic_1306', 'M_kdo2lipid4_e'): -6.918804509257283e-05, ('iYL1228', 'M_melib_e'): -3.5550925925925987, ('iECUMN_1333', 'M_melib_e'): 3.555092592592599, ('iYL1228', 'M_lac__D_e'): -32.090002089394034, ('iSDY_1059', 'M_lac__D_e'): 0.01919186084939576, ('iUMNK88_1353', 'M_lac__D_e'): 4.968738268225704, ('iETEC_1333', 'M_lac__D_e'): 2.8126663433907226, ('iECSF_1327', 'M_lac__D_e'): 1.3644806995371326, ('iEcSMS35_1347', 'M_lac__D_e'): 9.293960300481027, ('iEC1356_Bl21DE3', 'M_lac__D_e'): -8.252076825871328, ('iECUMN_1333', 'M_lac__D_e'): -2.2284400492044636, ('iNRG857_1313', 'M_lac__D_e'): 5.088864191952665, ('iUTI89_1310', 'M_lac__D_e'): 16.61024532318904, ('ic_1306', 'M_lac__D_e'): 2.412371976844132, ('iYL1228', 'M_n2o_e'): -2.2737367544323206e-13, ('iSDY_1059', 'M_mg2_e'): -4.3465096933831715e-07, ('iUMNK88_1353', 'M_mg2_e'): -7.811588013999438e-05, ('iETEC_1333', 'M_mg2_e'): -0.00019316822790319804, ('iECSF_1327', 'M_mg2_e'): -1.736228402623429e-05, ('iEcSMS35_1347', 'M_mg2_e'): -0.00011826065295041282, ('iEC1356_Bl21DE3', 'M_mg2_e'): -0.00010796272770974177, ('iECUMN_1333', 'M_mg2_e'): -4.523664376718036e-05, ('iNRG857_1313', 'M_mg2_e'): -6.475306356593208e-05, ('iUTI89_1310', 'M_mg2_e'): -0.00021135645021909646, ('ic_1306', 'M_mg2_e'): -3.0849418748872805e-05, ('iSDY_1059', 'M_mn2_e'): -3.4621765972654424e-08, ('iUMNK88_1353', 'M_mn2_e'): -6.222256273975344e-06, ('iETEC_1333', 'M_mn2_e'): -1.53866565396092e-05, ('iECSF_1327', 'M_mn2_e'): -1.382978474020506e-06, ('iEcSMS35_1347', 'M_mn2_e'): -9.419955180257666e-06, ('iEC1356_Bl21DE3', 'M_mn2_e'): -8.599682403162137e-06, ('iECUMN_1333', 'M_mn2_e'): -3.6032877052589766e-06, ('iNRG857_1313', 'M_mn2_e'): -5.157852094992399e-06, ('iUTI89_1310', 'M_mn2_e'): -1.68354244497286e-05, ('ic_1306', 'M_mn2_e'): -2.457285113022606e-06, ('iYL1228', 'M_nh4_e'): -4.7845515272224475, ('iSDY_1059', 'M_nh4_e'): -4.453524018785044e-05, ('iCN900', 'M_nh4_e'): 2.0965516155793686, ('iUMNK88_1353', 'M_nh4_e'): 4.930806763649685, ('iETEC_1333', 'M_nh4_e'): -11.571374645698112, ('iECSF_1327', 'M_nh4_e'): -0.30243294960231976, ('iEcSMS35_1347', 'M_nh4_e'): 5.143570959121508, ('iEC1356_Bl21DE3', 'M_nh4_e'): 4.322558471947624, ('iECUMN_1333', 'M_nh4_e'): -2.230600473091804, ('iNRG857_1313', 'M_nh4_e'): 1.969851833441402, ('iUTI89_1310', 'M_nh4_e'): -1.9987536603575942, ('ic_1306', 'M_nh4_e'): 2.4244181474725917, ('iSDY_1059', 'M_ni2_e'): -1.618354617824512e-08, ('iUMNK88_1353', 'M_ni2_e'): -2.90852210780613e-06, ('iETEC_1333', 'M_ni2_e'): -7.1923155749548066e-06, ('iECSF_1327', 'M_ni2_e'): -6.464573764234782e-07, ('iEcSMS35_1347', 'M_ni2_e'): -4.403249671813641e-06, ('iEC1356_Bl21DE3', 'M_ni2_e'): -4.019822599452055e-06, ('iECUMN_1333', 'M_ni2_e'): -1.6843153817636026e-06, ('iNRG857_1313', 'M_ni2_e'): -2.410978620379949e-06, ('iUTI89_1310', 'M_ni2_e'): -7.869525466370967e-06, ('ic_1306', 'M_ni2_e'): -1.148629654857166e-06, ('iSDY_1059', 'M_mobd_e'): -6.463397699670651e-09, ('iUMNK88_1353', 'M_mobd_e'): -1.1616079006408383e-06, ('iETEC_1333', 'M_mobd_e'): -2.87247278380548e-06, ('iECSF_1327', 'M_mobd_e'): -2.581826673641755e-07, ('iEcSMS35_1347', 'M_mobd_e'): -1.7585733983404325e-06, ('iEC1356_Bl21DE3', 'M_mobd_e'): -1.6054399855396754e-06, ('iECUMN_1333', 'M_mobd_e'): -6.726832329644109e-07, ('iNRG857_1313', 'M_mobd_e'): -9.628985821331685e-07, ('iUTI89_1310', 'M_mobd_e'): -3.142937415361779e-06, ('ic_1306', 'M_mobd_e'): -4.5874063615038516e-07, ('iSDY_1059', 'M_nmn_e'): -1.1413658883604455e-07, ('iUMNK88_1353', 'M_nmn_e'): -2.0512734865580083e-05, ('iETEC_1333', 'M_nmn_e'): -5.072475194968128e-05, ('iECSF_1327', 'M_nmn_e'): -4.559225707407689e-06, ('iEcSMS35_1347', 'M_nmn_e'): -3.105449768542253e-05, ('iEC1356_Bl21DE3', 'M_nmn_e'): -2.8350327806661872e-05, ('iECUMN_1333', 'M_nmn_e'): -1.1878855850332779e-05, ('iNRG857_1313', 'M_nmn_e'): -1.700374412984036e-05, ('iUTI89_1310', 'M_nmn_e'): -5.5500863815458406e-05, ('ic_1306', 'M_nmn_e'): -8.100861776361066e-06, ('iYL1228', 'M_no_e'): -2.2737367544323206e-13, ('iSDY_1059', 'M_no2_e'): 0.017094724250462767, ('iECSF_1327', 'M_no2_e'): 0.0006620584143467629, ('iEcSMS35_1347', 'M_no2_e'): -0.1658159622016895, ('iEC1356_Bl21DE3', 'M_no2_e'): -0.11299255722387896, ('iNRG857_1313', 'M_no2_e'): 0.2637382173352153, ('iUTI89_1310', 'M_no2_e'): -0.0026864805744563304, ('iSDY_1059', 'M_no3_e'): -0.017094724250462767, ('iECSF_1327', 'M_no3_e'): -0.0006620584143467629, ('iNRG857_1313', 'M_no3_e'): -0.2637382173352153, ('iYL1228', 'M_o2_e'): -1.142398307455606, ('iSDY_1059', 'M_o2_e'): -1.6809844404957392e-08, ('iUMNK88_1353', 'M_o2_e'): -2.0080508669992792e-06, ('iETEC_1333', 'M_o2_e'): -4.965592486733505e-06, ('iECSF_1327', 'M_o2_e'): -6.714750767494643e-07, ('iEcSMS35_1347', 'M_o2_e'): -4.560021718952517e-06, ('iEC1356_Bl21DE3', 'M_o2_e'): -4.162943218317997e-06, ('iECUMN_1333', 'M_o2_e'): -1.7442832668728332e-06, ('iNRG857_1313', 'M_o2_e'): -2.4968184164615883e-06, ('iUTI89_1310', 'M_o2_e'): -8.149709809600893e-06, ('ic_1306', 'M_o2_e'): -1.1895251379248361e-06, ('iYL1228', 'M_pro__L_e'): 0.006091800000035619, ('iSDY_1059', 'M_pro__L_e'): -1.107570836047051e-05, ('iUMNK88_1353', 'M_pro__L_e'): -0.0019905367013655856, ('iETEC_1333', 'M_pro__L_e'): -0.0049222827226676, ('iECSF_1327', 'M_pro__L_e'): -0.00044242301964486684, ('iEcSMS35_1347', 'M_pro__L_e'): -0.00301349955480732, ('iEC1356_Bl21DE3', 'M_pro__L_e'): -0.0027510894263835114, ('iECUMN_1333', 'M_pro__L_e'): -0.0011527131167670378, ('iNRG857_1313', 'M_pro__L_e'): -0.001650027488941454, ('iUTI89_1310', 'M_pro__L_e'): 0.010627947826683797, ('ic_1306', 'M_pro__L_e'): -0.0007861000877846775, ('iUTI89_1310', 'M_progly_e'): -0.0160136999999613, ('iYL1228', 'M_orn_e'): 0.35935726105660676, ('iNRG857_1313', 'M_orn_e'): -0.3521506273824615, ('iUTI89_1310', 'M_orn_e'): -0.007206633674144314, ('iSDY_1059', 'M_phe__L_e'): -9.282491277747933e-06, ('iUMNK88_1353', 'M_phe__L_e'): -0.0016682580442808135, ('iETEC_1333', 'M_phe__L_e'): -0.004125338529393196, ('iECSF_1327', 'M_phe__L_e'): -0.0003707923400715037, ('iEcSMS35_1347', 'M_phe__L_e'): -0.0025255976794072883, ('iEC1356_Bl21DE3', 'M_phe__L_e'): -0.0023056731699302945, ('iECUMN_1333', 'M_phe__L_e'): -0.0009660826291097023, ('iNRG857_1313', 'M_phe__L_e'): -0.001382879114875205, ('iUTI89_1310', 'M_phe__L_e'): -0.004513769769434109, ('ic_1306', 'M_phe__L_e'): -0.0006588262322201636, ('iYL1228', 'M_pyr_e'): 23.79235125527991, ('iSDY_1059', 'M_pyr_e'): -0.014442595857461906, ('iUMNK88_1353', 'M_pyr_e'): -6.139031628403568, ('iETEC_1333', 'M_pyr_e'): -15.180855142068001, ('iECSF_1327', 'M_pyr_e'): -1.0003343560837963, ('iEcSMS35_1347', 'M_pyr_e'): -6.758422637687127, ('iEC1356_Bl21DE3', 'M_pyr_e'): 8.48465893120608, ('iECUMN_1333', 'M_pyr_e'): 3.555092592592599, ('iNRG857_1313', 'M_pyr_e'): -0.6894115527227029, ('iUTI89_1310', 'M_pyr_e'): -6.064896850921279, ('ic_1306', 'M_pyr_e'): 0.015291984665347869, ('iYL1228', 'M_ser__L_e'): 0.14158116183221225, ('iSDY_1059', 'M_ser__L_e'): -3.902278866369063e-05, ('iUMNK88_1353', 'M_ser__L_e'): -0.007019200336226177, ('iETEC_1333', 'M_ser__L_e'): -0.017357373274378682, ('iECSF_1327', 'M_ser__L_e'): -0.07550045720767899, ('iEcSMS35_1347', 'M_ser__L_e'): -0.007304036940904072, ('iEC1356_Bl21DE3', 'M_ser__L_e'): -0.006670839600070261, ('iECUMN_1333', 'M_ser__L_e'): -0.0027939141964364563, ('iNRG857_1313', 'M_ser__L_e'): -0.003999291028103751, ('iUTI89_1310', 'M_ser__L_e'): -0.01899169879136941, ('ic_1306', 'M_ser__L_e'): -0.00190532766838067, ('iYL1228', 'M_pi_e'): -1.2859711256899304, ('iSDY_1059', 'M_pi_e'): 0.033033232118318503, ('iCN900', 'M_pi_e'): 26.250318719610245, ('iUMNK88_1353', 'M_pi_e'): -0.008315320630816636, ('iETEC_1333', 'M_pi_e'): 0.06879692604957643, ('iECSF_1327', 'M_pi_e'): -0.0018481836122971051, ('iEcSMS35_1347', 'M_pi_e'): -0.012588672696638215, ('iEC1356_Bl21DE3', 'M_pi_e'): -0.011492473687509561, ('iECUMN_1333', 'M_pi_e'): -0.004815374242880921, ('iNRG857_1313', 'M_pi_e'): -0.0013352684462120635, ('iUTI89_1310', 'M_pi_e'): -0.022498583486685025, ('ic_1306', 'M_pi_e'): -0.003283875285171378, ('iSDY_1059', 'M_pnto__R_e'): -2.885982228691011e-08, ('iCN900', 'M_pnto__R_e'): -0.10919465810783152, ('iUMNK88_1353', 'M_pnto__R_e'): -5.186714347046347e-06, ('iETEC_1333', 'M_pnto__R_e'): -1.2825924988158524e-05, ('iECSF_1327', 'M_pnto__R_e'): -1.1528156310217783e-06, ('iEcSMS35_1347', 'M_pnto__R_e'): -7.852234708871247e-06, ('iEC1356_Bl21DE3', 'M_pnto__R_e'): -7.16847621514945e-06, ('iECUMN_1333', 'M_pnto__R_e'): -3.0036088540554007e-06, ('iNRG857_1313', 'M_pnto__R_e'): -4.299454134175082e-06, ('iUTI89_1310', 'M_pnto__R_e'): -1.4033581021081175e-05, ('ic_1306', 'M_pnto__R_e'): -2.048330282345465e-06, ('iYL1228', 'M_rib__D_e'): 2.2737367544323206e-13, ('iECSE_1348', 'M_rib__D_e'): 2.2737367544323206e-13, ('iUMNK88_1353', 'M_rib__D_e'): 2.2737367544323206e-13, ('iETEC_1333', 'M_rib__D_e'): 2.2737367544323206e-13, ('iECSF_1327', 'M_rib__D_e'): 2.2737367544323206e-13, ('iEcSMS35_1347', 'M_rib__D_e'): 2.2737367544323206e-13, ('iEC1356_Bl21DE3', 'M_rib__D_e'): 2.2737367544323206e-13, ('iECUMN_1333', 'M_rib__D_e'): 2.2737367544323206e-13, ('iNRG857_1313', 'M_rib__D_e'): 2.2737367544323206e-13, ('iUTI89_1310', 'M_rib__D_e'): 2.2737367544323206e-13, ('ic_1306', 'M_rib__D_e'): 2.2737367544323206e-13, ('iSDY_1059', 'M_so4_e'): -2.17350536598227e-07, ('iUMNK88_1353', 'M_so4_e'): -3.906244242620122e-05, ('iETEC_1333', 'M_so4_e'): -9.65952475670401e-05, ('iECSF_1327', 'M_so4_e'): -8.682142721130181e-06, ('iEcSMS35_1347', 'M_so4_e'): -5.913714265116896e-05, ('iEC1356_Bl21DE3', 'M_so4_e'): -5.3987586490473737e-05, ('iECUMN_1333', 'M_so4_e'): -2.262092918294275e-05, ('iNRG857_1313', 'M_so4_e'): -3.238026394801306e-05, ('iUTI89_1310', 'M_so4_e'): -0.00010569040703751472, ('ic_1306', 'M_so4_e'): -1.5426487438917603e-05, ('iYL1228', 'M_tre_e'): -0.9345097990737062, ('iSDY_1059', 'M_succ_e'): 1.660762523351653e-05, ('iCN900', 'M_succ_e'): 6.820932707540805e-13, ('iUMNK88_1353', 'M_succ_e'): 5.002937892764709, ('iETEC_1333', 'M_succ_e'): 0.007380785417141857, ('iECSF_1327', 'M_succ_e'): 1.3644806995371326, ('iEcSMS35_1347', 'M_succ_e'): 8.791128125630209, ('iECUMN_1333', 'M_succ_e'): 0.001728451745203996, ('iNRG857_1313', 'M_succ_e'): 2.7582296392042203, ('iUTI89_1310', 'M_succ_e'): 1.6299419619201786e-05, ('ic_1306', 'M_succ_e'): 0.0011787287303949708, ('iYL1228', 'M_ump_e'): -0.07369395000022749, ('iSDY_1059', 'M_ump_e'): 0.0330795000000246, ('ic_1306', 'M_ump_e'): 0.0406144500002029, ('iYL1228', 'M_ura_e'): 31.529032400112136, ('iSDY_1059', 'M_ura_e'): -0.034158688902975604, ('iUMNK88_1353', 'M_ura_e'): -6.139031628403568, ('iECSF_1327', 'M_ura_e'): -1.3644806995371326, ('iEcSMS35_1347', 'M_ura_e'): -8.271436965225568, ('iEC1356_Bl21DE3', 'M_ura_e'): -0.00032564296636923367, ('iECUMN_1333', 'M_ura_e'): 3.555092592592599, ('iNRG857_1313', 'M_ura_e'): -5.088864191952665, ('iUTI89_1310', 'M_ura_e'): -16.61024532318904, ('ic_1306', 'M_ura_e'): 2.4244181474725917, ('iYL1228', 'M_trp__L_e'): -0.08660517003244139, ('iSDY_1059', 'M_trp__L_e'): -2.848053608080456e-06, ('iCN900', 'M_trp__L_e'): -0.05459732905391748, ('iUMNK88_1353', 'M_trp__L_e'): -4.917635099388193, ('iETEC_1333', 'M_trp__L_e'): -0.6960169427524074, ('iECSF_1327', 'M_trp__L_e'): 0.9741003317977177, ('iEcSMS35_1347', 'M_trp__L_e'): -5.473636608082804, ('iEC1356_Bl21DE3', 'M_trp__L_e'): 8.483951504654934, ('iECUMN_1333', 'M_trp__L_e'): 2.22556840098513, ('iNRG857_1313', 'M_trp__L_e'): -2.489899183454373, ('iUTI89_1310', 'M_trp__L_e'): 1.939779460876468, ('ic_1306', 'M_trp__L_e'): -0.005006517496497157, ('iYL1228', 'M_uri_e'): -32.02164512989577, ('iSDY_1059', 'M_uri_e'): 0.034158688902975604, ('iUMNK88_1353', 'M_uri_e'): 6.139031628403568, ('iECSF_1327', 'M_uri_e'): 1.3644806995371326, ('iEcSMS35_1347', 'M_uri_e'): 8.764375337975567, ('iECUMN_1333', 'M_uri_e'): -3.555092592592599, ('iNRG857_1313', 'M_uri_e'): 5.088864191952665, ('iUTI89_1310', 'M_uri_e'): 16.61024532318904, ('ic_1306', 'M_uri_e'): -2.4244181474725917, ('iYL1228', 'M_val__L_e'): 0.4083310423129799, ('iSDY_1059', 'M_val__L_e'): -2.1202048816960353e-05, ('iCN900', 'M_val__L_e'): -0.10919465810783496, ('iUMNK88_1353', 'M_val__L_e'): -0.0038104521120230885, ('iETEC_1333', 'M_val__L_e'): -0.4662428301597246, ('iECSF_1327', 'M_val__L_e'): -0.0008469232084275456, ('iEcSMS35_1347', 'M_val__L_e'): -0.005768693305337472, ('iEC1356_Bl21DE3', 'M_val__L_e'): -0.005266365853960495, ('iECUMN_1333', 'M_val__L_e'): -0.00220662001726879, ('iNRG857_1313', 'M_val__L_e'): -0.0031586208512605738, ('iUTI89_1310', 'M_val__L_e'): -0.010309858004335823, ('ic_1306', 'M_val__L_e'): -0.0015048186439896843, ('iSDY_1059', 'M_xan_e'): 0.034158688902975604, ('iUMNK88_1353', 'M_xan_e'): 6.139031628403568, ('iETEC_1333', 'M_xan_e'): -15.180855142068001, ('iECSF_1327', 'M_xan_e'): 1.3644806995371326, ('iEcSMS35_1347', 'M_xan_e'): 1.279509192545669, ('iECUMN_1333', 'M_xan_e'): -3.549847650137585, ('iNRG857_1313', 'M_xan_e'): 5.088864191952665, ('iUTI89_1310', 'M_xan_e'): 5.710176912007897, ('ic_1306', 'M_xan_e'): -0.8855185211443323, ('iYL1228', 'M_tyr__L_e'): 2.775295478998907e-06, ('iSDY_1059', 'M_tyr__L_e'): -6.909121621657242e-06, ('iUMNK88_1353', 'M_tyr__L_e'): -0.001241713822223016, ('iETEC_1333', 'M_tyr__L_e'): -0.0030705620697336474, ('iECSF_1327', 'M_tyr__L_e'): -0.00027598726433217323, ('iEcSMS35_1347', 'M_tyr__L_e'): -0.0018798468010662968, ('iEC1356_Bl21DE3', 'M_tyr__L_e'): -0.0017189284136647632, ('iECUMN_1333', 'M_tyr__L_e'): -0.0007190723030454295, ('iNRG857_1313', 'M_tyr__L_e'): -0.001029301262649887, ('iUTI89_1310', 'M_tyr__L_e'): -0.0033596782777420772, ('ic_1306', 'M_tyr__L_e'): -0.0004903759593999497, ('iSDY_1059', 'M_thm_e'): -1.1173160364546941e-08, ('iUMNK88_1353', 'M_thm_e'): -2.0080508669992792e-06, ('iETEC_1333', 'M_thm_e'): -4.965592486733505e-06, ('iECSF_1327', 'M_thm_e'): -4.463157738155903e-07, ('iEcSMS35_1347', 'M_thm_e'): -3.0400144793016782e-06, ('iECUMN_1333', 'M_thm_e'): -1.1628555112485555e-06, ('iNRG857_1313', 'M_thm_e'): -1.6645456109743922e-06, ('iUTI89_1310', 'M_thm_e'): -5.433139873067263e-06, ('ic_1306', 'M_thm_e'): -7.930167586165574e-07, ('iSDY_1059', 'M_xtsn_e'): -0.034158688902975604, ('iUMNK88_1353', 'M_xtsn_e'): -6.139031628403568, ('iETEC_1333', 'M_xtsn_e'): 15.180855142068001, ('iECSF_1327', 'M_xtsn_e'): -0.056816769826959046, ('iEcSMS35_1347', 'M_xtsn_e'): -1.279509192545669, ('iECUMN_1333', 'M_xtsn_e'): 3.549847650137585, ('iNRG857_1313', 'M_xtsn_e'): -5.088864191952665, ('iUTI89_1310', 'M_xtsn_e'): -7.017840841718075, ('ic_1306', 'M_xtsn_e'): 0.8855185211443323, ('iYL1228', 'M_thr__L_e'): 0.025368700000000022, ('iSDY_1059', 'M_thr__L_e'): -1.27106974591965e-05, ('iUMNK88_1353', 'M_thr__L_e'): -0.0022843784766656775, ('iETEC_1333', 'M_thr__L_e'): -0.005648907000815976, ('iECSF_1327', 'M_thr__L_e'): -0.0005077332274078728, ('iEcSMS35_1347', 'M_thr__L_e'): -0.003458350462827824, ('iEC1356_Bl21DE3', 'M_thr__L_e'): -0.003157203516369021, ('iECUMN_1333', 'M_thr__L_e'): -0.001322875901713508, ('iNRG857_1313', 'M_thr__L_e'): -0.0018936035085706754, ('iUTI89_1310', 'M_thr__L_e'): -0.00618079352008437, ('ic_1306', 'M_thr__L_e'): -0.0009021436880859129, ('iYL1228', 'M_uacgam_e'): -0.0055576, ('iSDY_1059', 'M_zn2_e'): -1.7085415624710794e-08, ('iUMNK88_1353', 'M_zn2_e'): -3.070606931151364e-06, ('iETEC_1333', 'M_zn2_e'): -7.593125730834642e-06, ('iECSF_1327', 'M_zn2_e'): -6.824828648928981e-07, ('iEcSMS35_1347', 'M_zn2_e'): -4.6486320064657945e-06, ('iEC1356_Bl21DE3', 'M_zn2_e'): -4.243837481155266e-06, ('iECUMN_1333', 'M_zn2_e'): -1.7781781584563112e-06, ('iNRG857_1313', 'M_zn2_e'): -2.5453365620729497e-06, ('iUTI89_1310', 'M_zn2_e'): -8.308074873165635e-06, ('ic_1306', 'M_zn2_e'): -1.2126399761804756e-06, ('iSDY_1059', 'M_udpacgal_e'): -0.0330795000000246, ('ic_1306', 'M_udpg_e'): -0.0406144500002029, ('iUMNK88_1353', 'M_btn_e'): -1.800942481613703e-08, ('iETEC_1333', 'M_btn_e'): -4.4534461764426044e-08, ('iEcSMS35_1347', 'M_btn_e'): -2.7264703850239262e-08, ('iECUMN_1333', 'M_btn_e'): -1.0429197410300945e-08, ('iNRG857_1313', 'M_btn_e'): -1.492866018811114e-08, ('iUTI89_1310', 'M_btn_e'): -4.87277118660741e-08, ('ic_1306', 'M_btn_e'): -7.112257924812172e-09, ('ic_1306', 'M_acac_e'): -2.2737367544323206e-13, ('iUMNK88_1353', 'M_fe3dcit_e'): -0.0009648308341620626, ('iETEC_1333', 'M_fe3dcit_e'): -0.00035763399519922343, ('iEC1356_Bl21DE3', 'M_fe3dcit_e'): -0.0001998835008352925, ('iECUMN_1333', 'M_fe3dcit_e'): -8.375166980342174e-05, ('iEC1356_Bl21DE3', 'M_alltn_e'): -1.3076639297101784, ('iUTI89_1310', 'M_alltn_e'): 1.3076639297101784, ('iSDY_1059', 'M_pydx_e'): -1.1173160364546941e-08, ('iUMNK88_1353', 'M_pydx_e'): -2.0080508669992792e-06, ('iETEC_1333', 'M_pydx_e'): -4.965592486733505e-06, ('iECSF_1327', 'M_pydx_e'): -4.463157738155903e-07, ('iEcSMS35_1347', 'M_pydx_e'): -3.0400144793016782e-06, ('iEC1356_Bl21DE3', 'M_pydx_e'): -2.7752954788786644e-06, ('iECUMN_1333', 'M_pydx_e'): -1.1628555112485555e-06, ('iNRG857_1313', 'M_pydx_e'): -1.6645456109743922e-06, ('iUTI89_1310', 'M_pydx_e'): -5.433139873067263e-06, ('ic_1306', 'M_pydx_e'): -7.930167586165574e-07, ('iSDY_1059', 'M_quin_e'): -0.0023644860638633203, ('iUMNK88_1353', 'M_quin_e'): -8.032203467997163e-06, ('iETEC_1333', 'M_quin_e'): -1.9862369946934137e-05, ('iECSF_1327', 'M_quin_e'): -1.7852630952623716e-06, ('iEcSMS35_1347', 'M_quin_e'): 0.0024414813133047594, ('iEC1356_Bl21DE3', 'M_quin_e'): -1.1101181915514722e-05, ('iECUMN_1333', 'M_quin_e'): -4.651422044994176e-06, ('iNRG857_1313', 'M_quin_e'): -6.658182443897608e-06, ('iUTI89_1310', 'M_quin_e'): -2.1732559492269176e-05, ('ic_1306', 'M_quin_e'): -3.172067034466248e-06, ('iSDY_1059', 'M_meoh_e'): 1.0020771627396358e-10, ('iECSF_1327', 'M_meoh_e'): 4.00283205215776e-09, ('iEC1356_Bl21DE3', 'M_meoh_e'): 2.4890542411467838e-08, ('iCN900', 'M_2ameph_e'): -28.925587843253226, ('iETEC_1333', 'M_drib_e'): 2.2737367544323206e-13, ('iECSF_1327', 'M_drib_e'): 2.2737367544323206e-13, ('ic_1306', 'M_drib_e'): 2.2737367544323206e-13, ('iECSE_1348', 'M_peng_e'): -7.105427357601002e-15, ('iECUMN_1333', 'M_raffin_e'): -3.555092592592599, ('iECSE_1348', 'M_6apa_e'): -7.105427357601002e-15, ('iECSE_1348', 'M_pac_e'): 2.1316282072803006e-14, ('iCN900', 'M_glc__aD_e'): -15.91450084928123, ('iCN900', 'M_ribflv_e'): -0.05459732905391748, ('iCN900', 'M_d23hb_e'): 2.2737367544323206e-13, ('iCN900', 'M_ad_e'): 23.123437594441427, ('iCN900', 'M_cdpg_e'): -0.05459732905391748, ('iCN900', 'M_chor_e'): 1.76563789416258, ('iCN900', 'M_uaccg_e'): -0.05459732905391748, ('iCN900', 'M_hco3_e'): -7.105427357601002e-15}\n"
     ]
    }
   ],
   "source": [
    "print('===============================================')\n",
    "print('=== SteadyComm ===')\n",
    "\n",
    "steady_sol_comp = SteadyCom(community, constraints = competitive_medium_dict)\n",
    "\n",
    "print(steady_sol_comp)\n",
    "print(steady_sol_comp.exchange_map)"
   ]
  },
  {
   "cell_type": "code",
   "execution_count": 23,
   "id": "a0e1299e",
   "metadata": {},
   "outputs": [
    {
     "name": "stdout",
     "output_type": "stream",
     "text": [
      "R_EX_ac_e 25.0\n",
      "R_EX_co2_e 19.157741247578777\n",
      "R_EX_etoh_e 18.15170123812596\n",
      "R_EX_h2_e 25.0\n",
      "R_EX_pi_e 25.0\n",
      "R_EX_succ_e 17.927097230074548\n",
      "R_EX_2ameph_e -28.925587843253226\n",
      "R_EX_glc__aD_e -15.91450084928123\n",
      "R_EX_ad_e 23.123437594441427\n"
     ]
    }
   ],
   "source": [
    "for i, f in steady_sol_comp.exchange.items():\n",
    "    if not -10 <= f <= 10:\n",
    "        print(i,f)"
   ]
  },
  {
   "cell_type": "code",
   "execution_count": 24,
   "id": "49e87d7a",
   "metadata": {},
   "outputs": [
    {
     "name": "stdout",
     "output_type": "stream",
     "text": [
      "===============================================\n",
      "=== SteadyCommFVA ===\n",
      "{'iYL1228': [0.8789085338354459, 0.9422357849912264], 'iSDY_1059': [0.0, 0.07575085071756182], 'iCN900': [0.018458303334002845, 0.04632081177226953], 'iECSE_1348': [0.0, 0.07575085071756181], 'iUMNK88_1353': [0.0, 0.07512599702142128], 'iETEC_1333': [0.0, 0.07512600028168753], 'iECSF_1327': [0.0, 0.07512581620791908], 'iEcSMS35_1347': [0.0, 0.07512581609363755], 'iEC1356_Bl21DE3': [0.0, 0.07435567404470453], 'iECUMN_1333': [0.0, 0.07575085071756182], 'iNRG857_1313': [0.0, 0.07512581549996036], 'iUTI89_1310': [0.0, 0.07512581638153033], 'ic_1306': [0.0, 0.07512581638220397]}\n"
     ]
    }
   ],
   "source": [
    "steady_solFVA_comp = SteadyComVA(community, obj_frac=0.9, constraints = competitive_medium_dict)\n",
    "print('===============================================')\n",
    "print('=== SteadyCommFVA ===')\n",
    "print(steady_solFVA_comp)"
   ]
  },
  {
   "cell_type": "markdown",
   "id": "2eab6a16",
   "metadata": {},
   "source": [
    "# Mercyful Medium"
   ]
  },
  {
   "cell_type": "code",
   "execution_count": 25,
   "id": "7b7fa6c4",
   "metadata": {},
   "outputs": [
    {
     "name": "stdout",
     "output_type": "stream",
     "text": [
      "===============================================\n",
      "=== SteadyComm ===\n",
      "Community growth: 3.025390625\n",
      "iYL1228\t0.6237967169553783\n",
      "iSDY_1059\t0.1863473824256456\n",
      "iCN900\t0.012613870520412615\n",
      "iECSE_1348\t9.12050999903508e-05\n",
      "iUMNK88_1353\t0.04297531344972932\n",
      "iETEC_1333\t0.015261042662237977\n",
      "iECSF_1327\t0.018351474531234552\n",
      "iEcSMS35_1347\t0.0\n",
      "iEC1356_Bl21DE3\t0.0\n",
      "iECUMN_1333\t0.06610716593132529\n",
      "iNRG857_1313\t0.0\n",
      "iUTI89_1310\t0.034455828424045966\n",
      "ic_1306\t0.0\n",
      "{('iYL1228', 'M_14glucan_e'): -5.739237288646546, ('iUTI89_1310', 'M_14glucan_e'): -0.6218667957907256, ('iSDY_1059', 'M_ac_e'): -0.60220270777528, ('iCN900', 'M_ac_e'): 2.7088300530922638, ('iECSE_1348', 'M_ac_e'): -0.0005844445996990892, ('iUMNK88_1353', 'M_ac_e'): 0.19466985860055658, ('iETEC_1333', 'M_ac_e'): 6.926376356996885, ('iECSF_1327', 'M_ac_e'): -0.044358544745287457, ('iECUMN_1333', 'M_ac_e'): -0.43425380011714765, ('iUTI89_1310', 'M_ac_e'): -1.1161619040623656, ('iEC1356_Bl21DE3', 'M_34dhpac_e'): 2.2737367544323206e-13, ('iYL1228', 'M_3ump_e'): 2.2737367544323206e-13, ('iSDY_1059', 'M_3ump_e'): 2.2737367544323206e-13, ('iECSE_1348', 'M_3ump_e'): 2.2737367544323206e-13, ('iUMNK88_1353', 'M_3ump_e'): 2.2737367544323206e-13, ('iETEC_1333', 'M_3ump_e'): 2.2737367544323206e-13, ('iECSF_1327', 'M_3ump_e'): 2.2737367544323206e-13, ('iEcSMS35_1347', 'M_3ump_e'): 2.2737367544323206e-13, ('iEC1356_Bl21DE3', 'M_3ump_e'): 2.2737367544323206e-13, ('iECUMN_1333', 'M_3ump_e'): 2.2737367544323206e-13, ('iNRG857_1313', 'M_3ump_e'): 2.2737367544323206e-13, ('iUTI89_1310', 'M_3ump_e'): 2.2737367544323206e-13, ('ic_1306', 'M_3ump_e'): 2.2737367544323206e-13, ('iYL1228', 'M_3amp_e'): -0.04085940000236881, ('iUTI89_1310', 'M_3amp_e'): 2.5011104298755527e-12, ('iYL1228', 'M_acald_e'): -357.66535331940884, ('iSDY_1059', 'M_acald_e'): 186.3473824256456, ('iECSE_1348', 'M_acald_e'): 0.0912050999903508, ('iUMNK88_1353', 'M_acald_e'): 42.97531344972931, ('iETEC_1333', 'M_acald_e'): 9.336983457437725, ('iECSF_1327', 'M_acald_e'): 18.35147453123455, ('iECUMN_1333', 'M_acald_e'): 66.1071659313253, ('iUTI89_1310', 'M_acald_e'): 34.45582842404597, ('iYL1228', 'M_3cmp_e'): -0.0484999999999899, ('iYL1228', 'M_3gmp_e'): 2.5011104298755527e-12, ('iSDY_1059', 'M_3gmp_e'): -0.15662929999932004, ('iSDY_1059', 'M_acgal_e'): 0.33079499999993356, ('iECUMN_1333', 'M_acgal_e'): -0.33079499999993356, ('iEC1356_Bl21DE3', 'M_4hoxpacd_e'): 2.2737367544323206e-13, ('iYL1228', 'M_acgam_e'): -0.002976286734354592, ('iSDY_1059', 'M_acgam_e'): 0.0055576, ('iECSE_1348', 'M_acgam_e'): -1.5335144282835406e-05, ('iETEC_1333', 'M_acgam_e'): -0.0025659781213625723, ('iYL1228', 'M_3hcinnm_e'): 2.2737367544323206e-13, ('iSDY_1059', 'M_acgam1p_e'): -0.0055576, ('iECUMN_1333', 'M_acgam1p_e'): 0.0055576, ('iYL1228', 'M_3hpppn_e'): 2.2737367544323206e-13, ('iECSF_1327', 'M_5dglcn_e'): 2.8704838400811035, ('iECUMN_1333', 'M_5dglcn_e'): -2.2050563626480404, ('iUTI89_1310', 'M_5dglcn_e'): -0.6654274774330633, ('iYL1228', 'M_ade_e'): -0.20570793259289225, ('iSDY_1059', 'M_ade_e'): 98.85723303984643, ('iECSE_1348', 'M_ade_e'): 0.09114872810371721, ('iUMNK88_1353', 'M_ade_e'): -42.97531344972931, ('iETEC_1333', 'M_ade_e'): -9.958064611447918, ('iECSF_1327', 'M_ade_e'): -11.312654442206668, ('iECUMN_1333', 'M_ade_e'): -0.040859400011023214, ('iUTI89_1310', 'M_ade_e'): -34.4557819319622, ('iYL1228', 'M_adn_e'): 0.08171880000473762, ('iSDY_1059', 'M_adn_e'): -98.97241029986442, ('iECSE_1348', 'M_adn_e'): -0.0912050999903508, ('iUMNK88_1353', 'M_adn_e'): 42.94875134412241, ('iETEC_1333', 'M_adn_e'): 8.874340025828088, ('iECSF_1327', 'M_adn_e'): 11.301311795337751, ('iUTI89_1310', 'M_adn_e'): 34.43448553456282, ('iYL1228', 'M_amp_e'): -0.04085940000236881, ('iUTI89_1310', 'M_amp_e'): 2.5011104298755527e-12, ('iYL1228', 'M_LalaDgluMdapDala_e'): -0.04151903226641676, ('iSDY_1059', 'M_LalaDgluMdapDala_e'): -0.2091312619689909, ('iECSE_1348', 'M_LalaDgluMdapDala_e'): -0.0001023563487219935, ('iUMNK88_1353', 'M_LalaDgluMdapDala_e'): -0.03281068482579309, ('iETEC_1333', 'M_LalaDgluMdapDala_e'): -0.01712694361129489, ('iECSF_1327', 'M_LalaDgluMdapDala_e'): -0.020595229070310247, ('iECUMN_1333', 'M_LalaDgluMdapDala_e'): -0.07418980002001305, ('iUTI89_1310', 'M_LalaDgluMdapDala_e'): -0.038668591888501254, ('iSDY_1059', 'M_akg_e'): -0.10527175744828962, ('iCN900', 'M_akg_e'): 5.119778611143708, ('iECSE_1348', 'M_akg_e'): 0.04614072426821364, ('iUMNK88_1353', 'M_akg_e'): -5.807317879269988, ('iETEC_1333', 'M_akg_e'): 15.144396788531301, ('iECSF_1327', 'M_akg_e'): -5.077658147871358, ('iECUMN_1333', 'M_akg_e'): -10.609574544248598, ('iUTI89_1310', 'M_akg_e'): 1.2895062048950123, ('iYL1228', 'M_ala__D_e'): 0.06227854839962514, ('iSDY_1059', 'M_ala__D_e'): 0.007833070728852646, ('iECSE_1348', 'M_ala__D_e'): 3.8337860707088515e-06, ('iUMNK88_1353', 'M_ala__D_e'): -0.07575549066784641, ('iETEC_1333', 'M_ala__D_e'): 0.0006414945303406431, ('iECSF_1327', 'M_ala__D_e'): 0.0007714001458499433, ('iECUMN_1333', 'M_ala__D_e'): 0.0027788000007495945, ('iUTI89_1310', 'M_ala__D_e'): 0.0014483430759992249, ('iSDY_1059', 'M_ala__L_e'): 7.551381934165626, ('iECSE_1348', 'M_ala__L_e'): 4.040320464973972e-05, ('iUMNK88_1353', 'M_ala__L_e'): -5.807617283727367, ('iETEC_1333', 'M_ala__L_e'): 15.261042662237976, ('iECSF_1327', 'M_ala__L_e'): -18.35147453123455, ('iECUMN_1333', 'M_ala__L_e'): 0.029285000007902733, ('iUTI89_1310', 'M_ala__L_e'): 1.3173418153457632, ('iYL1228', 'M_arg__L_e'): -0.5774919942510695, ('iSDY_1059', 'M_arg__L_e'): -0.166759727726269, ('iECSE_1348', 'M_arg__L_e'): -8.16181984617248e-05, ('iUMNK88_1353', 'M_arg__L_e'): -0.038458021124540664, ('iETEC_1333', 'M_arg__L_e'): -0.013656898669822226, ('iECSF_1327', 'M_arg__L_e'): -0.01642248394567858, ('iECUMN_1333', 'M_arg__L_e'): 0.44657859423238505, ('iUTI89_1310', 'M_arg__L_e'): -0.030834050319271, ('iYL1228', 'M_cgly_e'): 0.46321892808700976, ('iSDY_1059', 'M_cgly_e'): -0.1396157190619486, ('iECSE_1348', 'M_cgly_e'): -6.833294598248833e-05, ('iUMNK88_1353', 'M_cgly_e'): -0.03219808730927927, ('iETEC_1333', 'M_cgly_e'): -0.011433922050252515, ('iECSF_1327', 'M_cgly_e'): -0.013749344257881753, ('iECUMN_1333', 'M_cgly_e'): -0.2403384281004603, ('iUTI89_1310', 'M_cgly_e'): -0.025815094361294644, ('iYL1228', 'M_asn__L_e'): 0.26516049999999985, ('iSDY_1059', 'M_asn__L_e'): -0.13590045088121305, ('iECSE_1348', 'M_asn__L_e'): -6.651456033357723e-05, ('iUMNK88_1353', 'M_asn__L_e'): -0.03134127455162959, ('iETEC_1333', 'M_asn__L_e'): -0.011129657694779308, ('iECSF_1327', 'M_asn__L_e'): -0.013383464960260405, ('iECUMN_1333', 'M_asn__L_e'): -0.04821100001300514, ('iUTI89_1310', 'M_asn__L_e'): -0.025128137338778833, ('iYL1228', 'M_chol_e'): -2.2737367544323206e-13, ('iECSE_1348', 'M_chol_e'): 2.2737367544323206e-13, ('iUMNK88_1353', 'M_chol_e'): 2.2737367544323206e-13, ('iETEC_1333', 'M_chol_e'): 2.2737367544323206e-13, ('iECSF_1327', 'M_chol_e'): 2.2737367544323206e-13, ('iEcSMS35_1347', 'M_chol_e'): 2.2737367544323206e-13, ('iECUMN_1333', 'M_chol_e'): 2.2737367544323206e-13, ('iNRG857_1313', 'M_chol_e'): 2.2737367544323206e-13, ('iUTI89_1310', 'M_chol_e'): 2.2737367544323206e-13, ('ic_1306', 'M_chol_e'): 2.2737367544323206e-13, ('iSDY_1059', 'M_asp__L_e'): -1.2205670579240497, ('iECSE_1348', 'M_asp__L_e'): 0.04579945246412275, ('iUMNK88_1353', 'M_asp__L_e'): -0.33323023842326227, ('iETEC_1333', 'M_asp__L_e'): -0.048917813184859785, ('iECSF_1327', 'M_asp__L_e'): -2.4203599390343173, ('iECUMN_1333', 'M_asp__L_e'): 4.006467820157383, ('iUTI89_1310', 'M_asp__L_e'): -0.02919222405506794, ('iCN900', 'M_cys__L_e'): -0.1908094280870997, ('iECUMN_1333', 'M_cys__L_e'): 0.1908094280870997, ('iSDY_1059', 'M_cl_e'): -0.002934441711794877, ('iECSE_1348', 'M_cl_e'): -1.4362211384798886e-06, ('iUMNK88_1353', 'M_cl_e'): -0.0006767390597217732, ('iETEC_1333', 'M_cl_e'): -0.00024031805314690137, ('iECSF_1327', 'M_cl_e'): -0.00028898357270396973, ('iECUMN_1333', 'M_cl_e'): -0.0010410000002808147, ('iUTI89_1310', 'M_cl_e'): -0.000542581381213183, ('iYL1228', 'M_cytd_e'): -0.0160525, ('iYL1228', 'M_btd_RR_e'): -7.105427357601002e-15, ('iETEC_1333', 'M_dad_2_e'): -1.1000000000000014, ('iUMNK88_1353', 'M_but_e'): 4.547473508864641e-13, ('iETEC_1333', 'M_but_e'): 4.547473508864641e-13, ('iECSF_1327', 'M_but_e'): 4.547473508864641e-13, ('iEcSMS35_1347', 'M_but_e'): 4.547473508864641e-13, ('iEC1356_Bl21DE3', 'M_but_e'): 4.547473508864641e-13, ('iECUMN_1333', 'M_but_e'): 4.547473508864641e-13, ('iNRG857_1313', 'M_but_e'): 4.547473508864641e-13, ('iUTI89_1310', 'M_but_e'): 4.547473508864641e-13, ('ic_1306', 'M_but_e'): 4.547473508864641e-13, ('iYL1228', 'M_co2_e'): 31.173851605672688, ('iSDY_1059', 'M_co2_e'): 0.6474787137942544, ('iCN900', 'M_co2_e'): -11.049046402135183, ('iECSE_1348', 'M_co2_e'): -0.045927400590353024, ('iUMNK88_1353', 'M_co2_e'): 2.4741319768778203, ('iETEC_1333', 'M_co2_e'): 0.029866975484753137, ('iECSF_1327', 'M_co2_e'): 0.1094030906459621, ('iECUMN_1333', 'M_co2_e'): 0.5846694940009582, ('iUTI89_1310', 'M_co2_e'): 1.075571946249994, ('ic_1306', 'M_co2_e'): -8.948397578478762e-13, ('iSDY_1059', 'M_cobalt2_e'): -1.409434059459595e-05, ('iECSE_1348', 'M_cobalt2_e'): -6.8982763615748735e-09, ('iUMNK88_1353', 'M_cobalt2_e'): -3.2504277604311874e-06, ('iETEC_1333', 'M_cobalt2_e'): -1.1542653849514955e-06, ('iECSF_1327', 'M_cobalt2_e'): -1.3880094750430823e-06, ('iECUMN_1333', 'M_cobalt2_e'): -5.000000001348773e-06, ('iUTI89_1310', 'M_cobalt2_e'): -2.60605850726793e-06, ('iSDY_1059', 'M_ca2_e'): -0.002934441711772706, ('iECSE_1348', 'M_ca2_e'): -1.4362211384798886e-06, ('iUMNK88_1353', 'M_ca2_e'): -0.0006767390597204326, ('iETEC_1333', 'M_ca2_e'): -0.00024031805314690135, ('iECSF_1327', 'M_ca2_e'): -0.0002889835727039697, ('iECUMN_1333', 'M_ca2_e'): -0.0010410000002849529, ('iUTI89_1310', 'M_ca2_e'): -0.0005425813812131831, ('iYL1228', 'M_dcyt_e'): 2.2737367544323206e-13, ('iSDY_1059', 'M_dcyt_e'): 2.2737367544323206e-13, ('iECSE_1348', 'M_dcyt_e'): 2.2737367544323206e-13, ('iUMNK88_1353', 'M_dcyt_e'): 2.2737367544323206e-13, ('iETEC_1333', 'M_dcyt_e'): 2.2737367544323206e-13, ('iECSF_1327', 'M_dcyt_e'): 2.2737367544323206e-13, ('iEcSMS35_1347', 'M_dcyt_e'): 2.2737367544323206e-13, ('iEC1356_Bl21DE3', 'M_dcyt_e'): 2.2737367544323206e-13, ('iECUMN_1333', 'M_dcyt_e'): 2.2737367544323206e-13, ('iNRG857_1313', 'M_dcyt_e'): 2.2737367544323206e-13, ('iUTI89_1310', 'M_dcyt_e'): 2.2737367544323206e-13, ('ic_1306', 'M_dcyt_e'): 2.2737367544323206e-13, ('iYL1228', 'M_dgsn_e'): 2.2737367544323206e-13, ('iSDY_1059', 'M_dgsn_e'): 2.2737367544323206e-13, ('iECSE_1348', 'M_dgsn_e'): 2.2737367544323206e-13, ('iUMNK88_1353', 'M_dgsn_e'): 2.2737367544323206e-13, ('iETEC_1333', 'M_dgsn_e'): 2.2737367544323206e-13, ('iECSF_1327', 'M_dgsn_e'): 2.2737367544323206e-13, ('iEcSMS35_1347', 'M_dgsn_e'): 2.2737367544323206e-13, ('iEC1356_Bl21DE3', 'M_dgsn_e'): 2.2737367544323206e-13, ('iECUMN_1333', 'M_dgsn_e'): 2.2737367544323206e-13, ('iNRG857_1313', 'M_dgsn_e'): 2.2737367544323206e-13, ('iUTI89_1310', 'M_dgsn_e'): 2.2737367544323206e-13, ('ic_1306', 'M_dgsn_e'): 2.2737367544323206e-13, ('iYL1228', 'M_dha_e'): 52.697314635701105, ('iSDY_1059', 'M_dha_e'): -31.69730858145529, ('iECSE_1348', 'M_dha_e'): 0.03076986183399397, ('iUMNK88_1353', 'M_dha_e'): 7.754377411307424, ('iETEC_1333', 'M_dha_e'): -0.8050208729570905, ('iECSF_1327', 'M_dha_e'): 0.005364064403665494, ('iECUMN_1333', 'M_dha_e'): 5.213537339098869, ('iUTI89_1310', 'M_dha_e'): -33.19903385793268, ('iYL1228', 'M_cu_e'): 2.2737367544323206e-13, ('iECSE_1348', 'M_cu_e'): 2.2737367544323206e-13, ('iUMNK88_1353', 'M_cu_e'): 2.2737367544323206e-13, ('iETEC_1333', 'M_cu_e'): 2.2737367544323206e-13, ('iECSF_1327', 'M_cu_e'): 2.2737367544323206e-13, ('iEcSMS35_1347', 'M_cu_e'): 2.2737367544323206e-13, ('iEC1356_Bl21DE3', 'M_cu_e'): 2.2737367544323206e-13, ('iECUMN_1333', 'M_cu_e'): 2.2737367544323206e-13, ('iNRG857_1313', 'M_cu_e'): 2.2737367544323206e-13, ('iUTI89_1310', 'M_cu_e'): 2.2737367544323206e-13, ('ic_1306', 'M_cu_e'): 2.2737367544323206e-13, ('iSDY_1059', 'M_cu2_e'): -0.00039971549926274115, ('iECSE_1348', 'M_cu2_e'): -1.956351176142634e-07, ('iUMNK88_1353', 'M_cu2_e'): -9.218213128582847e-05, ('iETEC_1333', 'M_cu2_e'): -3.2734966317224414e-05, ('iECSF_1327', 'M_cu2_e'): -3.936394871222181e-05, ('iECUMN_1333', 'M_cu2_e'): -0.0001418000000382512, ('iUTI89_1310', 'M_cu2_e'): -7.390781926611848e-05, ('iYL1228', 'M_for_e'): 14.385062383558923, ('iSDY_1059', 'M_for_e'): 0.0007543291086227753, ('iCN900', 'M_for_e'): -0.07632377123484038, ('iECSE_1348', 'M_for_e'): 5.537936263072297e-07, ('iUMNK88_1353', 'M_for_e'): 0.000260944340607418, ('iETEC_1333', 'M_for_e'): 9.266442510390689e-05, ('iECSF_1327', 'M_for_e'): 0.00011142940065645863, ('iECUMN_1333', 'M_for_e'): 0.0004014000001082763, ('iUTI89_1310', 'M_for_e'): 0.00020921437696346754, ('iYL1228', 'M_duri_e'): 2.2737367544323206e-13, ('iSDY_1059', 'M_duri_e'): 2.2737367544323206e-13, ('iECSE_1348', 'M_duri_e'): 2.2737367544323206e-13, ('iUMNK88_1353', 'M_duri_e'): 2.2737367544323206e-13, ('iETEC_1333', 'M_duri_e'): 2.2737367544323206e-13, ('iECSF_1327', 'M_duri_e'): 2.2737367544323206e-13, ('iEcSMS35_1347', 'M_duri_e'): 2.2737367544323206e-13, ('iEC1356_Bl21DE3', 'M_duri_e'): 2.2737367544323206e-13, ('iECUMN_1333', 'M_duri_e'): 2.2737367544323206e-13, ('iNRG857_1313', 'M_duri_e'): 2.2737367544323206e-13, ('iUTI89_1310', 'M_duri_e'): 2.2737367544323206e-13, ('ic_1306', 'M_duri_e'): 2.2737367544323206e-13, ('iYL1228', 'M_din_e'): 2.2737367544323206e-13, ('iSDY_1059', 'M_din_e'): 2.2737367544323206e-13, ('iECSE_1348', 'M_din_e'): 2.2737367544323206e-13, ('iUMNK88_1353', 'M_din_e'): 2.2737367544323206e-13, ('iETEC_1333', 'M_din_e'): 2.2737367544323206e-13, ('iECSF_1327', 'M_din_e'): 2.2737367544323206e-13, ('iEcSMS35_1347', 'M_din_e'): 2.2737367544323206e-13, ('iEC1356_Bl21DE3', 'M_din_e'): 2.2737367544323206e-13, ('iECUMN_1333', 'M_din_e'): 2.2737367544323206e-13, ('iNRG857_1313', 'M_din_e'): 2.2737367544323206e-13, ('iUTI89_1310', 'M_din_e'): 2.2737367544323206e-13, ('ic_1306', 'M_din_e'): 2.2737367544323206e-13, ('iECSE_1348', 'M_fruur_e'): 0.0912050999903508, ('iUMNK88_1353', 'M_fruur_e'): -42.97531344972931, ('iETEC_1333', 'M_fruur_e'): -15.261042662237976, ('iECSF_1327', 'M_fruur_e'): -7.962014919348356, ('iECUMN_1333', 'M_fruur_e'): 66.1071659313253, ('iYL1228', 'M_fuc__L_e'): 4.547473508864641e-13, ('iUMNK88_1353', 'M_fuc__L_e'): -2.0463630789890885e-12, ('iETEC_1333', 'M_fuc__L_e'): 2.2737367544323206e-13, ('iECUMN_1333', 'M_fuc__L_e'): 4.547473508864641e-13, ('iNRG857_1313', 'M_fuc__L_e'): 2.2737367544323206e-13, ('iUTI89_1310', 'M_fuc__L_e'): 4.547473508864641e-13, ('iNRG857_1313', 'M_dmso_e'): -2.2737367544323206e-13, ('iYL1228', 'M_etoh_e'): 395.3043405929229, ('iSDY_1059', 'M_etoh_e'): -186.3473824256456, ('iCN900', 'M_etoh_e'): -6.807281370007365, ('iECSE_1348', 'M_etoh_e'): -0.0912050999903508, ('iUMNK88_1353', 'M_etoh_e'): -42.97531344972931, ('iETEC_1333', 'M_etoh_e'): -15.261042662237976, ('iECSF_1327', 'M_etoh_e'): -18.35147453123455, ('iECUMN_1333', 'M_etoh_e'): -66.1071659313253, ('iUTI89_1310', 'M_etoh_e'): -34.45582842404597, ('iYL1228', 'M_g1p_e'): 0.0406144500002029, ('iECSE_1348', 'M_glcur_e'): -0.0912050999903508, ('iUMNK88_1353', 'M_glcur_e'): 42.97531344972931, ('iETEC_1333', 'M_glcur_e'): 15.261042662237976, ('iECSF_1327', 'M_glcur_e'): 7.962014919348356, ('iECUMN_1333', 'M_glcur_e'): -66.1071659313253, ('iSDY_1059', 'M_glcur1p_e'): 2.2737367544323206e-13, ('iECSE_1348', 'M_glcur1p_e'): 2.2737367544323206e-13, ('iUMNK88_1353', 'M_glcur1p_e'): 2.2737367544323206e-13, ('iETEC_1333', 'M_glcur1p_e'): 2.2737367544323206e-13, ('iECSF_1327', 'M_glcur1p_e'): 2.2737367544323206e-13, ('iEcSMS35_1347', 'M_glcur1p_e'): 2.2737367544323206e-13, ('iEC1356_Bl21DE3', 'M_glcur1p_e'): 2.2737367544323206e-13, ('iECUMN_1333', 'M_glcur1p_e'): 2.2737367544323206e-13, ('iNRG857_1313', 'M_glcur1p_e'): 2.2737367544323206e-13, ('iUTI89_1310', 'M_glcur1p_e'): 2.2737367544323206e-13, ('ic_1306', 'M_glcur1p_e'): 2.2737367544323206e-13, ('iECSE_1348', 'M_fald_e'): 4.547473508864641e-13, ('iUMNK88_1353', 'M_fald_e'): 6.821210263296962e-13, ('iETEC_1333', 'M_fald_e'): 4.547473508864641e-13, ('iECSF_1327', 'M_fald_e'): 4.547473508864641e-13, ('iEcSMS35_1347', 'M_fald_e'): 4.547473508864641e-13, ('iEC1356_Bl21DE3', 'M_fald_e'): 6.821210263296962e-13, ('iECUMN_1333', 'M_fald_e'): 4.547473508864641e-13, ('iNRG857_1313', 'M_fald_e'): 4.547473508864641e-13, ('iUTI89_1310', 'M_fald_e'): 4.547473508864641e-13, ('ic_1306', 'M_fald_e'): 6.821210263296962e-13, ('iSDY_1059', 'M_fe2_e'): -0.004836595483768597, ('iECSE_1348', 'M_fe2_e'): -4.4317286657301614e-06, ('iETEC_1333', 'M_fe2_e'): 0.00038244893475483866, ('iECSF_1327', 'M_fe2_e'): -0.00045820968790122226, ('iUTI89_1310', 'M_fe2_e'): -0.0008603120344192889, ('iYL1228', 'M_glu__L_e'): -4.830197303706233, ('iECSE_1348', 'M_glu__L_e'): -0.04619243264409578, ('iUMNK88_1353', 'M_glu__L_e'): 5.771710570200686, ('iETEC_1333', 'M_glu__L_e'): -15.15080098679711, ('iECSF_1327', 'M_glu__L_e'): 5.067253850927952, ('iECUMN_1333', 'M_glu__L_e'): 10.578519744240218, ('iUTI89_1310', 'M_glu__L_e'): -1.3902934422214184, ('iSDY_1059', 'M_fe3_e'): -0.0042181726878236245, ('iECSF_1327', 'M_fe3_e'): -0.00043350311924545543, ('iUTI89_1310', 'M_fe3_e'): -0.00081392419298992, ('iYL1228', 'M_gal1p_e'): 2.2737367544323206e-13, ('iSDY_1059', 'M_gal1p_e'): 2.2737367544323206e-13, ('iECSE_1348', 'M_gal1p_e'): 2.2737367544323206e-13, ('iUMNK88_1353', 'M_gal1p_e'): 2.2737367544323206e-13, ('iETEC_1333', 'M_gal1p_e'): 2.2737367544323206e-13, ('iECSF_1327', 'M_gal1p_e'): 2.2737367544323206e-13, ('iEcSMS35_1347', 'M_gal1p_e'): 2.2737367544323206e-13, ('iEC1356_Bl21DE3', 'M_gal1p_e'): 2.2737367544323206e-13, ('iECUMN_1333', 'M_gal1p_e'): 2.2737367544323206e-13, ('iNRG857_1313', 'M_gal1p_e'): 2.2737367544323206e-13, ('iUTI89_1310', 'M_gal1p_e'): 2.2737367544323206e-13, ('ic_1306', 'M_gal1p_e'): 2.2737367544323206e-13, ('iYL1228', 'M_galct__D_e'): 2.2737367544323206e-13, ('iECUMN_1333', 'M_galct__D_e'): -4.547473508864641e-13, ('iYL1228', 'M_gly_e'): -0.20460743086425887, ('iSDY_1059', 'M_gly_e'): -0.0877353048904832, ('iECSE_1348', 'M_gly_e'): -5.077848822860717e-05, ('iUMNK88_1353', 'M_gly_e'): -0.023926528761644368, ('iETEC_1333', 'M_gly_e'): -0.008496593669243364, ('iECSF_1327', 'M_gly_e'): 0.06610657796866924, ('iECUMN_1333', 'M_gly_e'): 0.15400422807717007, ('iUTI89_1310', 'M_gly_e'): 0.10470583062801804, ('iYL1228', 'M_glyald_e'): 100.35467429431637, ('iECSE_1348', 'M_glyald_e'): -0.0912050999903508, ('iUMNK88_1353', 'M_glyald_e'): -42.97531344972931, ('iETEC_1333', 'M_glyald_e'): -15.261042662237976, ('iECSF_1327', 'M_glyald_e'): -18.35147453123455, ('iECUMN_1333', 'M_glyald_e'): 10.780189872921799, ('iUTI89_1310', 'M_glyald_e'): -34.45582842404597, ('iYL1228', 'M_glyc_e'): -100.35108855971154, ('iCN900', 'M_glyc_e'): 0.11448565685226059, ('iECSE_1348', 'M_glyc_e'): 0.0912050999903508, ('iUMNK88_1353', 'M_glyc_e'): 42.97531344972931, ('iETEC_1333', 'M_glyc_e'): 15.142971270780889, ('iECSF_1327', 'M_glyc_e'): 18.35147453123455, ('iECUMN_1333', 'M_glyc_e'): -10.780189872921799, ('iUTI89_1310', 'M_glyc_e'): 34.45582842404597, ('iYL1228', 'M_galur_e'): 4.547473508864641e-13, ('iECSE_1348', 'M_galur_e'): 3.410605131648481e-13, ('iUMNK88_1353', 'M_galur_e'): 3.410605131648481e-13, ('iETEC_1333', 'M_galur_e'): 3.410605131648481e-13, ('iECSF_1327', 'M_galur_e'): 3.410605131648481e-13, ('iEcSMS35_1347', 'M_galur_e'): 3.410605131648481e-13, ('iEC1356_Bl21DE3', 'M_galur_e'): 3.410605131648481e-13, ('iECUMN_1333', 'M_galur_e'): 3.410605131648481e-13, ('iNRG857_1313', 'M_galur_e'): 3.410605131648481e-13, ('iUTI89_1310', 'M_galur_e'): 3.410605131648481e-13, ('ic_1306', 'M_galur_e'): 3.410605131648481e-13, ('iECSE_1348', 'M_glyclt_e'): 1.8459787543574246e-07, ('iUMNK88_1353', 'M_glyclt_e'): 8.698144687002696e-05, ('iETEC_1333', 'M_glyclt_e'): 3.0888141701302845e-05, ('iECSF_1327', 'M_glyclt_e'): 3.714313355215288e-05, ('iECUMN_1333', 'M_glyclt_e'): 2.1692469542149215, ('iUTI89_1310', 'M_glyclt_e'): 6.973812565448794e-05, ('iECSE_1348', 'M_gmp_e'): -0.0912050999903508, ('iECSF_1327', 'M_glcn_e'): 15.480990691153448, ('iECUMN_1333', 'M_glcn_e'): -15.368683958720933, ('iUTI89_1310', 'M_glcn_e'): -0.11230673243251335, ('iYL1228', 'M_his__L_e'): -0.008900000000000019, ('iSDY_1059', 'M_his__L_e'): -0.053410785570033245, ('iECSE_1348', 'M_his__L_e'): -2.6141156237715215e-05, ('iUMNK88_1353', 'M_his__L_e'): -0.012317561006709192, ('iETEC_1333', 'M_his__L_e'): -0.004374111761581391, ('iECSF_1327', 'M_his__L_e'): -0.005259889665865261, ('iECUMN_1333', 'M_his__L_e'): -0.018947600005111205, ('iUTI89_1310', 'M_his__L_e'): -0.009875710834461968, ('iYL1228', 'M_glcr_e'): 2.2737367544323206e-13, ('iYL1228', 'M_gsn_e'): -2.5011104298755527e-12, ('iSDY_1059', 'M_gsn_e'): -0.8012183599968803, ('iECSE_1348', 'M_gsn_e'): 0.0912050999903508, ('iCN900', 'M_gthox_e'): -0.2500000000000071, ('iYL1228', 'M_leu__L_e'): -0.7228086071835284, ('iSDY_1059', 'M_leu__L_e'): -0.2539974944969572, ('iCN900', 'M_leu__L_e'): -0.0763237712348404, ('iECSE_1348', 'M_leu__L_e'): -0.00012431549389826935, ('iUMNK88_1353', 'M_leu__L_e'): -0.05857673877339292, ('iETEC_1333', 'M_leu__L_e'): -0.020801293525903288, ('iECSF_1327', 'M_leu__L_e'): -0.02501365187202539, ('iECUMN_1333', 'M_leu__L_e'): -0.09010620002430869, ('iUTI89_1310', 'M_leu__L_e'): 1.0477520726048535, ('iYL1228', 'M_gthrd_e'): -0.7897095000001961, ('iCN900', 'M_gthrd_e'): 0.5000000000002274, ('iUMNK88_1353', 'M_gthrd_e'): 2.2737367544323206e-13, ('iEC1356_Bl21DE3', 'M_gthrd_e'): 2.2737367544323206e-13, ('ic_1306', 'M_gthrd_e'): 2.2737367544323206e-13, ('iYL1228', 'M_gua_e'): -0.2755353959498567, ('iSDY_1059', 'M_gua_e'): 0.8208241720564117, ('iECSE_1348', 'M_gua_e'): -6.72488128694998e-05, ('iUMNK88_1353', 'M_gua_e'): -0.031687250082449894, ('iETEC_1333', 'M_gua_e'): -0.011252517702353549, ('iECSF_1327', 'M_gua_e'): -0.013531204688783991, ('iECUMN_1333', 'M_gua_e'): -0.048743200013149135, ('iUTI89_1310', 'M_gua_e'): -0.44000735480694475, ('iYL1228', 'M_h_e'): 12.497493709696224, ('iSDY_1059', 'M_h_e'): 8.676008051914737, ('iCN900', 'M_h_e'): -50.214783112424925, ('iECSE_1348', 'M_h_e'): 0.0912050999903508, ('iUMNK88_1353', 'M_h_e'): 11.634735701984258, ('iETEC_1333', 'M_h_e'): 4.684913459928523, ('iECSF_1327', 'M_h_e'): -0.19953779923550816, ('iECUMN_1333', 'M_h_e'): 5.0559450545117235, ('iUTI89_1310', 'M_h_e'): 32.7740198336327, ('ic_1306', 'M_h_e'): 1.9326762412674725e-12, ('iCN900', 'M_hxan_e'): -0.34345697055678, ('iECSE_1348', 'M_hxan_e'): -0.06451248626466562, ('iUMNK88_1353', 'M_hxan_e'): -22.34104387642727, ('iETEC_1333', 'M_hxan_e'): 9.877230929404137, ('iECSF_1327', 'M_hxan_e'): -18.35147453123455, ('iUTI89_1310', 'M_hxan_e'): 31.223256935079114, ('iYL1228', 'M_lys__L_e'): 0.015419032266374422, ('iUMNK88_1353', 'M_lys__L_e'): -0.015419032266374443, ('iECSF_1327', 'M_idon__L_e'): -18.35147453123455, ('iECUMN_1333', 'M_idon__L_e'): 17.573740321368973, ('iUTI89_1310', 'M_idon__L_e'): 0.7777342098655766, ('iYL1228', 'M_h2o_e'): 11.963976345223836, ('iSDY_1059', 'M_h2o_e'): 26.645674608156632, ('iCN900', 'M_h2o_e'): -1.4009860595529773, ('iECSE_1348', 'M_h2o_e'): -0.0912050999903508, ('iUMNK88_1353', 'M_h2o_e'): 24.528460131495528, ('iETEC_1333', 'M_h2o_e'): -15.261042662237976, ('iECSF_1327', 'M_h2o_e'): -15.290972155819981, ('iECUMN_1333', 'M_h2o_e'): -65.54973353132526, ('iUTI89_1310', 'M_h2o_e'): 34.45582842405097, ('ic_1306', 'M_h2o_e'): -4.121147867408581e-13, ('iYL1228', 'M_ile__L_e'): 0.3195818999999999, ('iSDY_1059', 'M_ile__L_e'): -0.16379258714429465, ('iECSE_1348', 'M_ile__L_e'): -8.016597332207944e-05, ('iUMNK88_1353', 'M_ile__L_e'): -0.03777374107241249, ('iETEC_1333', 'M_ile__L_e'): -0.01341390272098292, ('iECSF_1327', 'M_ile__L_e'): -0.016130280190991664, ('iECUMN_1333', 'M_ile__L_e'): -0.05810580001567431, ('iUTI89_1310', 'M_ile__L_e'): -0.030285422882321774, ('iYL1228', 'M_malthx_e'): -3.1817076844504006, ('iYL1228', 'M_indole_e'): 0.11387768241668758, ('iECSE_1348', 'M_indole_e'): -0.04298132500778561, ('iUMNK88_1353', 'M_indole_e'): -42.711674609622655, ('iETEC_1333', 'M_indole_e'): 6.821076964760672, ('iECSF_1327', 'M_indole_e'): 2.8794412759477273, ('iECUMN_1333', 'M_indole_e'): 66.09579733132223, ('iUTI89_1310', 'M_indole_e'): -33.155537319816865, ('iECSE_1348', 'M_ins_e'): 0.06451248626466562, ('iUMNK88_1353', 'M_ins_e'): 20.51020877957819, ('iETEC_1333', 'M_ins_e'): -7.702938861998293, ('iECSF_1327', 'M_ins_e'): 18.35147453123455, ('iUTI89_1310', 'M_ins_e'): -31.223256935079114, ('iSDY_1059', 'M_k_e'): -0.1100446649472387, ('iECSE_1348', 'M_k_e'): -5.385981031379537e-05, ('iUMNK88_1353', 'M_k_e'): -0.02537842983367379, ('iETEC_1333', 'M_k_e'): -0.009012180931393492, ('iECSF_1327', 'M_k_e'): -0.010837189338483374, ('iECUMN_1333', 'M_k_e'): -0.03903860001053085, ('iUTI89_1310', 'M_k_e'): -0.020347375128365965, ('iSDY_1059', 'M_kdo2lipid4_e'): -0.010968779624338353, ('iECSE_1348', 'M_kdo2lipid4_e'): -5.36851459563203e-06, ('iUMNK88_1353', 'M_kdo2lipid4_e'): -0.002529612900277967, ('iETEC_1333', 'M_kdo2lipid4_e'): -0.0008982954931846519, ('iECSF_1327', 'M_kdo2lipid4_e'): -0.0010802044938575282, ('iECUMN_1333', 'M_kdo2lipid4_e'): -0.0038912000010496695, ('iUTI89_1310', 'M_kdo2lipid4_e'): -0.0020281389726961936, ('iYL1228', 'M_lac__D_e'): -300.167275514573, ('iSDY_1059', 'M_lac__D_e'): 186.3473824256456, ('iECSE_1348', 'M_lac__D_e'): 0.0449469800272226, ('iUMNK88_1353', 'M_lac__D_e'): 17.75538876856176, ('iETEC_1333', 'M_lac__D_e'): 6.832408849750893, ('iECSF_1327', 'M_lac__D_e'): 13.624154135216282, ('iECUMN_1333', 'M_lac__D_e'): 66.1071659313253, ('iUTI89_1310', 'M_lac__D_e'): 34.45582842404597, ('iYL1228', 'M_n2o_e'): -2.2737367544323206e-13, ('iSDY_1059', 'M_mg2_e'): -0.004890736186324795, ('iECSE_1348', 'M_mg2_e'): -2.3937018974664806e-06, ('iUMNK88_1353', 'M_mg2_e'): -0.0011278984328696219, ('iETEC_1333', 'M_mg2_e'): -0.0004005300885781689, ('iECSF_1327', 'M_mg2_e'): -0.0004816392878399495, ('iECUMN_1333', 'M_mg2_e'): -0.0017350000004680297, ('iUTI89_1310', 'M_mg2_e'): -0.0009043023020219717, ('iSDY_1059', 'M_mn2_e'): -0.0003895675740346323, ('iECSE_1348', 'M_mn2_e'): -1.906683586339295e-07, ('iUMNK88_1353', 'M_mn2_e'): -8.984182329831801e-05, ('iETEC_1333', 'M_mn2_e'): -3.190389524005933e-05, ('iECSF_1327', 'M_mn2_e'): -3.836458189019079e-05, ('iECUMN_1333', 'M_mn2_e'): -0.0001382000000372801, ('iUTI89_1310', 'M_mn2_e'): -7.203145714088559e-05, ('iYL1228', 'M_nh4_e'): -16.066440390494066, ('iSDY_1059', 'M_nh4_e'): -7.76461771906073, ('iCN900', 'M_nh4_e'): 12.613870520412615, ('iECSE_1348', 'M_nh4_e'): -0.04301050747610562, ('iUMNK88_1353', 'M_nh4_e'): -42.97531344972931, ('iETEC_1333', 'M_nh4_e'): 8.870166646047599, ('iECSF_1327', 'M_nh4_e'): 18.35147453123455, ('iECUMN_1333', 'M_nh4_e'): 59.80267799520205, ('iUTI89_1310', 'M_nh4_e'): -32.788807626136574, ('iSDY_1059', 'M_ni2_e'): -0.00018209888048217966, ('iECSE_1348', 'M_ni2_e'): -8.912573059154735e-08, ('iUMNK88_1353', 'M_ni2_e'): -4.199552666477094e-05, ('iETEC_1333', 'M_ni2_e'): -1.491310877357332e-05, ('iECSF_1327', 'M_ni2_e'): -1.793308241755662e-05, ('iECUMN_1333', 'M_ni2_e'): -6.460000001742615e-05, ('iUTI89_1310', 'M_ni2_e'): -3.367027591390165e-05, ('iSDY_1059', 'M_mobd_e'): -7.27267974681151e-05, ('iECSE_1348', 'M_mobd_e'): -3.5595106025726346e-08, ('iUMNK88_1353', 'M_mobd_e'): -1.6772207243824926e-05, ('iETEC_1333', 'M_mobd_e'): -5.956009386349716e-06, ('iECSF_1327', 'M_mobd_e'): -7.162128891222303e-06, ('iECUMN_1333', 'M_mobd_e'): -2.580000000695967e-05, ('iUTI89_1310', 'M_mobd_e'): -1.3447261897502517e-05, ('iECUMN_1333', 'M_nmn_e'): -0.0004556000001229002, ('iYL1228', 'M_no_e'): -2.2737367544323206e-13, ('iUMNK88_1353', 'M_no2_e'): 0.2814950000000249, ('iECUMN_1333', 'M_no2_e'): -0.2814950000000249, ('iUMNK88_1353', 'M_no3_e'): -0.2814950000000249, ('iYL1228', 'M_o2_e'): -1.1621062203252066, ('iSDY_1059', 'M_o2_e'): -0.00021760740144408726, ('iECSE_1348', 'M_o2_e'): -1.1695337743414041e-06, ('iUMNK88_1353', 'M_o2_e'): -4.349072343441115e-05, ('iETEC_1333', 'M_o2_e'): -1.5444070850651013e-05, ('iECSF_1327', 'M_o2_e'): -1.857156677607644e-05, ('iECUMN_1333', 'M_o2_e'): -6.690000001804659e-05, ('iUTI89_1310', 'M_o2_e'): -3.4869062827244906e-05, ('iYL1228', 'M_pro__L_e'): 0.22714680000003867, ('iSDY_1059', 'M_pro__L_e'): -0.10861127840557501, ('iECSE_1348', 'M_pro__L_e'): -6.0995939244317346e-05, ('iUMNK88_1353', 'M_pro__L_e'): -0.028740932343284644, ('iETEC_1333', 'M_pro__L_e'): -0.010206245386818113, ('iECSF_1327', 'M_pro__L_e'): -0.012273057380225941, ('iECUMN_1333', 'M_pro__L_e'): -0.04421100001192613, ('iUTI89_1310', 'M_pro__L_e'): -0.023043290532964493, ('iSDY_1059', 'M_progly_e'): -0.0160136999999613, ('iYL1228', 'M_orn_e'): 0.5057369942483433, ('iECUMN_1333', 'M_orn_e'): -0.5057369942483433, ('iYL1228', 'M_phe__L_e'): 0.18526499999999985, ('iSDY_1059', 'M_phe__L_e'): -0.10444752041031273, ('iECSE_1348', 'M_phe__L_e'): -5.1120366805086744e-05, ('iUMNK88_1353', 'M_phe__L_e'): -0.02408761996145135, ('iETEC_1333', 'M_phe__L_e'): -0.00855379906172155, ('iECSF_1327', 'M_phe__L_e'): -0.010285983015754263, ('iECUMN_1333', 'M_phe__L_e'): -0.03705300000999522, ('iUTI89_1310', 'M_phe__L_e'): -0.01931245717395972, ('iYL1228', 'M_pyr_e'): 289.5330331591369, ('iSDY_1059', 'M_pyr_e'): -184.3713179682005, ('iECSE_1348', 'M_pyr_e'): -0.08790032590201671, ('iUMNK88_1353', 'M_pyr_e'): -42.97531344972931, ('iETEC_1333', 'M_pyr_e'): -15.261042662237976, ('iECSF_1327', 'M_pyr_e'): 7.541111582553478, ('iECUMN_1333', 'M_pyr_e'): 5.077258088425401, ('iUTI89_1310', 'M_pyr_e'): -34.45582842404597, ('iYL1228', 'M_ser__L_e'): 0.6656894712348402, ('iSDY_1059', 'M_ser__L_e'): -0.3020625785662712, ('iECSE_1348', 'M_ser__L_e'): -0.00014784027187756464, ('iUMNK88_1353', 'M_ser__L_e'): -0.06966147753912577, ('iETEC_1333', 'M_ser__L_e'): -0.024737615512280275, ('iECSF_1327', 'M_ser__L_e'): -0.10607086853903669, ('iECUMN_1333', 'M_ser__L_e'): -0.10715740002890621, ('iUTI89_1310', 'M_ser__L_e'): -0.0558516907773425, ('iYL1228', 'M_pi_e'): -1.6471235005783447, ('iSDY_1059', 'M_pi_e'): -0.028914055235689406, ('iCN900', 'M_pi_e'): 10.743938125159254, ('iECSE_1348', 'M_pi_e'): 0.09094966537054434, ('iUMNK88_1353', 'M_pi_e'): -0.12035930943809069, ('iETEC_1333', 'M_pi_e'): -0.042741015915702896, ('iECSF_1327', 'M_pi_e'): -0.0513962697290981, ('iECUMN_1333', 'M_pi_e'): -0.18468820004979847, ('iUTI89_1310', 'M_pi_e'): -0.09649911501651659, ('iSDY_1059', 'M_pnto__R_e'): -0.0003247336072995704, ('iCN900', 'M_pnto__R_e'): -0.0763237712348391, ('iECSE_1348', 'M_pnto__R_e'): -1.5893628737065346e-07, ('iUMNK88_1353', 'M_pnto__R_e'): -7.488985560035293e-05, ('iETEC_1333', 'M_pnto__R_e'): -2.6594274469275747e-05, ('iECSF_1327', 'M_pnto__R_e'): -3.1979738304984545e-05, ('iECUMN_1333', 'M_pnto__R_e'): -0.00011520000003101272, ('iUTI89_1310', 'M_pnto__R_e'): -6.004358800743796e-05, ('iYL1228', 'M_rib__D_e'): 2.2737367544323206e-13, ('iECSE_1348', 'M_rib__D_e'): 2.2737367544323206e-13, ('iUMNK88_1353', 'M_rib__D_e'): 2.2737367544323206e-13, ('iETEC_1333', 'M_rib__D_e'): 2.2737367544323206e-13, ('iECSF_1327', 'M_rib__D_e'): 2.2737367544323206e-13, ('iEcSMS35_1347', 'M_rib__D_e'): 2.2737367544323206e-13, ('iEC1356_Bl21DE3', 'M_rib__D_e'): 2.2737367544323206e-13, ('iECUMN_1333', 'M_rib__D_e'): 2.2737367544323206e-13, ('iNRG857_1313', 'M_rib__D_e'): 2.2737367544323206e-13, ('iUTI89_1310', 'M_rib__D_e'): 2.2737367544323206e-13, ('ic_1306', 'M_rib__D_e'): 2.2737367544323206e-13, ('iSDY_1059', 'M_so4_e'): -0.002445649979974289, ('iECSE_1348', 'M_so4_e'): -1.196988914260472e-06, ('iUMNK88_1353', 'M_so4_e'): -0.0005640142249900195, ('iETEC_1333', 'M_so4_e'): -0.0002002881295967835, ('iECSF_1327', 'M_so4_e'): -0.0002408474041094756, ('iECUMN_1333', 'M_so4_e'): -0.0008676000002340392, ('iUTI89_1310', 'M_so4_e'): -0.0004522032721811312, ('iYL1228', 'M_tre_e'): -0.6411250218161157, ('iSDY_1059', 'M_succ_e'): 0.4984948303096109, ('iCN900', 'M_succ_e'): 6.821140874357923e-13, ('iECSE_1348', 'M_succ_e'): 9.146121103652212e-05, ('iUMNK88_1353', 'M_succ_e'): 8.698144686913878e-05, ('iETEC_1333', 'M_succ_e'): 0.015303896862302501, ('iECSF_1327', 'M_succ_e'): 2.3036152776321996, ('iECUMN_1333', 'M_succ_e'): -0.778192199982192, ('iUTI89_1310', 'M_succ_e'): 0.03455258308212228, ('iYL1228', 'M_ump_e'): -0.33635259999993355, ('iSDY_1059', 'M_ump_e'): 0.33079499999993356, ('iECUMN_1333', 'M_ump_e'): 0.0055576, ('iYL1228', 'M_ura_e'): -0.8507534386005615, ('iSDY_1059', 'M_ura_e'): 57.77336986088133, ('iCN900', 'M_ura_e'): -0.07632377123484045, ('iECSE_1348', 'M_ura_e'): -0.0715269951193753, ('iUMNK88_1353', 'M_ura_e'): 32.70476652175325, ('iETEC_1333', 'M_ura_e'): -15.261042662237976, ('iECSF_1327', 'M_ura_e'): 18.35147453123455, ('iECUMN_1333', 'M_ura_e'): -58.11413562263039, ('iUTI89_1310', 'M_ura_e'): -34.45582842404597, ('iYL1228', 'M_trp__L_e'): -0.1245570967992503, ('iSDY_1059', 'M_trp__L_e'): -0.032046584096744705, ('iCN900', 'M_trp__L_e'): -0.0381618856174202, ('iECSE_1348', 'M_trp__L_e'): 0.042965640258856776, ('iUMNK88_1353', 'M_trp__L_e'): 42.70428404701521, ('iETEC_1333', 'M_trp__L_e'): -6.823701441051744, ('iECSF_1327', 'M_trp__L_e'): -2.882597220851322, ('iECUMN_1333', 'M_trp__L_e'): -66.1071659313253, ('iUTI89_1310', 'M_trp__L_e'): 33.14961187246772, ('iYL1228', 'M_uri_e'): 0.37696705000013647, ('iSDY_1059', 'M_uri_e'): -57.4617456910056, ('iECSE_1348', 'M_uri_e'): 0.0715269951193753, ('iUMNK88_1353', 'M_uri_e'): -32.4662805317937, ('iETEC_1333', 'M_uri_e'): 15.261042662237976, ('iECSF_1327', 'M_uri_e'): -18.35147453123455, ('iECUMN_1333', 'M_uri_e'): 58.11413562263039, ('iUTI89_1310', 'M_uri_e'): 34.45582842404597, ('iYL1228', 'M_val__L_e'): 8.373311630511063, ('iSDY_1059', 'M_val__L_e'): -0.23856757418761643, ('iCN900', 'M_val__L_e'): -7.013116952092698, ('iECSE_1348', 'M_val__L_e'): -0.00011676353686866647, ('iUMNK88_1353', 'M_val__L_e'): -0.05501830047838244, ('iETEC_1333', 'M_val__L_e'): -0.01953764995307349, ('iECSF_1327', 'M_val__L_e'): -0.023494114619127225, ('iECUMN_1333', 'M_val__L_e'): -0.08463240002282646, ('iUTI89_1310', 'M_val__L_e'): -1.1388278756204713, ('iSDY_1059', 'M_xan_e'): -169.90971047032374, ('iCN900', 'M_xan_e'): -0.07632377123484045, ('iECSE_1348', 'M_xan_e'): 0.0912050999903508, ('iUMNK88_1353', 'M_xan_e'): 42.637035392363515, ('iETEC_1333', 'M_xan_e'): 15.261042662237976, ('iECSF_1327', 'M_xan_e'): 11.433756731595496, ('iECUMN_1333', 'M_xan_e'): 66.1071659313253, ('iUTI89_1310', 'M_xan_e'): 34.45582842404597, ('iYL1228', 'M_tyr__L_e'): 0.13789600000000013, ('iSDY_1059', 'M_tyr__L_e'): -0.07774212762529611, ('iECSE_1348', 'M_tyr__L_e'): -3.804978868622914e-05, ('iUMNK88_1353', 'M_tyr__L_e'): -0.017928839458096757, ('iETEC_1333', 'M_tyr__L_e'): -0.006366743180930856, ('iECSF_1327', 'M_tyr__L_e'): -0.007656038182821632, ('iECUMN_1333', 'M_tyr__L_e'): -0.027579200007439617, ('iUTI89_1310', 'M_tyr__L_e'): -0.014374601756728738, ('iSDY_1059', 'M_thm_e'): -0.00012572151810379587, ('iECSE_1348', 'M_thm_e'): -6.153262514524786e-08, ('iUMNK88_1353', 'M_thm_e'): -2.8993815623046185e-05, ('iETEC_1333', 'M_thm_e'): -1.0296047233767339e-05, ('iECSF_1327', 'M_thm_e'): -1.2381044517384291e-05, ('iECUMN_1333', 'M_thm_e'): -4.460000001203106e-05, ('iUTI89_1310', 'M_thm_e'): -2.3246041884829935e-05, ('iSDY_1059', 'M_xtsn_e'): 169.90971047032374, ('iECSE_1348', 'M_xtsn_e'): -0.0912050999903508, ('iUMNK88_1353', 'M_xtsn_e'): -42.97531344972931, ('iETEC_1333', 'M_xtsn_e'): -15.261042662237976, ('iECSF_1327', 'M_xtsn_e'): -11.433756731595496, ('iECUMN_1333', 'M_xtsn_e'): -66.1071659313253, ('iUTI89_1310', 'M_xtsn_e'): -34.041226595445316, ('iYL1228', 'M_thr__L_e'): 0.40294483154235783, ('iSDY_1059', 'M_thr__L_e'): -0.1430220392968522, ('iECSE_1348', 'M_thr__L_e'): -7.000012141355379e-05, ('iUMNK88_1353', 'M_thr__L_e'): -0.03298365069042026, ('iETEC_1333', 'M_thr__L_e'): -0.011712884908487601, ('iECSF_1327', 'M_thr__L_e'): -0.014084798387810174, ('iECUMN_1333', 'M_thr__L_e'): -0.05073740001368665, ('iUTI89_1310', 'M_thr__L_e'): -0.15033405812368877, ('iECUMN_1333', 'M_uacgam_e'): -0.0055576, ('iSDY_1059', 'M_zn2_e'): -0.000192246805710289, ('iECSE_1348', 'M_zn2_e'): -9.409248957188128e-08, ('iUMNK88_1353', 'M_zn2_e'): -4.4335834652281394e-05, ('iETEC_1333', 'M_zn2_e'): -1.5744179850738398e-05, ('iECSF_1327', 'M_zn2_e'): -1.8932449239587642e-05, ('iECUMN_1333', 'M_zn2_e'): -6.820000001839728e-05, ('iUTI89_1310', 'M_zn2_e'): -3.554663803913456e-05, ('iCN900', 'M_thymd_e'): -0.07632377123484038, ('iECSF_1327', 'M_thymd_e'): 0.07632377123484038, ('iSDY_1059', 'M_udpacgal_e'): -0.33079499999993356, ('iYL1228', 'M_udpg_e'): -0.0406144500002029, ('iSDY_1059', 'M_btn_e'): -1.127547247567676e-06, ('iECSE_1348', 'M_btn_e'): -5.518621089259898e-10, ('iUMNK88_1353', 'M_btn_e'): -2.6003422083449494e-07, ('iETEC_1333', 'M_btn_e'): -9.234123079611964e-08, ('iECSF_1327', 'M_btn_e'): -1.1104075800344657e-07, ('iECUMN_1333', 'M_btn_e'): -4.0000000010790187e-07, ('iUTI89_1310', 'M_btn_e'): -2.0848468058143442e-07, ('ic_1306', 'M_acac_e'): -2.2737367544323206e-13, ('iUMNK88_1353', 'M_fe3dcit_e'): -0.0020882048104114118, ('iETEC_1333', 'M_fe3dcit_e'): -0.0011239951886630774, ('iECUMN_1333', 'M_fe3dcit_e'): -0.0032122000008665058, ('iUMNK88_1353', 'M_alltn_e'): 2.1691131542148856, ('iECUMN_1333', 'M_alltn_e'): -2.1691131542148856, ('iSDY_1059', 'M_pydx_e'): -2.23e-05, ('iSDY_1059', 'M_quin_e'): 0.00047831392758481436, ('iECSE_1348', 'M_quin_e'): -2.4613050058099034e-07, ('iUMNK88_1353', 'M_quin_e'): -0.00011597526249218707, ('iETEC_1333', 'M_quin_e'): -4.118418893507018e-05, ('iECSF_1327', 'M_quin_e'): -4.9524178069537165e-05, ('iECUMN_1333', 'M_quin_e'): -0.000178400000048121, ('iUTI89_1310', 'M_quin_e'): -9.298416753931787e-05, ('iCN900', 'M_2ameph_e'): -12.613870520412615, ('iETEC_1333', 'M_drib_e'): 2.2737367544323206e-13, ('iECSF_1327', 'M_drib_e'): 2.2737367544323206e-13, ('ic_1306', 'M_drib_e'): 2.2737367544323206e-13, ('iECSE_1348', 'M_peng_e'): -7.105427357601002e-15, ('iECSE_1348', 'M_6apa_e'): -7.105427357601002e-15, ('iECSE_1348', 'M_pac_e'): 2.1316282072803006e-14, ('iCN900', 'M_glc__aD_e'): -1.8636179113272962, ('iCN900', 'M_ribflv_e'): -0.03816188561742019, ('iCN900', 'M_d23hb_e'): 2.2737367544323206e-13, ('iCN900', 'M_isobuta_e'): 6.936793180857857, ('iCN900', 'M_dachi_e'): -0.15, ('iCN900', 'M_ad_e'): 4.183842331464018, ('iCN900', 'M_cdpg_e'): -0.0381618856174202, ('iCN900', 'M_chor_e'): -7.105427357601002e-15, ('iCN900', 'M_uaccg_e'): -0.03816188561742019, ('iCN900', 'M_hco3_e'): -7.105427357601002e-15, ('iCN900', 'M_actn__R_e'): 4.547473508864641e-13}\n"
     ]
    }
   ],
   "source": [
    "print('===============================================')\n",
    "print('=== SteadyComm ===')\n",
    "\n",
    "steady_sol_mercy = SteadyCom(community, constraints = mercyful_medium_dict)\n",
    "\n",
    "print(steady_sol_mercy)\n",
    "print(steady_sol_mercy.exchange_map)"
   ]
  },
  {
   "cell_type": "code",
   "execution_count": 26,
   "id": "1a90c4a8",
   "metadata": {},
   "outputs": [
    {
     "name": "stdout",
     "output_type": "stream",
     "text": [
      "R_EX_14glucan_e -6.3611040844372715\n",
      "R_EX_ac_e 7.632314867389925\n",
      "R_EX_co2_e 25.0\n",
      "R_EX_for_e 14.31056914776977\n",
      "R_EX_etoh_e 24.90764669870651\n",
      "R_EX_h_e 25.0\n",
      "R_EX_malthx_e -3.1817076844504006\n",
      "R_EX_lac__D_e 25.0\n",
      "R_EX_pyr_e 25.0\n",
      "R_EX_pi_e 8.663166324566557\n",
      "R_EX_2ameph_e -12.613870520412615\n",
      "R_EX_isobuta_e 6.936793180857857\n",
      "R_EX_ad_e 4.183842331464018\n"
     ]
    }
   ],
   "source": [
    "for i, f in steady_sol_mercy.exchange.items():\n",
    "    if not -3 <= f <= 3:\n",
    "        print(i,f)"
   ]
  },
  {
   "cell_type": "code",
   "execution_count": 27,
   "id": "ed1528c9",
   "metadata": {},
   "outputs": [
    {
     "name": "stdout",
     "output_type": "stream",
     "text": [
      "===============================================\n",
      "=== SteadyCommFVA ===\n",
      "{'iYL1228': [0.5780141225845226, 0.8388332075949132], 'iSDY_1059': [0.0, 0.40398181201894795], 'iCN900': [0.004956581135426782, 0.022336380772518427], 'iECSE_1348': [0.0, 0.40398181201894784], 'iUMNK88_1353': [0.0, 0.40398823613801016], 'iETEC_1333': [0.0, 0.40398823613801016], 'iECSF_1327': [0.0, 0.4039818120185479], 'iEcSMS35_1347': [0.0, 0.4039818120189479], 'iEC1356_Bl21DE3': [0.0, 0.40398823613801027], 'iECUMN_1333': [0.0, 0.07345240659036138], 'iNRG857_1313': [0.0, 0.4039818117458119], 'iUTI89_1310': [0.0, 0.4039818120189479], 'ic_1306': [0.0, 0.40398181201894795]}\n"
     ]
    }
   ],
   "source": [
    "steady_solFVA_mercy = SteadyComVA(community, obj_frac=0.9, constraints = mercyful_medium_dict)\n",
    "print('===============================================')\n",
    "print('=== SteadyCommFVA ===')\n",
    "print(steady_solFVA_mercy)"
   ]
  },
  {
   "cell_type": "markdown",
   "id": "8f37ae15",
   "metadata": {},
   "source": [
    "# Gut Medium"
   ]
  },
  {
   "cell_type": "code",
   "execution_count": 28,
   "id": "a881fe06",
   "metadata": {},
   "outputs": [
    {
     "name": "stdout",
     "output_type": "stream",
     "text": [
      "===============================================\n",
      "=== SteadyComm ===\n",
      "Community growth: 0.48828125\n",
      "iYL1228\t0.7853789778092801\n",
      "iSDY_1059\t0.0\n",
      "iCN900\t0.21462102219071982\n",
      "iECSE_1348\t0.0\n",
      "iUMNK88_1353\t0.0\n",
      "iETEC_1333\t0.0\n",
      "iECSF_1327\t0.0\n",
      "iEcSMS35_1347\t0.0\n",
      "iEC1356_Bl21DE3\t0.0\n",
      "iECUMN_1333\t0.0\n",
      "iNRG857_1313\t0.0\n",
      "iUTI89_1310\t0.0\n",
      "ic_1306\t0.0\n",
      "{('iYL1228', 'M_12ppd__S_e'): -7.105427357601002e-15, ('iYL1228', 'M_2ddglcn_e'): -2.2737367544323206e-13, ('iYL1228', 'M_ac_e'): 16.43284542531069, ('iCN900', 'M_ac_e'): -11.432845425310688, ('iEC1356_Bl21DE3', 'M_34dhpac_e'): 2.2737367544323206e-13, ('iYL1228', 'M_3ump_e'): 2.2737367544323206e-13, ('iSDY_1059', 'M_3ump_e'): 2.2737367544323206e-13, ('iECSE_1348', 'M_3ump_e'): 2.2737367544323206e-13, ('iUMNK88_1353', 'M_3ump_e'): 2.2737367544323206e-13, ('iETEC_1333', 'M_3ump_e'): 2.2737367544323206e-13, ('iECSF_1327', 'M_3ump_e'): 2.2737367544323206e-13, ('iEcSMS35_1347', 'M_3ump_e'): 2.2737367544323206e-13, ('iEC1356_Bl21DE3', 'M_3ump_e'): 2.2737367544323206e-13, ('iECUMN_1333', 'M_3ump_e'): 2.2737367544323206e-13, ('iNRG857_1313', 'M_3ump_e'): 2.2737367544323206e-13, ('iUTI89_1310', 'M_3ump_e'): 2.2737367544323206e-13, ('ic_1306', 'M_3ump_e'): 2.2737367544323206e-13, ('iYL1228', 'M_3amp_e'): 2.2737367544323206e-13, ('iSDY_1059', 'M_3amp_e'): 2.2737367544323206e-13, ('iECSE_1348', 'M_3amp_e'): 2.2737367544323206e-13, ('iUMNK88_1353', 'M_3amp_e'): 2.2737367544323206e-13, ('iETEC_1333', 'M_3amp_e'): 2.2737367544323206e-13, ('iECSF_1327', 'M_3amp_e'): 2.2737367544323206e-13, ('iEcSMS35_1347', 'M_3amp_e'): 2.2737367544323206e-13, ('iEC1356_Bl21DE3', 'M_3amp_e'): 2.2737367544323206e-13, ('iECUMN_1333', 'M_3amp_e'): 2.2737367544323206e-13, ('iNRG857_1313', 'M_3amp_e'): 2.2737367544323206e-13, ('iUTI89_1310', 'M_3amp_e'): 2.2737367544323206e-13, ('ic_1306', 'M_3amp_e'): 2.2737367544323206e-13, ('iYL1228', 'M_acald_e'): -7.105427357601002e-15, ('iYL1228', 'M_3cmp_e'): 2.2737367544323206e-13, ('iSDY_1059', 'M_3cmp_e'): 2.2737367544323206e-13, ('iECSE_1348', 'M_3cmp_e'): 2.2737367544323206e-13, ('iUMNK88_1353', 'M_3cmp_e'): 2.2737367544323206e-13, ('iETEC_1333', 'M_3cmp_e'): 2.2737367544323206e-13, ('iECSF_1327', 'M_3cmp_e'): 2.2737367544323206e-13, ('iEcSMS35_1347', 'M_3cmp_e'): 2.2737367544323206e-13, ('iEC1356_Bl21DE3', 'M_3cmp_e'): 2.2737367544323206e-13, ('iECUMN_1333', 'M_3cmp_e'): 2.2737367544323206e-13, ('iNRG857_1313', 'M_3cmp_e'): 2.2737367544323206e-13, ('iUTI89_1310', 'M_3cmp_e'): 2.2737367544323206e-13, ('ic_1306', 'M_3cmp_e'): 2.2737367544323206e-13, ('iYL1228', 'M_3gmp_e'): 2.2737367544323206e-13, ('iSDY_1059', 'M_3gmp_e'): 2.2737367544323206e-13, ('iECSE_1348', 'M_3gmp_e'): 2.2737367544323206e-13, ('iUMNK88_1353', 'M_3gmp_e'): 2.2737367544323206e-13, ('iETEC_1333', 'M_3gmp_e'): 2.2737367544323206e-13, ('iECSF_1327', 'M_3gmp_e'): 2.2737367544323206e-13, ('iEcSMS35_1347', 'M_3gmp_e'): 2.2737367544323206e-13, ('iEC1356_Bl21DE3', 'M_3gmp_e'): 2.2737367544323206e-13, ('iECUMN_1333', 'M_3gmp_e'): 2.2737367544323206e-13, ('iNRG857_1313', 'M_3gmp_e'): 2.2737367544323206e-13, ('iUTI89_1310', 'M_3gmp_e'): 2.2737367544323206e-13, ('ic_1306', 'M_3gmp_e'): 2.2737367544323206e-13, ('iEC1356_Bl21DE3', 'M_4hoxpacd_e'): 2.2737367544323206e-13, ('iSDY_1059', 'M_acgal1p_e'): 2.2737367544323206e-13, ('iECSE_1348', 'M_acgal1p_e'): 2.2737367544323206e-13, ('iUMNK88_1353', 'M_acgal1p_e'): 2.2737367544323206e-13, ('iETEC_1333', 'M_acgal1p_e'): 2.2737367544323206e-13, ('iECSF_1327', 'M_acgal1p_e'): 2.2737367544323206e-13, ('iEcSMS35_1347', 'M_acgal1p_e'): 2.2737367544323206e-13, ('iEC1356_Bl21DE3', 'M_acgal1p_e'): 2.2737367544323206e-13, ('iECUMN_1333', 'M_acgal1p_e'): 2.2737367544323206e-13, ('iNRG857_1313', 'M_acgal1p_e'): 2.2737367544323206e-13, ('iUTI89_1310', 'M_acgal1p_e'): 2.2737367544323206e-13, ('ic_1306', 'M_acgal1p_e'): 2.2737367544323206e-13, ('iYL1228', 'M_3hcinnm_e'): 2.2737367544323206e-13, ('iSDY_1059', 'M_acgam1p_e'): 2.2737367544323206e-13, ('iECSE_1348', 'M_acgam1p_e'): 2.2737367544323206e-13, ('iUMNK88_1353', 'M_acgam1p_e'): 2.2737367544323206e-13, ('iETEC_1333', 'M_acgam1p_e'): 2.2737367544323206e-13, ('iECSF_1327', 'M_acgam1p_e'): 2.2737367544323206e-13, ('iEcSMS35_1347', 'M_acgam1p_e'): 2.2737367544323206e-13, ('iEC1356_Bl21DE3', 'M_acgam1p_e'): 2.2737367544323206e-13, ('iECUMN_1333', 'M_acgam1p_e'): 2.2737367544323206e-13, ('iNRG857_1313', 'M_acgam1p_e'): 2.2737367544323206e-13, ('iUTI89_1310', 'M_acgam1p_e'): 2.2737367544323206e-13, ('ic_1306', 'M_acgam1p_e'): 2.2737367544323206e-13, ('iYL1228', 'M_3hpppn_e'): 2.2737367544323206e-13, ('iYL1228', 'M_ade_e'): -7.105427357601002e-15, ('iYL1228', 'M_adn_e'): 2.2737367544323206e-13, ('iYL1228', 'M_LalaDgluMdap_e'): -7.105427357601002e-15, ('iYL1228', 'M_anhgm_e'): -2.2737367544323206e-13, ('iYL1228', 'M_LalaDgluMdapDala_e'): -7.105427357601002e-15, ('iYL1228', 'M_agm_e'): -7.105427357601002e-15, ('iYL1228', 'M_ala__D_e'): -7.105427357601002e-15, ('iYL1228', 'M_ala__L_e'): -1.0, ('iYL1228', 'M_arg__L_e'): -0.4344514880986774, ('iCN900', 'M_arg__L_e'): -0.5655485119013226, ('iYL1228', 'M_cgly_e'): -7.105427357601002e-15, ('iYL1228', 'M_asn__L_e'): -0.8952045790084375, ('iCN900', 'M_asn__L_e'): -0.10479542099156247, ('iYL1228', 'M_chol_e'): -2.2737367544323206e-13, ('iECSE_1348', 'M_chol_e'): 2.2737367544323206e-13, ('iUMNK88_1353', 'M_chol_e'): 2.2737367544323206e-13, ('iETEC_1333', 'M_chol_e'): 2.2737367544323206e-13, ('iECSF_1327', 'M_chol_e'): 2.2737367544323206e-13, ('iEcSMS35_1347', 'M_chol_e'): 2.2737367544323206e-13, ('iECUMN_1333', 'M_chol_e'): 2.2737367544323206e-13, ('iNRG857_1313', 'M_chol_e'): 2.2737367544323206e-13, ('iUTI89_1310', 'M_chol_e'): 2.2737367544323206e-13, ('ic_1306', 'M_chol_e'): 2.2737367544323206e-13, ('iYL1228', 'M_asp__L_e'): -1.0000000000002274, ('iCN900', 'M_asp__L_e'): 2.2737367544323206e-13, ('iYL1228', 'M_cys__L_e'): -0.029911894662658128, ('iCN900', 'M_cys__L_e'): -0.3143862629746874, ('iYL1228', 'M_cytd_e'): 2.2737367544323206e-13, ('iYL1228', 'M_btd_RR_e'): -7.105427357601002e-15, ('iYL1228', 'M_dad_2_e'): 2.2737367544323206e-13, ('iSDY_1059', 'M_dad_2_e'): 2.2737367544323206e-13, ('iECSE_1348', 'M_dad_2_e'): 2.2737367544323206e-13, ('iUMNK88_1353', 'M_dad_2_e'): 2.2737367544323206e-13, ('iETEC_1333', 'M_dad_2_e'): 2.2737367544323206e-13, ('iECSF_1327', 'M_dad_2_e'): 2.2737367544323206e-13, ('iEcSMS35_1347', 'M_dad_2_e'): 2.2737367544323206e-13, ('iEC1356_Bl21DE3', 'M_dad_2_e'): 2.2737367544323206e-13, ('iECUMN_1333', 'M_dad_2_e'): 2.2737367544323206e-13, ('iNRG857_1313', 'M_dad_2_e'): 2.2737367544323206e-13, ('iUTI89_1310', 'M_dad_2_e'): 2.2737367544323206e-13, ('ic_1306', 'M_dad_2_e'): 2.2737367544323206e-13, ('iUMNK88_1353', 'M_but_e'): 4.547473508864641e-13, ('iEcSMS35_1347', 'M_but_e'): 4.547473508864641e-13, ('iEC1356_Bl21DE3', 'M_but_e'): 4.547473508864641e-13, ('iECUMN_1333', 'M_but_e'): 4.547473508864641e-13, ('ic_1306', 'M_but_e'): 4.547473508864641e-13, ('iYL1228', 'M_co2_e'): 24.854603694998737, ('iCN900', 'M_co2_e'): 8.514443204560925, ('iYL1228', 'M_dcyt_e'): 2.2737367544323206e-13, ('iSDY_1059', 'M_dcyt_e'): 2.2737367544323206e-13, ('iECSE_1348', 'M_dcyt_e'): 2.2737367544323206e-13, ('iUMNK88_1353', 'M_dcyt_e'): 2.2737367544323206e-13, ('iETEC_1333', 'M_dcyt_e'): 2.2737367544323206e-13, ('iECSF_1327', 'M_dcyt_e'): 2.2737367544323206e-13, ('iEcSMS35_1347', 'M_dcyt_e'): 2.2737367544323206e-13, ('iEC1356_Bl21DE3', 'M_dcyt_e'): 2.2737367544323206e-13, ('iECUMN_1333', 'M_dcyt_e'): 2.2737367544323206e-13, ('iNRG857_1313', 'M_dcyt_e'): 2.2737367544323206e-13, ('iUTI89_1310', 'M_dcyt_e'): 2.2737367544323206e-13, ('ic_1306', 'M_dcyt_e'): 2.2737367544323206e-13, ('iYL1228', 'M_dgsn_e'): 2.2737367544323206e-13, ('iSDY_1059', 'M_dgsn_e'): 2.2737367544323206e-13, ('iECSE_1348', 'M_dgsn_e'): 2.2737367544323206e-13, ('iUMNK88_1353', 'M_dgsn_e'): 2.2737367544323206e-13, ('iETEC_1333', 'M_dgsn_e'): 2.2737367544323206e-13, ('iECSF_1327', 'M_dgsn_e'): 2.2737367544323206e-13, ('iEcSMS35_1347', 'M_dgsn_e'): 2.2737367544323206e-13, ('iEC1356_Bl21DE3', 'M_dgsn_e'): 2.2737367544323206e-13, ('iECUMN_1333', 'M_dgsn_e'): 2.2737367544323206e-13, ('iNRG857_1313', 'M_dgsn_e'): 2.2737367544323206e-13, ('iUTI89_1310', 'M_dgsn_e'): 2.2737367544323206e-13, ('ic_1306', 'M_dgsn_e'): 2.2737367544323206e-13, ('iYL1228', 'M_dha_e'): -7.105427357601002e-15, ('iYL1228', 'M_cu_e'): 2.2737367544323206e-13, ('iECSE_1348', 'M_cu_e'): 2.2737367544323206e-13, ('iUMNK88_1353', 'M_cu_e'): 2.2737367544323206e-13, ('iETEC_1333', 'M_cu_e'): 2.2737367544323206e-13, ('iECSF_1327', 'M_cu_e'): 2.2737367544323206e-13, ('iEcSMS35_1347', 'M_cu_e'): 2.2737367544323206e-13, ('iEC1356_Bl21DE3', 'M_cu_e'): 2.2737367544323206e-13, ('iECUMN_1333', 'M_cu_e'): 2.2737367544323206e-13, ('iNRG857_1313', 'M_cu_e'): 2.2737367544323206e-13, ('iUTI89_1310', 'M_cu_e'): 2.2737367544323206e-13, ('ic_1306', 'M_cu_e'): 2.2737367544323206e-13, ('iCN900', 'M_for_e'): 0.2843862629746854, ('iYL1228', 'M_duri_e'): 2.2737367544323206e-13, ('iSDY_1059', 'M_duri_e'): 2.2737367544323206e-13, ('iECSE_1348', 'M_duri_e'): 2.2737367544323206e-13, ('iUMNK88_1353', 'M_duri_e'): 2.2737367544323206e-13, ('iETEC_1333', 'M_duri_e'): 2.2737367544323206e-13, ('iECSF_1327', 'M_duri_e'): 2.2737367544323206e-13, ('iEcSMS35_1347', 'M_duri_e'): 2.2737367544323206e-13, ('iEC1356_Bl21DE3', 'M_duri_e'): 2.2737367544323206e-13, ('iECUMN_1333', 'M_duri_e'): 2.2737367544323206e-13, ('iNRG857_1313', 'M_duri_e'): 2.2737367544323206e-13, ('iUTI89_1310', 'M_duri_e'): 2.2737367544323206e-13, ('ic_1306', 'M_duri_e'): 2.2737367544323206e-13, ('iYL1228', 'M_din_e'): 2.2737367544323206e-13, ('iSDY_1059', 'M_din_e'): 2.2737367544323206e-13, ('iECSE_1348', 'M_din_e'): 2.2737367544323206e-13, ('iUMNK88_1353', 'M_din_e'): 2.2737367544323206e-13, ('iETEC_1333', 'M_din_e'): 2.2737367544323206e-13, ('iECSF_1327', 'M_din_e'): 2.2737367544323206e-13, ('iEcSMS35_1347', 'M_din_e'): 2.2737367544323206e-13, ('iEC1356_Bl21DE3', 'M_din_e'): 2.2737367544323206e-13, ('iECUMN_1333', 'M_din_e'): 2.2737367544323206e-13, ('iNRG857_1313', 'M_din_e'): 2.2737367544323206e-13, ('iUTI89_1310', 'M_din_e'): 2.2737367544323206e-13, ('ic_1306', 'M_din_e'): 2.2737367544323206e-13, ('iSDY_1059', 'M_fru_e'): 2.2737367544323206e-13, ('iECSE_1348', 'M_fru_e'): 2.2737367544323206e-13, ('iECUMN_1333', 'M_fru_e'): 2.2737367544323206e-13, ('iYL1228', 'M_fuc__L_e'): 4.547473508864641e-13, ('iUMNK88_1353', 'M_fuc__L_e'): 2.2737367544323206e-13, ('iETEC_1333', 'M_fuc__L_e'): 2.2737367544323206e-13, ('iECUMN_1333', 'M_fuc__L_e'): 4.547473508864641e-13, ('iNRG857_1313', 'M_fuc__L_e'): 2.2737367544323206e-13, ('iUTI89_1310', 'M_fuc__L_e'): 4.547473508864641e-13, ('iNRG857_1313', 'M_dmso_e'): -2.2737367544323206e-13, ('iYL1228', 'M_etoh_e'): 9.193562680066467, ('iCN900', 'M_etoh_e'): 15.806437319933533, ('iYL1228', 'M_g1p_e'): 2.2737367544323206e-13, ('iSDY_1059', 'M_g1p_e'): 2.2737367544323206e-13, ('iECSE_1348', 'M_g1p_e'): 2.2737367544323206e-13, ('iUMNK88_1353', 'M_g1p_e'): 2.2737367544323206e-13, ('iETEC_1333', 'M_g1p_e'): 2.2737367544323206e-13, ('iECSF_1327', 'M_g1p_e'): 2.2737367544323206e-13, ('iEcSMS35_1347', 'M_g1p_e'): 2.2737367544323206e-13, ('iEC1356_Bl21DE3', 'M_g1p_e'): 2.2737367544323206e-13, ('iECUMN_1333', 'M_g1p_e'): 2.2737367544323206e-13, ('iNRG857_1313', 'M_g1p_e'): 2.2737367544323206e-13, ('iUTI89_1310', 'M_g1p_e'): 2.2737367544323206e-13, ('ic_1306', 'M_g1p_e'): 2.2737367544323206e-13, ('iYL1228', 'M_glcur_e'): 6.821210263296962e-13, ('iUTI89_1310', 'M_glcur_e'): 4.547473508864641e-13, ('iYL1228', 'M_g3pe_e'): -7.105427357601002e-15, ('iSDY_1059', 'M_glcur1p_e'): 2.2737367544323206e-13, ('iECSE_1348', 'M_glcur1p_e'): 2.2737367544323206e-13, ('iUMNK88_1353', 'M_glcur1p_e'): 2.2737367544323206e-13, ('iETEC_1333', 'M_glcur1p_e'): 2.2737367544323206e-13, ('iECSF_1327', 'M_glcur1p_e'): 2.2737367544323206e-13, ('iEcSMS35_1347', 'M_glcur1p_e'): 2.2737367544323206e-13, ('iEC1356_Bl21DE3', 'M_glcur1p_e'): 2.2737367544323206e-13, ('iECUMN_1333', 'M_glcur1p_e'): 2.2737367544323206e-13, ('iNRG857_1313', 'M_glcur1p_e'): 2.2737367544323206e-13, ('iUTI89_1310', 'M_glcur1p_e'): 2.2737367544323206e-13, ('ic_1306', 'M_glcur1p_e'): 2.2737367544323206e-13, ('iYL1228', 'M_g3pg_e'): -7.105427357601002e-15, ('iSDY_1059', 'M_fald_e'): -2.2737367544323206e-13, ('iECSE_1348', 'M_fald_e'): 2.2737367544323206e-13, ('iUMNK88_1353', 'M_fald_e'): 4.547473508864641e-13, ('iETEC_1333', 'M_fald_e'): 2.2737367544323206e-13, ('iECSF_1327', 'M_fald_e'): 2.2737367544323206e-13, ('iEcSMS35_1347', 'M_fald_e'): 2.2737367544323206e-13, ('iEC1356_Bl21DE3', 'M_fald_e'): 4.547473508864641e-13, ('iECUMN_1333', 'M_fald_e'): 2.2737367544323206e-13, ('iNRG857_1313', 'M_fald_e'): 2.2737367544323206e-13, ('iUTI89_1310', 'M_fald_e'): 2.2737367544323206e-13, ('ic_1306', 'M_fald_e'): 4.547473508864641e-13, ('iYL1228', 'M_gln__L_e'): -0.6238547466305784, ('iCN900', 'M_gln__L_e'): -0.37614525336942156, ('iYL1228', 'M_glu__L_e'): -1.0, ('iYL1228', 'M_fe3_e'): -7.105427357601002e-15, ('iYL1228', 'M_gal_e'): 2.2026824808563106e-13, ('iEC1356_Bl21DE3', 'M_gal_e'): -2.2737367544323206e-13, ('iYL1228', 'M_gal1p_e'): 2.2737367544323206e-13, ('iSDY_1059', 'M_gal1p_e'): 2.2737367544323206e-13, ('iECSE_1348', 'M_gal1p_e'): 2.2737367544323206e-13, ('iUMNK88_1353', 'M_gal1p_e'): 2.2737367544323206e-13, ('iETEC_1333', 'M_gal1p_e'): 2.2737367544323206e-13, ('iECSF_1327', 'M_gal1p_e'): 2.2737367544323206e-13, ('iEcSMS35_1347', 'M_gal1p_e'): 2.2737367544323206e-13, ('iEC1356_Bl21DE3', 'M_gal1p_e'): 2.2737367544323206e-13, ('iECUMN_1333', 'M_gal1p_e'): 2.2737367544323206e-13, ('iNRG857_1313', 'M_gal1p_e'): 2.2737367544323206e-13, ('iUTI89_1310', 'M_gal1p_e'): 2.2737367544323206e-13, ('ic_1306', 'M_gal1p_e'): 2.2737367544323206e-13, ('iYL1228', 'M_galct__D_e'): 2.2737367544323206e-13, ('iECUMN_1333', 'M_galct__D_e'): -4.547473508864641e-13, ('iYL1228', 'M_gly_e'): -0.2018568864462691, ('iCN900', 'M_gly_e'): -0.7981431135537309, ('iYL1228', 'M_glyald_e'): -7.105427357601002e-15, ('iYL1228', 'M_glyc_e'): -0.3143862629746874, ('iCN900', 'M_glyc_e'): 0.3143862629746874, ('iYL1228', 'M_galur_e'): 4.547473508864641e-13, ('iYL1228', 'M_glyc__R_e'): -7.105427357601002e-15, ('iYL1228', 'M_glyc3p_e'): -7.105427357601002e-15, ('iYL1228', 'M_glc__D_e'): -10.0, ('iYL1228', 'M_his__L_e'): -0.7904091580168751, ('iCN900', 'M_his__L_e'): -0.20959084198312494, ('iYL1228', 'M_glcr_e'): 2.2737367544323206e-13, ('iYL1228', 'M_gsn_e'): 2.2737367544323206e-13, ('iCN900', 'M_gthox_e'): -7.105427357601002e-15, ('iYL1228', 'M_leu__L_e'): -0.14687507251023157, ('iCN900', 'M_leu__L_e'): -0.8531249274897684, ('iYL1228', 'M_gua_e'): -7.105427357601002e-15, ('iYL1228', 'M_h_e'): 8.508294108306245, ('iCN900', 'M_h_e'): -8.508294108306245, ('iYL1228', 'M_lys__L_e'): -0.09165311313301658, ('iCN900', 'M_lys__L_e'): -0.5239771049578124, ('iYL1228', 'M_h2_e'): 24.9999999999975, ('iSDY_1059', 'M_h2_e'): 2.2737367544323206e-13, ('iECSE_1348', 'M_h2_e'): 2.2737367544323206e-13, ('iUMNK88_1353', 'M_h2_e'): 2.2737367544323206e-13, ('iETEC_1333', 'M_h2_e'): 2.2737367544323206e-13, ('iECSF_1327', 'M_h2_e'): 2.2737367544323206e-13, ('iEcSMS35_1347', 'M_h2_e'): 2.2737367544323206e-13, ('iEC1356_Bl21DE3', 'M_h2_e'): 2.2737367544323206e-13, ('iECUMN_1333', 'M_h2_e'): 2.2737367544323206e-13, ('iNRG857_1313', 'M_h2_e'): 2.2737367544323206e-13, ('iUTI89_1310', 'M_h2_e'): 2.2737367544323206e-13, ('ic_1306', 'M_h2_e'): 2.2737367544323206e-13, ('iYL1228', 'M_h2o_e'): -16.446186901512284, ('iCN900', 'M_h2o_e'): 54.49517449851505, ('iYL1228', 'M_ile__L_e'): -0.07631367997267907, ('iCN900', 'M_ile__L_e'): -0.20959084198312494, ('iYL1228', 'M_inost_e'): 2.2737367544323206e-13, ('iSDY_1059', 'M_inost_e'): 2.2737367544323206e-13, ('iECSE_1348', 'M_inost_e'): 2.2737367544323206e-13, ('iUMNK88_1353', 'M_inost_e'): 2.2737367544323206e-13, ('iETEC_1333', 'M_inost_e'): 2.2737367544323206e-13, ('iECSF_1327', 'M_inost_e'): 2.2737367544323206e-13, ('iEcSMS35_1347', 'M_inost_e'): 2.2737367544323206e-13, ('iECUMN_1333', 'M_inost_e'): 2.2737367544323206e-13, ('iNRG857_1313', 'M_inost_e'): 2.2737367544323206e-13, ('iUTI89_1310', 'M_inost_e'): 2.2737367544323206e-13, ('ic_1306', 'M_inost_e'): 2.2737367544323206e-13, ('iYL1228', 'M_ins_e'): 2.2737367544323206e-13, ('iSDY_1059', 'M_ins_e'): 2.2737367544323206e-13, ('iEC1356_Bl21DE3', 'M_ins_e'): 2.2737367544323206e-13, ('iECUMN_1333', 'M_ins_e'): 2.2737367544323206e-13, ('iYL1228', 'M_melib_e'): -7.105427357601002e-15, ('iYL1228', 'M_lac__D_e'): -2.0000000000000018, ('iYL1228', 'M_met__L_e'): -0.03643115375580157, ('iCN900', 'M_met__L_e'): -0.20959084198312494, ('iYL1228', 'M_n2o_e'): -2.2737367544323206e-13, ('iYL1228', 'M_lcts_e'): -2.3447910280083306e-13, ('iSDY_1059', 'M_lcts_e'): 2.2737367544323206e-13, ('iCN900', 'M_nac_e'): -0.01, ('iYL1228', 'M_nh4_e'): 7.820708460965529, ('iCN900', 'M_nh4_e'): -12.820708460965529, ('iYL1228', 'M_pacald_e'): 2.2737367544323206e-13, ('iYL1228', 'M_no_e'): -2.2737367544323206e-13, ('iYL1228', 'M_ppal_e'): -7.105427357601002e-15, ('iYL1228', 'M_pro__L_e'): -0.07324579334061157, ('iCN900', 'M_pro__L_e'): -0.20959084198312494, ('iYL1228', 'M_ptrc_e'): 0.31710482442209553, ('iCN900', 'M_ptrc_e'): -0.31710482442209553, ('iYL1228', 'M_phe__L_e'): -0.08091550992078031, ('iCN900', 'M_phe__L_e'): -0.9190844900792197, ('iYL1228', 'M_pyr_e'): -7.105427357601002e-15, ('iYL1228', 'M_ser__L_e'): -1.0, ('iYL1228', 'M_pi_e'): -0.4377567435291212, ('iCN900', 'M_pi_e'): 5.437756743529121, ('iCN900', 'M_pnto__R_e'): -0.010000000000218279, ('iYL1228', 'M_rib__D_e'): 2.2737367544323206e-13, ('iECSE_1348', 'M_rib__D_e'): 2.2737367544323206e-13, ('iUMNK88_1353', 'M_rib__D_e'): 2.2737367544323206e-13, ('iETEC_1333', 'M_rib__D_e'): 2.2737367544323206e-13, ('iECSF_1327', 'M_rib__D_e'): 2.2737367544323206e-13, ('iEcSMS35_1347', 'M_rib__D_e'): 2.2737367544323206e-13, ('iEC1356_Bl21DE3', 'M_rib__D_e'): 2.2737367544323206e-13, ('iECUMN_1333', 'M_rib__D_e'): 2.2737367544323206e-13, ('iNRG857_1313', 'M_rib__D_e'): 2.2737367544323206e-13, ('iUTI89_1310', 'M_rib__D_e'): 2.2737367544323206e-13, ('ic_1306', 'M_rib__D_e'): 2.2737367544323206e-13, ('iYL1228', 'M_succ_e'): 2.1845955706580886, ('iCN900', 'M_succ_e'): 2.8154044293419114, ('iYL1228', 'M_ump_e'): 2.2737367544323206e-13, ('iSDY_1059', 'M_ump_e'): 2.2737367544323206e-13, ('iECSE_1348', 'M_ump_e'): 2.2737367544323206e-13, ('iUMNK88_1353', 'M_ump_e'): 2.2737367544323206e-13, ('iETEC_1333', 'M_ump_e'): 2.2737367544323206e-13, ('iECSF_1327', 'M_ump_e'): 2.2737367544323206e-13, ('iEcSMS35_1347', 'M_ump_e'): 2.2737367544323206e-13, ('iEC1356_Bl21DE3', 'M_ump_e'): 2.2737367544323206e-13, ('iECUMN_1333', 'M_ump_e'): 2.2737367544323206e-13, ('iNRG857_1313', 'M_ump_e'): 2.2737367544323206e-13, ('iUTI89_1310', 'M_ump_e'): 2.2737367544323206e-13, ('ic_1306', 'M_ump_e'): 2.2737367544323206e-13, ('iYL1228', 'M_trp__L_e'): -0.02531006471455688, ('iCN900', 'M_trp__L_e'): -0.10479542099156242, ('iYL1228', 'M_urea_e'): -7.105427357601002e-15, ('iYL1228', 'M_uri_e'): 2.2737367544323206e-13, ('iYL1228', 'M_val__L_e'): -0.12233197945367624, ('iCN900', 'M_val__L_e'): -0.8776680205463238, ('iYL1228', 'M_tyr__L_e'): -0.02531006471455688, ('iCN900', 'M_tyr__L_e'): -0.9746899352854431, ('iCN900', 'M_thr__L_e'): -1.0, ('iYL1228', 'M_thymd_e'): 2.2737367544323206e-13, ('iSDY_1059', 'M_thymd_e'): 2.2737367544323206e-13, ('iEC1356_Bl21DE3', 'M_thymd_e'): 2.2737367544323206e-13, ('iECUMN_1333', 'M_thymd_e'): 2.2737367544323206e-13, ('iSDY_1059', 'M_12ppd__R_e'): -4.547473508864641e-13, ('iECSE_1348', 'M_12ppd__R_e'): -2.2737367544323206e-13, ('iUMNK88_1353', 'M_12ppd__R_e'): -2.2737367544323206e-13, ('iETEC_1333', 'M_12ppd__R_e'): -2.2737367544323206e-13, ('iECSF_1327', 'M_12ppd__R_e'): -2.2737367544323206e-13, ('iEcSMS35_1347', 'M_12ppd__R_e'): -2.2737367544323206e-13, ('iEC1356_Bl21DE3', 'M_12ppd__R_e'): -2.2737367544323206e-13, ('iECUMN_1333', 'M_12ppd__R_e'): -2.2737367544323206e-13, ('iNRG857_1313', 'M_12ppd__R_e'): -2.2737367544323206e-13, ('iUTI89_1310', 'M_12ppd__R_e'): -2.2737367544323206e-13, ('ic_1306', 'M_12ppd__R_e'): -2.2737367544323206e-13, ('ic_1306', 'M_acac_e'): -2.2737367544323206e-13, ('iSDY_1059', 'M_meoh_e'): -2.2737367544323206e-13, ('iECSE_1348', 'M_meoh_e'): -2.2737367544323206e-13, ('iUMNK88_1353', 'M_meoh_e'): -2.2737367544323206e-13, ('iETEC_1333', 'M_meoh_e'): -2.2737367544323206e-13, ('iECSF_1327', 'M_meoh_e'): -2.2737367544323206e-13, ('iEcSMS35_1347', 'M_meoh_e'): -2.2737367544323206e-13, ('iEC1356_Bl21DE3', 'M_meoh_e'): -2.2737367544323206e-13, ('iECUMN_1333', 'M_meoh_e'): -2.2737367544323206e-13, ('iNRG857_1313', 'M_meoh_e'): -2.2737367544323206e-13, ('iUTI89_1310', 'M_meoh_e'): -2.2737367544323206e-13, ('ic_1306', 'M_meoh_e'): -2.2737367544323206e-13, ('iCN900', 'M_2ameph_e'): -10.991914056081784, ('iETEC_1333', 'M_drib_e'): 2.2737367544323206e-13, ('iECSF_1327', 'M_drib_e'): 2.2737367544323206e-13, ('ic_1306', 'M_drib_e'): 2.2737367544323206e-13, ('iECSE_1348', 'M_peng_e'): -7.105427357601002e-15, ('iECSE_1348', 'M_6apa_e'): -7.105427357601002e-15, ('iECSE_1348', 'M_pac_e'): 2.1316282072803006e-14, ('iUMNK88_1353', 'M_arab__D_e'): 2.2737367544323206e-13, ('iCN900', 'M_glc__aD_e'): -20.654058636823706, ('iCN900', 'M_ribflv_e'): -0.010000000000000675, ('iCN900', 'M_isobuta_e'): 0.46848633658029215, ('iCN900', 'M_m4po_e'): 1.5793881623899753, ('iCN900', 'M_ad_e'): 19.739804162253535, ('iCN900', 'M_m2but_e'): 0.7904091580171024, ('iCN900', 'M_isocap_e'): 0.6435340855066435, ('iCN900', 'M_chor_e'): -7.105427357601002e-15, ('iCN900', 'M_hco3_e'): -7.105427357601002e-15}\n"
     ]
    }
   ],
   "source": [
    "print('===============================================')\n",
    "print('=== SteadyComm ===')\n",
    "\n",
    "steady_sol_gut = SteadyCom(community, constraints = gut_medium_dict)\n",
    "\n",
    "print(steady_sol_gut)\n",
    "print(steady_sol_gut.exchange_map)"
   ]
  },
  {
   "cell_type": "code",
   "execution_count": 29,
   "id": "09238b2d",
   "metadata": {},
   "outputs": [
    {
     "name": "stdout",
     "output_type": "stream",
     "text": [
      "R_EX_ac_e 5.0\n",
      "R_EX_co2_e 33.36904689955966\n",
      "R_EX_etoh_e 25.0\n",
      "R_EX_glc__D_e -10.0\n",
      "R_EX_h2_e 25.0\n",
      "R_EX_h2o_e 38.048987597002764\n",
      "R_EX_nh4_e -5.0\n",
      "R_EX_pi_e 5.0\n",
      "R_EX_succ_e 5.0\n",
      "R_EX_2ameph_e -10.991914056081784\n",
      "R_EX_glc__aD_e -20.654058636823706\n",
      "R_EX_ad_e 19.739804162253535\n"
     ]
    }
   ],
   "source": [
    "for i, f in steady_sol_gut.exchange.items():\n",
    "    if not -3 <= f <= 3:\n",
    "        print(i,f)"
   ]
  },
  {
   "cell_type": "code",
   "execution_count": 30,
   "id": "b966cdc5",
   "metadata": {},
   "outputs": [
    {
     "name": "stdout",
     "output_type": "stream",
     "text": [
      "===============================================\n",
      "=== SteadyCommFVA ===\n",
      "{'iYL1228': [0.4322214888637181, 0.8971249778899245], 'iSDY_1059': [0.0, 0.0], 'iCN900': [0.10287502211007549, 0.5677785111362819], 'iECSE_1348': [0.0, 0.0], 'iUMNK88_1353': [0.0, 0.0], 'iETEC_1333': [0.0, 0.0], 'iECSF_1327': [0.0, 0.0], 'iEcSMS35_1347': [0.0, 0.0], 'iEC1356_Bl21DE3': [0.0, 0.0], 'iECUMN_1333': [0.0, 0.0], 'iNRG857_1313': [0.0, 0.0], 'iUTI89_1310': [0.0, 0.0], 'ic_1306': [0.0, 0.0]}\n"
     ]
    }
   ],
   "source": [
    "steady_solFVA_gut = SteadyComVA(community, obj_frac=0.9, constraints = gut_medium_dict)\n",
    "print('===============================================')\n",
    "print('=== SteadyCommFVA ===')\n",
    "print(steady_solFVA_gut)"
   ]
  },
  {
   "cell_type": "markdown",
   "id": "7afa37be",
   "metadata": {},
   "source": []
  }
 ],
 "metadata": {
  "kernelspec": {
   "display_name": "steadycom",
   "language": "python",
   "name": "python3"
  },
  "language_info": {
   "codemirror_mode": {
    "name": "ipython",
    "version": 3
   },
   "file_extension": ".py",
   "mimetype": "text/x-python",
   "name": "python",
   "nbconvert_exporter": "python",
   "pygments_lexer": "ipython3",
   "version": "3.10.16"
  }
 },
 "nbformat": 4,
 "nbformat_minor": 5
}
