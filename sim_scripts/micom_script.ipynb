{
 "cells": [
  {
   "cell_type": "markdown",
   "id": "0ce16f76",
   "metadata": {},
   "source": [
    "Imports"
   ]
  },
  {
   "cell_type": "code",
   "execution_count": null,
   "id": "810a4730",
   "metadata": {},
   "outputs": [],
   "source": [
    "import os\n",
    "import pandas as pd\n",
    "import numpy as np\n",
    "\n",
    "from micom.media import minimal_medium\n",
    "\n",
    "from micom import Community\n",
    "\n",
    "basePath = \"/home/arog/models\""
   ]
  },
  {
   "cell_type": "markdown",
   "id": "8cd0b706",
   "metadata": {},
   "source": [
    "Dataset for Micom"
   ]
  },
  {
   "cell_type": "code",
   "execution_count": null,
   "id": "c7cae980",
   "metadata": {},
   "outputs": [
    {
     "data": {
      "text/plain": [
       "Index(['Unique ID', 'UP name', 'NCBI taxonomy name',\n",
       "       'Assembly ID (UP matched)', 'Present in GFKB v3 (Y/N)',\n",
       "       'Present in GFKB v5 (Y/N)', 'BiGG Model Link', 'BiGG ID', 'uniqueID',\n",
       "       'Lineage( full )', 'Median_Control_Before_Diet',\n",
       "       'Mean_Control_Before_Diet', 'Standard_Deviation_Control_Before_Diet',\n",
       "       'Interquartile_Range_Control_Before_Diet', 'Range_Control_Before_Diet',\n",
       "       '0%_Control_Before_Diet', '25%_Control_Before_Diet',\n",
       "       '50%_Control_Before_Diet', '75%_Control_Before_Diet',\n",
       "       '100%_Control_Before_Diet', 'Relative_Abundance_Control_Before_Diet'],\n",
       "      dtype='object')"
      ]
     },
     "execution_count": 53,
     "metadata": {},
     "output_type": "execute_result"
    }
   ],
   "source": [
    "# Load both datasets\n",
    "# Replace these paths with your actual file paths\n",
    "df_ids = pd.read_csv(\"/home/arog/Documents/GitHub/HGMB_Project/datasets/treated/models_final.csv\")         # Dataset containing \"Unique ID\" column\n",
    "df_data = pd.read_csv(\"/home/arog/Documents/GitHub/HGMB_Project/datasets/GFKB/GutFeelingKnowledgeBase-v4-Epilepsy_Data.csv\")  # Dataset to filter based on \"Unique ID\"\n",
    "\n",
    "# Set the first row as the new header\n",
    "df_data.columns = df_data.iloc[0]\n",
    "df_data = df_data[1:].reset_index(drop=True)\n",
    "\n",
    "# Ensure the key column is correctly named\n",
    "id_column = \"Unique ID\"\n",
    "id2_column = \"uniqueID\"\n",
    "\n",
    "# Merge instead of using isin\n",
    "merged_df = df_ids.merge(df_data, left_on=id_column, right_on=id2_column, how='inner')\n",
    "merged_df = merged_df.rename(columns={'UP name_x': 'UP name'})\n",
    "merged_df = merged_df.drop(columns=['UP name_y']).iloc[:, :20]\n",
    "\n",
    "# Convert to numeric (invalid strings become NaN)\n",
    "merged_df[\"Mean_Control_Before_Diet\"] = pd.to_numeric(merged_df[\"Mean_Control_Before_Diet\"], errors=\"coerce\")\n",
    "\n",
    "# Then compute the relative abundance\n",
    "merged_df[\"Relative_Abundance_Control_Before_Diet\"] = (\n",
    "    merged_df[\"Mean_Control_Before_Diet\"] / merged_df[\"Mean_Control_Before_Diet\"].sum()\n",
    ")\n",
    "\n",
    "\n",
    "merged_df.columns"
   ]
  },
  {
   "cell_type": "code",
   "execution_count": null,
   "id": "acdf7846",
   "metadata": {},
   "outputs": [
    {
     "data": {
      "text/html": [
       "<div>\n",
       "<style scoped>\n",
       "    .dataframe tbody tr th:only-of-type {\n",
       "        vertical-align: middle;\n",
       "    }\n",
       "\n",
       "    .dataframe tbody tr th {\n",
       "        vertical-align: top;\n",
       "    }\n",
       "\n",
       "    .dataframe thead th {\n",
       "        text-align: right;\n",
       "    }\n",
       "</style>\n",
       "<table border=\"1\" class=\"dataframe\">\n",
       "  <thead>\n",
       "    <tr style=\"text-align: right;\">\n",
       "      <th></th>\n",
       "      <th>Unique ID</th>\n",
       "      <th>UP name</th>\n",
       "      <th>NCBI taxonomy name</th>\n",
       "      <th>Assembly ID (UP matched)</th>\n",
       "      <th>Present in GFKB v3 (Y/N)</th>\n",
       "      <th>Present in GFKB v5 (Y/N)</th>\n",
       "      <th>BiGG Model Link</th>\n",
       "      <th>BiGG ID</th>\n",
       "    </tr>\n",
       "  </thead>\n",
       "  <tbody>\n",
       "    <tr>\n",
       "      <th>0</th>\n",
       "      <td>UP000002032_CP010816</td>\n",
       "      <td>Escherichia coli (strain B / BL21-DE3)</td>\n",
       "      <td>Escherichia coli</td>\n",
       "      <td>GCA_000023665.1</td>\n",
       "      <td>Y</td>\n",
       "      <td>N</td>\n",
       "      <td>http://bigg.ucsd.edu/models/iEC1356_Bl21DE3</td>\n",
       "      <td>iEC1356_Bl21DE3</td>\n",
       "    </tr>\n",
       "    <tr>\n",
       "      <th>1</th>\n",
       "      <td>UP000008199_ AP009240</td>\n",
       "      <td>Escherichia coli (strain SE11)</td>\n",
       "      <td>Escherichia coli SE11</td>\n",
       "      <td>GCA_000010385.1</td>\n",
       "      <td>N</td>\n",
       "      <td>Y</td>\n",
       "      <td>http://bigg.ucsd.edu/models/iECSE_1348</td>\n",
       "      <td>iECSE_1348</td>\n",
       "    </tr>\n",
       "    <tr>\n",
       "      <th>2</th>\n",
       "      <td>UP000007011_CP000970</td>\n",
       "      <td>Escherichia coli (strain SMS-3-5 / SECEC)</td>\n",
       "      <td>Escherichia coli SMS-3-5</td>\n",
       "      <td>GCA_000019645.1</td>\n",
       "      <td>Y</td>\n",
       "      <td>N</td>\n",
       "      <td>http://bigg.ucsd.edu/models/iEcSMS35_1347</td>\n",
       "      <td>iEcSMS35_1347</td>\n",
       "    </tr>\n",
       "    <tr>\n",
       "      <th>3</th>\n",
       "      <td>UP000001952_CP000243</td>\n",
       "      <td>Escherichia coli (strain UTI89 / UPEC)</td>\n",
       "      <td>Escherichia coli UTI89</td>\n",
       "      <td>GCA_000013265.1</td>\n",
       "      <td>Y</td>\n",
       "      <td>N</td>\n",
       "      <td>http://bigg.ucsd.edu/models/iUTI89_1310</td>\n",
       "      <td>iUTI89_1310</td>\n",
       "    </tr>\n",
       "    <tr>\n",
       "      <th>4</th>\n",
       "      <td>UP000007097_CP007394</td>\n",
       "      <td>Escherichia coli O17:K52:H18 (strain UMN026 / ...</td>\n",
       "      <td>Escherichia coli</td>\n",
       "      <td>GCA_000026325.2</td>\n",
       "      <td>Y</td>\n",
       "      <td>N</td>\n",
       "      <td>http://bigg.ucsd.edu/models/iECUMN_1333</td>\n",
       "      <td>iECUMN_1333</td>\n",
       "    </tr>\n",
       "    <tr>\n",
       "      <th>5</th>\n",
       "      <td>UP000032727_AP009378</td>\n",
       "      <td>Escherichia coli O25b:H4-ST131</td>\n",
       "      <td>Escherichia coli SE15</td>\n",
       "      <td>GCA_000285655.3</td>\n",
       "      <td>Y</td>\n",
       "      <td>N</td>\n",
       "      <td>http://bigg.ucsd.edu/models/iECSF_1327</td>\n",
       "      <td>iECSF_1327</td>\n",
       "    </tr>\n",
       "    <tr>\n",
       "      <th>6</th>\n",
       "      <td>UP000001410_AE014075</td>\n",
       "      <td>Escherichia coli O6:H1 (strain CFT073 / ATCC 7...</td>\n",
       "      <td>Escherichia coli CFT073</td>\n",
       "      <td>GCA_000007445.1</td>\n",
       "      <td>Y</td>\n",
       "      <td>N</td>\n",
       "      <td>http://bigg.ucsd.edu/models/ic_1306</td>\n",
       "      <td>ic_1306</td>\n",
       "    </tr>\n",
       "    <tr>\n",
       "      <th>7</th>\n",
       "      <td>UP000006877_CP010371</td>\n",
       "      <td>Escherichia coli O78:H11 (strain H10407 / ETEC)</td>\n",
       "      <td>Escherichia coli</td>\n",
       "      <td>GCA_000210475.1</td>\n",
       "      <td>Y</td>\n",
       "      <td>N</td>\n",
       "      <td>http://bigg.ucsd.edu/models/iETEC_1333</td>\n",
       "      <td>iETEC_1333</td>\n",
       "    </tr>\n",
       "    <tr>\n",
       "      <th>8</th>\n",
       "      <td>UP000008614_CU651637</td>\n",
       "      <td>Escherichia coli O83:H1 (strain NRG 857C / AIEC)</td>\n",
       "      <td>Escherichia coli LF82</td>\n",
       "      <td>GCA_000183345.1</td>\n",
       "      <td>Y</td>\n",
       "      <td>N</td>\n",
       "      <td>http://bigg.ucsd.edu/models/iNRG857_1313</td>\n",
       "      <td>iNRG857_1313</td>\n",
       "    </tr>\n",
       "    <tr>\n",
       "      <th>9</th>\n",
       "      <td>UP000008464_CP002729</td>\n",
       "      <td>Escherichia coli UMNK88</td>\n",
       "      <td>Escherichia coli UMNK88</td>\n",
       "      <td>GCA_000212715.2</td>\n",
       "      <td>Y</td>\n",
       "      <td>N</td>\n",
       "      <td>http://bigg.ucsd.edu/models/iUMNK88_1353</td>\n",
       "      <td>iUMNK88_1353</td>\n",
       "    </tr>\n",
       "    <tr>\n",
       "      <th>10</th>\n",
       "      <td>UP000000265_ CP000650</td>\n",
       "      <td>Klebsiella pneumoniae subsp. pneumoniae (strai...</td>\n",
       "      <td>Klebsiella pneumoniae subsp. pneumoniae MGH 78578</td>\n",
       "      <td>GCA_000016305.1</td>\n",
       "      <td>N</td>\n",
       "      <td>Y</td>\n",
       "      <td>http://bigg.ucsd.edu/models/iYL1228</td>\n",
       "      <td>iYL1228</td>\n",
       "    </tr>\n",
       "    <tr>\n",
       "      <th>11</th>\n",
       "      <td>UP000002716_ CP000034</td>\n",
       "      <td>Shigella dysenteriae serotype 1 (strain Sd197)</td>\n",
       "      <td>Shigella dysenteriae Sd197</td>\n",
       "      <td>GCA_000012005.1</td>\n",
       "      <td>N</td>\n",
       "      <td>Y</td>\n",
       "      <td>http://bigg.ucsd.edu/models/iSDY_1059</td>\n",
       "      <td>iSDY_1059</td>\n",
       "    </tr>\n",
       "  </tbody>\n",
       "</table>\n",
       "</div>"
      ],
      "text/plain": [
       "                Unique ID                                            UP name  \\\n",
       "0    UP000002032_CP010816             Escherichia coli (strain B / BL21-DE3)   \n",
       "1   UP000008199_ AP009240                     Escherichia coli (strain SE11)   \n",
       "2    UP000007011_CP000970          Escherichia coli (strain SMS-3-5 / SECEC)   \n",
       "3    UP000001952_CP000243             Escherichia coli (strain UTI89 / UPEC)   \n",
       "4    UP000007097_CP007394  Escherichia coli O17:K52:H18 (strain UMN026 / ...   \n",
       "5    UP000032727_AP009378                     Escherichia coli O25b:H4-ST131   \n",
       "6    UP000001410_AE014075  Escherichia coli O6:H1 (strain CFT073 / ATCC 7...   \n",
       "7    UP000006877_CP010371    Escherichia coli O78:H11 (strain H10407 / ETEC)   \n",
       "8    UP000008614_CU651637   Escherichia coli O83:H1 (strain NRG 857C / AIEC)   \n",
       "9    UP000008464_CP002729                            Escherichia coli UMNK88   \n",
       "10  UP000000265_ CP000650  Klebsiella pneumoniae subsp. pneumoniae (strai...   \n",
       "11  UP000002716_ CP000034     Shigella dysenteriae serotype 1 (strain Sd197)   \n",
       "\n",
       "                                   NCBI taxonomy name  \\\n",
       "0                                    Escherichia coli   \n",
       "1                               Escherichia coli SE11   \n",
       "2                            Escherichia coli SMS-3-5   \n",
       "3                              Escherichia coli UTI89   \n",
       "4                                    Escherichia coli   \n",
       "5                               Escherichia coli SE15   \n",
       "6                             Escherichia coli CFT073   \n",
       "7                                    Escherichia coli   \n",
       "8                               Escherichia coli LF82   \n",
       "9                             Escherichia coli UMNK88   \n",
       "10  Klebsiella pneumoniae subsp. pneumoniae MGH 78578   \n",
       "11                         Shigella dysenteriae Sd197   \n",
       "\n",
       "   Assembly ID (UP matched) Present in GFKB v3 (Y/N) Present in GFKB v5 (Y/N)  \\\n",
       "0           GCA_000023665.1                        Y                        N   \n",
       "1           GCA_000010385.1                        N                        Y   \n",
       "2           GCA_000019645.1                        Y                        N   \n",
       "3           GCA_000013265.1                        Y                        N   \n",
       "4           GCA_000026325.2                        Y                        N   \n",
       "5           GCA_000285655.3                        Y                        N   \n",
       "6           GCA_000007445.1                        Y                        N   \n",
       "7           GCA_000210475.1                        Y                        N   \n",
       "8           GCA_000183345.1                        Y                        N   \n",
       "9           GCA_000212715.2                        Y                        N   \n",
       "10          GCA_000016305.1                        N                        Y   \n",
       "11          GCA_000012005.1                        N                        Y   \n",
       "\n",
       "                                BiGG Model Link          BiGG ID  \n",
       "0   http://bigg.ucsd.edu/models/iEC1356_Bl21DE3  iEC1356_Bl21DE3  \n",
       "1        http://bigg.ucsd.edu/models/iECSE_1348       iECSE_1348  \n",
       "2     http://bigg.ucsd.edu/models/iEcSMS35_1347    iEcSMS35_1347  \n",
       "3       http://bigg.ucsd.edu/models/iUTI89_1310      iUTI89_1310  \n",
       "4       http://bigg.ucsd.edu/models/iECUMN_1333      iECUMN_1333  \n",
       "5        http://bigg.ucsd.edu/models/iECSF_1327       iECSF_1327  \n",
       "6           http://bigg.ucsd.edu/models/ic_1306          ic_1306  \n",
       "7        http://bigg.ucsd.edu/models/iETEC_1333       iETEC_1333  \n",
       "8      http://bigg.ucsd.edu/models/iNRG857_1313     iNRG857_1313  \n",
       "9      http://bigg.ucsd.edu/models/iUMNK88_1353     iUMNK88_1353  \n",
       "10          http://bigg.ucsd.edu/models/iYL1228          iYL1228  \n",
       "11        http://bigg.ucsd.edu/models/iSDY_1059        iSDY_1059  "
      ]
     },
     "execution_count": 47,
     "metadata": {},
     "output_type": "execute_result"
    }
   ],
   "source": [
    "df_ids"
   ]
  },
  {
   "cell_type": "markdown",
   "id": "b4b8115f",
   "metadata": {},
   "source": []
  },
  {
   "cell_type": "code",
   "execution_count": null,
   "id": "3ef255e3",
   "metadata": {},
   "outputs": [],
   "source": [
    "basepath = \"/home/arog/models/xml\"\n",
    "\n",
    "taxonomy = {\n",
    "    \"id\": list(merged_df[\"BiGG ID\"]),\n",
    "    \"file\": [f\"{basepath}/{x}.xml\" for x in merged_df[\"BiGG ID\"]],\n",
    "    \"abundance\": list(merged_df[\"Relative_Abundance_Control_Before_Diet\"])\n",
    "}\n",
    "\n",
    "taxonomy_df = pd.DataFrame(taxonomy)\n",
    "taxonomy_df.to_csv(\"/home/arog/Documents/GitHub/HGMB_Project/datasets/taxonomy.csv\", index=False)"
   ]
  },
  {
   "cell_type": "markdown",
   "id": "e6f4a3f4",
   "metadata": {},
   "source": [
    "Micom Simulation"
   ]
  },
  {
   "cell_type": "code",
   "execution_count": null,
   "id": "35784f77",
   "metadata": {},
   "outputs": [
    {
     "data": {
      "text/html": [
       "<div>\n",
       "<style scoped>\n",
       "    .dataframe tbody tr th:only-of-type {\n",
       "        vertical-align: middle;\n",
       "    }\n",
       "\n",
       "    .dataframe tbody tr th {\n",
       "        vertical-align: top;\n",
       "    }\n",
       "\n",
       "    .dataframe thead th {\n",
       "        text-align: right;\n",
       "    }\n",
       "</style>\n",
       "<table border=\"1\" class=\"dataframe\">\n",
       "  <thead>\n",
       "    <tr style=\"text-align: right;\">\n",
       "      <th></th>\n",
       "      <th>id</th>\n",
       "      <th>file</th>\n",
       "      <th>abundance</th>\n",
       "    </tr>\n",
       "  </thead>\n",
       "  <tbody>\n",
       "    <tr>\n",
       "      <th>0</th>\n",
       "      <td>iEC1356_Bl21DE3</td>\n",
       "      <td>/home/arog/models/xml/iEC1356_Bl21DE3.xml</td>\n",
       "      <td>0.025104</td>\n",
       "    </tr>\n",
       "    <tr>\n",
       "      <th>1</th>\n",
       "      <td>iEcSMS35_1347</td>\n",
       "      <td>/home/arog/models/xml/iEcSMS35_1347.xml</td>\n",
       "      <td>0.543917</td>\n",
       "    </tr>\n",
       "    <tr>\n",
       "      <th>2</th>\n",
       "      <td>iUTI89_1310</td>\n",
       "      <td>/home/arog/models/xml/iUTI89_1310.xml</td>\n",
       "      <td>0.043361</td>\n",
       "    </tr>\n",
       "    <tr>\n",
       "      <th>3</th>\n",
       "      <td>iECUMN_1333</td>\n",
       "      <td>/home/arog/models/xml/iECUMN_1333.xml</td>\n",
       "      <td>0.171923</td>\n",
       "    </tr>\n",
       "    <tr>\n",
       "      <th>4</th>\n",
       "      <td>iECSF_1327</td>\n",
       "      <td>/home/arog/models/xml/iECSF_1327.xml</td>\n",
       "      <td>0.072649</td>\n",
       "    </tr>\n",
       "    <tr>\n",
       "      <th>5</th>\n",
       "      <td>ic_1306</td>\n",
       "      <td>/home/arog/models/xml/ic_1306.xml</td>\n",
       "      <td>0.023221</td>\n",
       "    </tr>\n",
       "    <tr>\n",
       "      <th>6</th>\n",
       "      <td>iETEC_1333</td>\n",
       "      <td>/home/arog/models/xml/iETEC_1333.xml</td>\n",
       "      <td>0.057054</td>\n",
       "    </tr>\n",
       "    <tr>\n",
       "      <th>7</th>\n",
       "      <td>iNRG857_1313</td>\n",
       "      <td>/home/arog/models/xml/iNRG857_1313.xml</td>\n",
       "      <td>0.047165</td>\n",
       "    </tr>\n",
       "    <tr>\n",
       "      <th>8</th>\n",
       "      <td>iUMNK88_1353</td>\n",
       "      <td>/home/arog/models/xml/iUMNK88_1353.xml</td>\n",
       "      <td>0.015606</td>\n",
       "    </tr>\n",
       "  </tbody>\n",
       "</table>\n",
       "</div>"
      ],
      "text/plain": [
       "                id                                       file  abundance\n",
       "0  iEC1356_Bl21DE3  /home/arog/models/xml/iEC1356_Bl21DE3.xml   0.025104\n",
       "1    iEcSMS35_1347    /home/arog/models/xml/iEcSMS35_1347.xml   0.543917\n",
       "2      iUTI89_1310      /home/arog/models/xml/iUTI89_1310.xml   0.043361\n",
       "3      iECUMN_1333      /home/arog/models/xml/iECUMN_1333.xml   0.171923\n",
       "4       iECSF_1327       /home/arog/models/xml/iECSF_1327.xml   0.072649\n",
       "5          ic_1306          /home/arog/models/xml/ic_1306.xml   0.023221\n",
       "6       iETEC_1333       /home/arog/models/xml/iETEC_1333.xml   0.057054\n",
       "7     iNRG857_1313     /home/arog/models/xml/iNRG857_1313.xml   0.047165\n",
       "8     iUMNK88_1353     /home/arog/models/xml/iUMNK88_1353.xml   0.015606"
      ]
     },
     "execution_count": 64,
     "metadata": {},
     "output_type": "execute_result"
    }
   ],
   "source": [
    "taxonomy = pd.read_csv(\"/home/arog/Documents/GitHub/HGMB_Project/datasets/taxonomy.csv\", delimiter=\",\")\n",
    "taxonomy"
   ]
  },
  {
   "cell_type": "code",
   "execution_count": null,
   "id": "a6e18a71",
   "metadata": {},
   "outputs": [
    {
     "data": {
      "text/html": [
       "<pre style=\"white-space:pre;overflow-x:auto;line-height:normal;font-family:Menlo,'DejaVu Sans Mono',consolas,'Courier New',monospace\">/home/arog/miniconda3/envs/micom/lib/python3.10/site-packages/rich/live.py:231: UserWarning: install \"ipywidgets\" \n",
       "for Jupyter support\n",
       "  warnings.warn('install \"ipywidgets\" for Jupyter support')\n",
       "</pre>\n"
      ],
      "text/plain": [
       "/home/arog/miniconda3/envs/micom/lib/python3.10/site-packages/rich/live.py:231: UserWarning: install \"ipywidgets\" \n",
       "for Jupyter support\n",
       "  warnings.warn('install \"ipywidgets\" for Jupyter support')\n"
      ]
     },
     "metadata": {},
     "output_type": "display_data"
    },
    {
     "data": {
      "text/html": [
       "<pre style=\"white-space:pre;overflow-x:auto;line-height:normal;font-family:Menlo,'DejaVu Sans Mono',consolas,'Courier New',monospace\">/home/arog/miniconda3/envs/micom/lib/python3.10/site-packages/rich/live.py:231: UserWarning: install \"ipywidgets\" \n",
       "for Jupyter support\n",
       "  warnings.warn('install \"ipywidgets\" for Jupyter support')\n",
       "</pre>\n"
      ],
      "text/plain": [
       "/home/arog/miniconda3/envs/micom/lib/python3.10/site-packages/rich/live.py:231: UserWarning: install \"ipywidgets\" \n",
       "for Jupyter support\n",
       "  warnings.warn('install \"ipywidgets\" for Jupyter support')\n"
      ]
     },
     "metadata": {},
     "output_type": "display_data"
    },
    {
     "data": {
      "text/html": [
       "<pre style=\"white-space:pre;overflow-x:auto;line-height:normal;font-family:Menlo,'DejaVu Sans Mono',consolas,'Courier New',monospace\">/home/arog/miniconda3/envs/micom/lib/python3.10/site-packages/rich/live.py:231: UserWarning: install \"ipywidgets\" \n",
       "for Jupyter support\n",
       "  warnings.warn('install \"ipywidgets\" for Jupyter support')\n",
       "</pre>\n"
      ],
      "text/plain": [
       "/home/arog/miniconda3/envs/micom/lib/python3.10/site-packages/rich/live.py:231: UserWarning: install \"ipywidgets\" \n",
       "for Jupyter support\n",
       "  warnings.warn('install \"ipywidgets\" for Jupyter support')\n"
      ]
     },
     "metadata": {},
     "output_type": "display_data"
    },
    {
     "data": {
      "text/html": [
       "<pre style=\"white-space:pre;overflow-x:auto;line-height:normal;font-family:Menlo,'DejaVu Sans Mono',consolas,'Courier New',monospace\">/home/arog/miniconda3/envs/micom/lib/python3.10/site-packages/rich/live.py:231: UserWarning: install \"ipywidgets\" \n",
       "for Jupyter support\n",
       "  warnings.warn('install \"ipywidgets\" for Jupyter support')\n",
       "</pre>\n"
      ],
      "text/plain": [
       "/home/arog/miniconda3/envs/micom/lib/python3.10/site-packages/rich/live.py:231: UserWarning: install \"ipywidgets\" \n",
       "for Jupyter support\n",
       "  warnings.warn('install \"ipywidgets\" for Jupyter support')\n"
      ]
     },
     "metadata": {},
     "output_type": "display_data"
    },
    {
     "data": {
      "text/html": [
       "<pre style=\"white-space:pre;overflow-x:auto;line-height:normal;font-family:Menlo,'DejaVu Sans Mono',consolas,'Courier New',monospace\">/home/arog/miniconda3/envs/micom/lib/python3.10/site-packages/rich/live.py:231: UserWarning: install \"ipywidgets\" \n",
       "for Jupyter support\n",
       "  warnings.warn('install \"ipywidgets\" for Jupyter support')\n",
       "</pre>\n"
      ],
      "text/plain": [
       "/home/arog/miniconda3/envs/micom/lib/python3.10/site-packages/rich/live.py:231: UserWarning: install \"ipywidgets\" \n",
       "for Jupyter support\n",
       "  warnings.warn('install \"ipywidgets\" for Jupyter support')\n"
      ]
     },
     "metadata": {},
     "output_type": "display_data"
    },
    {
     "data": {
      "text/html": [
       "<pre style=\"white-space:pre;overflow-x:auto;line-height:normal;font-family:Menlo,'DejaVu Sans Mono',consolas,'Courier New',monospace\">/home/arog/miniconda3/envs/micom/lib/python3.10/site-packages/rich/live.py:231: UserWarning: install \"ipywidgets\" \n",
       "for Jupyter support\n",
       "  warnings.warn('install \"ipywidgets\" for Jupyter support')\n",
       "</pre>\n"
      ],
      "text/plain": [
       "/home/arog/miniconda3/envs/micom/lib/python3.10/site-packages/rich/live.py:231: UserWarning: install \"ipywidgets\" \n",
       "for Jupyter support\n",
       "  warnings.warn('install \"ipywidgets\" for Jupyter support')\n"
      ]
     },
     "metadata": {},
     "output_type": "display_data"
    },
    {
     "data": {
      "text/html": [
       "<pre style=\"white-space:pre;overflow-x:auto;line-height:normal;font-family:Menlo,'DejaVu Sans Mono',consolas,'Courier New',monospace\">/home/arog/miniconda3/envs/micom/lib/python3.10/site-packages/rich/live.py:231: UserWarning: install \"ipywidgets\" \n",
       "for Jupyter support\n",
       "  warnings.warn('install \"ipywidgets\" for Jupyter support')\n",
       "</pre>\n"
      ],
      "text/plain": [
       "/home/arog/miniconda3/envs/micom/lib/python3.10/site-packages/rich/live.py:231: UserWarning: install \"ipywidgets\" \n",
       "for Jupyter support\n",
       "  warnings.warn('install \"ipywidgets\" for Jupyter support')\n"
      ]
     },
     "metadata": {},
     "output_type": "display_data"
    },
    {
     "data": {
      "text/html": [
       "<pre style=\"white-space:pre;overflow-x:auto;line-height:normal;font-family:Menlo,'DejaVu Sans Mono',consolas,'Courier New',monospace\">/home/arog/miniconda3/envs/micom/lib/python3.10/site-packages/rich/live.py:231: UserWarning: install \"ipywidgets\" \n",
       "for Jupyter support\n",
       "  warnings.warn('install \"ipywidgets\" for Jupyter support')\n",
       "</pre>\n"
      ],
      "text/plain": [
       "/home/arog/miniconda3/envs/micom/lib/python3.10/site-packages/rich/live.py:231: UserWarning: install \"ipywidgets\" \n",
       "for Jupyter support\n",
       "  warnings.warn('install \"ipywidgets\" for Jupyter support')\n"
      ]
     },
     "metadata": {},
     "output_type": "display_data"
    },
    {
     "data": {
      "application/vnd.jupyter.widget-view+json": {
       "model_id": "aa07d1a1c858453ca073582bb71cb09c",
       "version_major": 2,
       "version_minor": 0
      },
      "text/plain": [
       "Output()"
      ]
     },
     "metadata": {},
     "output_type": "display_data"
    }
   ],
   "source": [
    "com = Community(taxonomy)"
   ]
  },
  {
   "cell_type": "code",
   "execution_count": null,
   "id": "ff3afc79",
   "metadata": {},
   "outputs": [],
   "source": []
  }
 ],
 "metadata": {
  "kernelspec": {
   "display_name": "micom",
   "language": "python",
   "name": "python3"
  },
  "language_info": {
   "codemirror_mode": {
    "name": "ipython",
    "version": 3
   },
   "file_extension": ".py",
   "mimetype": "text/x-python",
   "name": "python",
   "nbconvert_exporter": "python",
   "pygments_lexer": "ipython3",
   "version": "3.10.16"
  }
 },
 "nbformat": 4,
 "nbformat_minor": 5
}
