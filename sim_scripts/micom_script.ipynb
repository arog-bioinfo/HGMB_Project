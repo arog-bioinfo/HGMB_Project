{
 "cells": [
  {
   "cell_type": "markdown",
   "id": "0ce16f76",
   "metadata": {},
   "source": [
    "# Imports"
   ]
  },
  {
   "cell_type": "code",
   "execution_count": 1,
   "id": "810a4730",
   "metadata": {},
   "outputs": [],
   "source": [
    "import os\n",
    "import pandas as pd\n",
    "import numpy as np\n",
    "\n",
    "from micom.media import minimal_medium\n",
    "\n",
    "from micom import Community\n",
    "\n",
    "basePath = \"/home/arog/models\""
   ]
  },
  {
   "cell_type": "markdown",
   "id": "8cd0b706",
   "metadata": {},
   "source": [
    "# Dataset for Micom"
   ]
  },
  {
   "cell_type": "code",
   "execution_count": 2,
   "id": "c7cae980",
   "metadata": {},
   "outputs": [
    {
     "data": {
      "text/plain": [
       "Index(['Unique ID', 'UP name', 'NCBI taxonomy name',\n",
       "       'Assembly ID (UP matched)', 'Present in GFKB v3 (Y/N)',\n",
       "       'Present in GFKB v5 (Y/N)', 'BiGG Model Link', 'BiGG ID', 'uniqueID',\n",
       "       'Lineage( full )', 'Median_Control_Before_Diet',\n",
       "       'Mean_Control_Before_Diet', 'Standard_Deviation_Control_Before_Diet',\n",
       "       'Interquartile_Range_Control_Before_Diet', 'Range_Control_Before_Diet',\n",
       "       '0%_Control_Before_Diet', '25%_Control_Before_Diet',\n",
       "       '50%_Control_Before_Diet', '75%_Control_Before_Diet',\n",
       "       '100%_Control_Before_Diet', 'Relative_Abundance_Control_Before_Diet'],\n",
       "      dtype='object')"
      ]
     },
     "execution_count": 2,
     "metadata": {},
     "output_type": "execute_result"
    }
   ],
   "source": [
    "# Load both datasets\n",
    "# Replace these paths with your actual file paths\n",
    "df_ids = pd.read_csv(\"/home/arog/Documents/GitHub/HGMB_Project/datasets/treated/models_final.csv\")         # Dataset containing \"Unique ID\" column\n",
    "df_data = pd.read_csv(\"/home/arog/Documents/GitHub/HGMB_Project/datasets/GFKB/GutFeelingKnowledgeBase-v4-Epilepsy_Data.csv\")  # Dataset to filter based on \"Unique ID\"\n",
    "\n",
    "# Set the first row as the new header\n",
    "df_data.columns = df_data.iloc[0]\n",
    "df_data = df_data[1:].reset_index(drop=True)\n",
    "\n",
    "# Ensure the key column is correctly named\n",
    "id_column = \"Unique ID\"\n",
    "id2_column = \"uniqueID\"\n",
    "\n",
    "# Merge instead of using isin\n",
    "merged_df = df_ids.merge(df_data, left_on=id_column, right_on=id2_column, how='inner')\n",
    "merged_df = merged_df.rename(columns={'UP name_x': 'UP name'})\n",
    "merged_df = merged_df.drop(columns=['UP name_y']).iloc[:, :20]\n",
    "\n",
    "# Convert to numeric (invalid strings become NaN)\n",
    "merged_df[\"Mean_Control_Before_Diet\"] = pd.to_numeric(merged_df[\"Mean_Control_Before_Diet\"], errors=\"coerce\")\n",
    "\n",
    "# Then compute the relative abundance\n",
    "merged_df[\"Relative_Abundance_Control_Before_Diet\"] = (\n",
    "    merged_df[\"Mean_Control_Before_Diet\"] / merged_df[\"Mean_Control_Before_Diet\"].sum()\n",
    ")\n",
    "\n",
    "\n",
    "merged_df.columns"
   ]
  },
  {
   "cell_type": "code",
   "execution_count": 3,
   "id": "3ef255e3",
   "metadata": {},
   "outputs": [],
   "source": [
    "basepath = \"/home/arog/models/xml\"\n",
    "\n",
    "taxonomy = {\n",
    "    \"id\": list(merged_df[\"BiGG ID\"]),\n",
    "    \"file\": [f\"{basepath}/{x}.xml\" for x in merged_df[\"BiGG ID\"]],\n",
    "    \"abundance\": list(merged_df[\"Relative_Abundance_Control_Before_Diet\"])\n",
    "}\n",
    "\n",
    "taxonomy_df = pd.DataFrame(taxonomy)\n",
    "taxonomy_df.to_csv(\"/home/arog/Documents/GitHub/HGMB_Project/datasets/taxonomy.csv\", index=False)"
   ]
  },
  {
   "cell_type": "markdown",
   "id": "e6f4a3f4",
   "metadata": {},
   "source": [
    "# Micom Simulation"
   ]
  },
  {
   "cell_type": "code",
   "execution_count": 4,
   "id": "35784f77",
   "metadata": {},
   "outputs": [
    {
     "data": {
      "text/html": [
       "<div>\n",
       "<style scoped>\n",
       "    .dataframe tbody tr th:only-of-type {\n",
       "        vertical-align: middle;\n",
       "    }\n",
       "\n",
       "    .dataframe tbody tr th {\n",
       "        vertical-align: top;\n",
       "    }\n",
       "\n",
       "    .dataframe thead th {\n",
       "        text-align: right;\n",
       "    }\n",
       "</style>\n",
       "<table border=\"1\" class=\"dataframe\">\n",
       "  <thead>\n",
       "    <tr style=\"text-align: right;\">\n",
       "      <th></th>\n",
       "      <th>id</th>\n",
       "      <th>file</th>\n",
       "      <th>abundance</th>\n",
       "    </tr>\n",
       "  </thead>\n",
       "  <tbody>\n",
       "    <tr>\n",
       "      <th>0</th>\n",
       "      <td>iEC1356_Bl21DE3</td>\n",
       "      <td>/home/arog/models/xml/iEC1356_Bl21DE3.xml</td>\n",
       "      <td>0.025104</td>\n",
       "    </tr>\n",
       "    <tr>\n",
       "      <th>1</th>\n",
       "      <td>iEcSMS35_1347</td>\n",
       "      <td>/home/arog/models/xml/iEcSMS35_1347.xml</td>\n",
       "      <td>0.543917</td>\n",
       "    </tr>\n",
       "    <tr>\n",
       "      <th>2</th>\n",
       "      <td>iUTI89_1310</td>\n",
       "      <td>/home/arog/models/xml/iUTI89_1310.xml</td>\n",
       "      <td>0.043361</td>\n",
       "    </tr>\n",
       "    <tr>\n",
       "      <th>3</th>\n",
       "      <td>iECUMN_1333</td>\n",
       "      <td>/home/arog/models/xml/iECUMN_1333.xml</td>\n",
       "      <td>0.171923</td>\n",
       "    </tr>\n",
       "    <tr>\n",
       "      <th>4</th>\n",
       "      <td>iECSF_1327</td>\n",
       "      <td>/home/arog/models/xml/iECSF_1327.xml</td>\n",
       "      <td>0.072649</td>\n",
       "    </tr>\n",
       "    <tr>\n",
       "      <th>5</th>\n",
       "      <td>ic_1306</td>\n",
       "      <td>/home/arog/models/xml/ic_1306.xml</td>\n",
       "      <td>0.023221</td>\n",
       "    </tr>\n",
       "    <tr>\n",
       "      <th>6</th>\n",
       "      <td>iETEC_1333</td>\n",
       "      <td>/home/arog/models/xml/iETEC_1333.xml</td>\n",
       "      <td>0.057054</td>\n",
       "    </tr>\n",
       "    <tr>\n",
       "      <th>7</th>\n",
       "      <td>iNRG857_1313</td>\n",
       "      <td>/home/arog/models/xml/iNRG857_1313.xml</td>\n",
       "      <td>0.047165</td>\n",
       "    </tr>\n",
       "    <tr>\n",
       "      <th>8</th>\n",
       "      <td>iUMNK88_1353</td>\n",
       "      <td>/home/arog/models/xml/iUMNK88_1353.xml</td>\n",
       "      <td>0.015606</td>\n",
       "    </tr>\n",
       "  </tbody>\n",
       "</table>\n",
       "</div>"
      ],
      "text/plain": [
       "                id                                       file  abundance\n",
       "0  iEC1356_Bl21DE3  /home/arog/models/xml/iEC1356_Bl21DE3.xml   0.025104\n",
       "1    iEcSMS35_1347    /home/arog/models/xml/iEcSMS35_1347.xml   0.543917\n",
       "2      iUTI89_1310      /home/arog/models/xml/iUTI89_1310.xml   0.043361\n",
       "3      iECUMN_1333      /home/arog/models/xml/iECUMN_1333.xml   0.171923\n",
       "4       iECSF_1327       /home/arog/models/xml/iECSF_1327.xml   0.072649\n",
       "5          ic_1306          /home/arog/models/xml/ic_1306.xml   0.023221\n",
       "6       iETEC_1333       /home/arog/models/xml/iETEC_1333.xml   0.057054\n",
       "7     iNRG857_1313     /home/arog/models/xml/iNRG857_1313.xml   0.047165\n",
       "8     iUMNK88_1353     /home/arog/models/xml/iUMNK88_1353.xml   0.015606"
      ]
     },
     "execution_count": 4,
     "metadata": {},
     "output_type": "execute_result"
    }
   ],
   "source": [
    "taxonomy = pd.read_csv(\"/home/arog/Documents/GitHub/HGMB_Project/datasets/taxonomy.csv\", delimiter=\",\")\n",
    "taxonomy"
   ]
  },
  {
   "cell_type": "code",
   "execution_count": 5,
   "id": "a6e18a71",
   "metadata": {},
   "outputs": [
    {
     "data": {
      "application/vnd.jupyter.widget-view+json": {
       "model_id": "29a75cfbd20549c88dcab0d72013d411",
       "version_major": 2,
       "version_minor": 0
      },
      "text/plain": [
       "Output()"
      ]
     },
     "metadata": {},
     "output_type": "display_data"
    },
    {
     "data": {
      "text/html": [
       "<pre style=\"white-space:pre;overflow-x:auto;line-height:normal;font-family:Menlo,'DejaVu Sans Mono',consolas,'Courier New',monospace\"></pre>\n"
      ],
      "text/plain": []
     },
     "metadata": {},
     "output_type": "display_data"
    }
   ],
   "source": [
    "com = Community(taxonomy) # necessário instalar package especifica"
   ]
  },
  {
   "cell_type": "code",
   "execution_count": 6,
   "id": "ff3afc79",
   "metadata": {},
   "outputs": [
    {
     "name": "stdout",
     "output_type": "stream",
     "text": [
      "Community objective expression:\n",
      "1.0*community_objective\n"
     ]
    }
   ],
   "source": [
    "# === Inspect Community Objective ===\n",
    "print(\"Community objective expression:\")\n",
    "print(com.objective.expression)"
   ]
  },
  {
   "cell_type": "code",
   "execution_count": 7,
   "id": "bda5977c",
   "metadata": {},
   "outputs": [
    {
     "name": "stdout",
     "output_type": "stream",
     "text": [
      "\n",
      "Running baseline FBA...\n",
      "FBA community growth rate: 1.0329794581567353\n",
      "\n",
      "Running baseline pFBA...\n",
      "pFBA community growth rate: 1.03297759710055\n"
     ]
    }
   ],
   "source": [
    "# === FBA & pFBA Baseline ===\n",
    "print(\"\\nRunning baseline FBA...\")\n",
    "fba = com.optimize()\n",
    "print(\"FBA community growth rate:\", fba.growth_rate)\n",
    "\n",
    "print(\"\\nRunning baseline pFBA...\")\n",
    "pfba = com.optimize(fluxes=True, pfba=True)\n",
    "print(\"pFBA community growth rate:\", pfba.growth_rate)"
   ]
  },
  {
   "cell_type": "code",
   "execution_count": 8,
   "id": "5bc2d502",
   "metadata": {},
   "outputs": [
    {
     "name": "stdout",
     "output_type": "stream",
     "text": [
      "\n",
      "Running cooperative trade-off (sol1) with min_growth = 0.0075...\n",
      "sol1 community growth: 1.0328548173864236\n"
     ]
    }
   ],
   "source": [
    "# === Cooperative Trade-Off Optimization ===\n",
    "print(\"\\nRunning cooperative trade-off (sol1) with min_growth = 0.0075...\")\n",
    "sol1 = com.cooperative_tradeoff(min_growth=0.0075, fluxes=True)\n",
    "print(\"sol1 community growth:\", sol1.growth_rate)"
   ]
  },
  {
   "cell_type": "code",
   "execution_count": 9,
   "id": "5473cd85",
   "metadata": {},
   "outputs": [],
   "source": [
    "# === Optional: run a second trade-off with per-taxon constraints\n",
    "# min_growths = [0.0075] * len(com.taxa)  # Adjust manually if needed\n",
    "# sol2 = com.cooperative_tradeoff(min_growth=min_growths, fluxes=True)"
   ]
  },
  {
   "cell_type": "code",
   "execution_count": 10,
   "id": "375fcff7",
   "metadata": {},
   "outputs": [
    {
     "name": "stdout",
     "output_type": "stream",
     "text": [
      "\n",
      "Computing minimal medium for 80% growth...\n"
     ]
    },
    {
     "data": {
      "text/html": [
       "<pre style=\"white-space:pre;overflow-x:auto;line-height:normal;font-family:Menlo,'DejaVu Sans Mono',consolas,'Courier New',monospace\"><span style=\"color: #7fbfbf; text-decoration-color: #7fbfbf\">[05/30/25 23:58:52] </span><span style=\"color: #808000; text-decoration-color: #808000\">WARNING </span> the MIP version of minimal media is extremely slow for models that large   <a href=\"file:///home/arog/miniconda3/envs/micom/lib/python3.10/site-packages/micom/media.py\" target=\"_blank\"><span style=\"color: #7f7f7f; text-decoration-color: #7f7f7f\">media.py</span></a><span style=\"color: #7f7f7f; text-decoration-color: #7f7f7f\">:</span><a href=\"file:///home/arog/miniconda3/envs/micom/lib/python3.10/site-packages/micom/media.py#72\" target=\"_blank\"><span style=\"color: #7f7f7f; text-decoration-color: #7f7f7f\">72</span></a>\n",
       "<span style=\"color: #7fbfbf; text-decoration-color: #7fbfbf\">                    </span>         :<span style=\"font-weight: bold\">(</span>                                                                         <span style=\"color: #7f7f7f; text-decoration-color: #7f7f7f\">           </span>\n",
       "</pre>\n"
      ],
      "text/plain": [
       "\u001b[2;36m[05/30/25 23:58:52]\u001b[0m\u001b[2;36m \u001b[0m\u001b[33mWARNING \u001b[0m the MIP version of minimal media is extremely slow for models that large   \u001b]8;id=164215;file:///home/arog/miniconda3/envs/micom/lib/python3.10/site-packages/micom/media.py\u001b\\\u001b[2mmedia.py\u001b[0m\u001b]8;;\u001b\\\u001b[2m:\u001b[0m\u001b]8;id=409501;file:///home/arog/miniconda3/envs/micom/lib/python3.10/site-packages/micom/media.py#72\u001b\\\u001b[2m72\u001b[0m\u001b]8;;\u001b\\\n",
       "\u001b[2;36m                    \u001b[0m         :\u001b[1m(\u001b[0m                                                                         \u001b[2m           \u001b[0m\n"
      ]
     },
     "metadata": {},
     "output_type": "display_data"
    },
    {
     "name": "stdout",
     "output_type": "stream",
     "text": [
      "EX_h2o_m       13.657999\n",
      "EX_trp__L_m     1.121952\n",
      "dtype: float64\n"
     ]
    }
   ],
   "source": [
    "# === Minimal Medium to Support 80% of Growth ===\n",
    "print(\"\\nComputing minimal medium for 80% growth...\")\n",
    "minMed = minimal_medium(com, 0.8, minimize_components=True)\n",
    "print(minMed)"
   ]
  },
  {
   "cell_type": "code",
   "execution_count": 11,
   "id": "9dc56b4b",
   "metadata": {},
   "outputs": [],
   "source": [
    "# === Get Member Growth Rates (excluding medium pseudo-tax)\n",
    "rates = sol1.members.growth_rate.drop(\"medium\")"
   ]
  },
  {
   "cell_type": "code",
   "execution_count": 12,
   "id": "8f082191",
   "metadata": {},
   "outputs": [
    {
     "name": "stdout",
     "output_type": "stream",
     "text": [
      "\n",
      "Computing restricted minimal medium for 10% of sol1 growth...\n"
     ]
    }
   ],
   "source": [
    "# === Constrain to Medium Supporting 10% Growth with Member Constraints ===\n",
    "print(\"\\nComputing restricted minimal medium for 10% of sol1 growth...\")\n",
    "med_1 = minimal_medium(com, 0.1 * sol1.growth_rate, min_growth=rates, exports=True)\n",
    "com.medium = med_1"
   ]
  },
  {
   "cell_type": "code",
   "execution_count": 13,
   "id": "3daf28c4",
   "metadata": {},
   "outputs": [
    {
     "name": "stdout",
     "output_type": "stream",
     "text": [
      "\n",
      "Re-running pFBA under constrained minimal medium...\n"
     ]
    }
   ],
   "source": [
    "# === Rerun pFBA under new constrained medium ===\n",
    "print(\"\\nRe-running pFBA under constrained minimal medium...\")\n",
    "pfba_medium = com.optimize(fluxes=True, pfba=True)"
   ]
  },
  {
   "cell_type": "code",
   "execution_count": 16,
   "id": "68ec205e",
   "metadata": {},
   "outputs": [
    {
     "name": "stdout",
     "output_type": "stream",
     "text": [
      "\n",
      "Fluxes exported to 'fluxes_MICOM.csv'\n"
     ]
    }
   ],
   "source": [
    "# === Export Fluxes ===\n",
    "sol1.fluxes.to_csv(\"/home/arog/Documents/GitHub/HGMB_Project/results/fluxes_MICOM.csv\", sep=\";\")\n",
    "print(\"\\nFluxes exported to 'fluxes_MICOM.csv'\")"
   ]
  },
  {
   "cell_type": "code",
   "execution_count": 17,
   "id": "bff08e33",
   "metadata": {},
   "outputs": [
    {
     "name": "stdout",
     "output_type": "stream",
     "text": [
      "Saving Community\n"
     ]
    }
   ],
   "source": [
    "# === Save Community Objective ===\n",
    "print(\"Saving Community\")\n",
    "com.to_pickle(\"/home/arog/models/xml/community/micom_com\")"
   ]
  },
  {
   "cell_type": "code",
   "execution_count": 15,
   "id": "ff691818",
   "metadata": {},
   "outputs": [
    {
     "name": "stdout",
     "output_type": "stream",
     "text": [
      "\n",
      "Member growth rates under trade-off:\n",
      "                 abundance  growth_rate  reactions  metabolites\n",
      "compartments                                                   \n",
      "iEC1356_Bl21DE3   0.025104     0.082894       2740         1918\n",
      "iECSF_1327        0.072649     0.224130       2742         1951\n",
      "iECUMN_1333       0.171923     0.523835       2740         1935\n",
      "iETEC_1333        0.057054     0.176889       2756         1962\n",
      "iEcSMS35_1347     0.543917     1.652657       2746         1947\n",
      "iNRG857_1313      0.047165     0.147372       2735         1943\n",
      "iUMNK88_1353      0.015606     0.054238       2777         1969\n",
      "iUTI89_1310       0.043361     0.135329       2725         1940\n",
      "ic_1306           0.023221     0.076067       2726         1936\n",
      "medium                 NaN          NaN        385          385\n",
      "\n",
      "Restricted minimal medium (med_1):\n",
      "EX_ca2_m         0.005376\n",
      "EX_cl_m          0.005376\n",
      "EX_co2_m       -21.089918\n",
      "EX_cobalt2_m     0.000026\n",
      "EX_cu2_m         0.000732\n",
      "EX_glc__D_m     10.000000\n",
      "EX_h_m          -8.435452\n",
      "EX_h2o_m       -45.999761\n",
      "EX_fe2_m         0.008524\n",
      "EX_fe3_m         0.008064\n",
      "EX_k_m           0.201606\n",
      "EX_mg2_m         0.008959\n",
      "EX_mn2_m         0.000713\n",
      "EX_mobd_m        0.000133\n",
      "EX_trp__L_m      1.000000\n",
      "EX_nac_m         0.002296\n",
      "EX_nh4_m        10.094922\n",
      "EX_ni2_m         0.000334\n",
      "EX_o2_m         18.443049\n",
      "EX_pi_m          0.996675\n",
      "EX_zn2_m         0.000352\n",
      "EX_so4_m         0.260308\n",
      "dtype: float64\n",
      "\n",
      "Minimal medium (80%, minimized):\n",
      "EX_h2o_m       13.657999\n",
      "EX_trp__L_m     1.121952\n",
      "dtype: float64\n"
     ]
    }
   ],
   "source": [
    "# === Print Final Results ===\n",
    "print(\"\\nMember growth rates under trade-off:\")\n",
    "print(sol1.members)\n",
    "\n",
    "print(\"\\nRestricted minimal medium (med_1):\")\n",
    "print(med_1)\n",
    "\n",
    "print(\"\\nMinimal medium (80%, minimized):\")\n",
    "print(minMed)"
   ]
  }
 ],
 "metadata": {
  "kernelspec": {
   "display_name": "micom",
   "language": "python",
   "name": "python3"
  },
  "language_info": {
   "codemirror_mode": {
    "name": "ipython",
    "version": 3
   },
   "file_extension": ".py",
   "mimetype": "text/x-python",
   "name": "python",
   "nbconvert_exporter": "python",
   "pygments_lexer": "ipython3",
   "version": "3.10.16"
  }
 },
 "nbformat": 4,
 "nbformat_minor": 5
}
