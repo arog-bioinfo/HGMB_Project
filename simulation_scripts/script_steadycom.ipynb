{
 "cells": [
  {
   "cell_type": "markdown",
   "id": "cd24a8b5",
   "metadata": {},
   "source": [
    "# Imports"
   ]
  },
  {
   "cell_type": "code",
   "execution_count": 5,
   "id": "a9ca7551",
   "metadata": {},
   "outputs": [],
   "source": [
    "import os\n",
    "from reframed import load_cbmodel, save_cbmodel\n",
    "from reframed import Community  # Replace with the actual filename if saved in another file"
   ]
  },
  {
   "cell_type": "markdown",
   "id": "face95df",
   "metadata": {},
   "source": [
    "# Script"
   ]
  },
  {
   "cell_type": "code",
   "execution_count": 6,
   "id": "b73d3305",
   "metadata": {},
   "outputs": [
    {
     "name": "stderr",
     "output_type": "stream",
     "text": [
      "/home/arog/miniconda3/envs/steadycom/lib/python3.10/site-packages/reframed/io/sbml.py:167: UserWarning: Invalid flavor sbml. Current options are: 'cobra', 'fbc2', and 'bigg'.\n",
      "  warn(f\"Invalid flavor {flavor}. Current options are: 'cobra', 'fbc2', and 'bigg'.\")\n"
     ]
    },
    {
     "ename": "RuntimeError",
     "evalue": "No biomass reaction identified from model objective.",
     "output_type": "error",
     "traceback": [
      "\u001b[0;31m---------------------------------------------------------------------------\u001b[0m",
      "\u001b[0;31mRuntimeError\u001b[0m                              Traceback (most recent call last)",
      "Cell \u001b[0;32mIn[6], line 15\u001b[0m\n\u001b[1;32m     13\u001b[0m \u001b[38;5;66;03m# Step 3: Build community\u001b[39;00m\n\u001b[1;32m     14\u001b[0m community \u001b[38;5;241m=\u001b[39m Community(\u001b[38;5;124m\"\u001b[39m\u001b[38;5;124mcommunity_model\u001b[39m\u001b[38;5;124m\"\u001b[39m, models, copy_models\u001b[38;5;241m=\u001b[39m\u001b[38;5;28;01mTrue\u001b[39;00m)\n\u001b[0;32m---> 15\u001b[0m community_model \u001b[38;5;241m=\u001b[39m \u001b[43mcommunity\u001b[49m\u001b[38;5;241;43m.\u001b[39;49m\u001b[43mmerged_model\u001b[49m\n\u001b[1;32m     17\u001b[0m \u001b[38;5;66;03m# Step 4: Save result\u001b[39;00m\n\u001b[1;32m     18\u001b[0m output_path \u001b[38;5;241m=\u001b[39m os\u001b[38;5;241m.\u001b[39mpath\u001b[38;5;241m.\u001b[39mjoin(base_dir, \u001b[38;5;124m\"\u001b[39m\u001b[38;5;124mcommunity_model.json\u001b[39m\u001b[38;5;124m\"\u001b[39m)\n",
      "File \u001b[0;32m~/miniconda3/envs/steadycom/lib/python3.10/site-packages/reframed/community/model.py:29\u001b[0m, in \u001b[0;36mCommunity.merged_model\u001b[0;34m(self)\u001b[0m\n\u001b[1;32m     26\u001b[0m \u001b[38;5;129m@property\u001b[39m\n\u001b[1;32m     27\u001b[0m \u001b[38;5;28;01mdef\u001b[39;00m\u001b[38;5;250m \u001b[39m\u001b[38;5;21mmerged_model\u001b[39m(\u001b[38;5;28mself\u001b[39m):\n\u001b[1;32m     28\u001b[0m     \u001b[38;5;28;01mif\u001b[39;00m \u001b[38;5;28mself\u001b[39m\u001b[38;5;241m.\u001b[39m_merged_model \u001b[38;5;129;01mis\u001b[39;00m \u001b[38;5;28;01mNone\u001b[39;00m:\n\u001b[0;32m---> 29\u001b[0m         \u001b[38;5;28mself\u001b[39m\u001b[38;5;241m.\u001b[39m_merged_model \u001b[38;5;241m=\u001b[39m \u001b[38;5;28;43mself\u001b[39;49m\u001b[38;5;241;43m.\u001b[39;49m\u001b[43mmerge_models\u001b[49m\u001b[43m(\u001b[49m\u001b[43m)\u001b[49m\n\u001b[1;32m     31\u001b[0m     \u001b[38;5;28;01mreturn\u001b[39;00m \u001b[38;5;28mself\u001b[39m\u001b[38;5;241m.\u001b[39m_merged_model\n",
      "File \u001b[0;32m~/miniconda3/envs/steadycom/lib/python3.10/site-packages/reframed/community/model.py:114\u001b[0m, in \u001b[0;36mCommunity.merge_models\u001b[0;34m(self)\u001b[0m\n\u001b[1;32m    108\u001b[0m new_id \u001b[38;5;241m=\u001b[39m rename(r_id)\n\u001b[1;32m    109\u001b[0m new_stoichiometry \u001b[38;5;241m=\u001b[39m {\n\u001b[1;32m    110\u001b[0m     m_id \u001b[38;5;28;01mif\u001b[39;00m m_id \u001b[38;5;129;01min\u001b[39;00m ext_mets \u001b[38;5;28;01melse\u001b[39;00m rename(m_id): coeff\n\u001b[1;32m    111\u001b[0m     \u001b[38;5;28;01mfor\u001b[39;00m m_id, coeff \u001b[38;5;129;01min\u001b[39;00m rxn\u001b[38;5;241m.\u001b[39mstoichiometry\u001b[38;5;241m.\u001b[39mitems()\n\u001b[1;32m    112\u001b[0m }\n\u001b[0;32m--> 114\u001b[0m \u001b[38;5;28;01mif\u001b[39;00m r_id \u001b[38;5;241m==\u001b[39m \u001b[43mmodel\u001b[49m\u001b[38;5;241;43m.\u001b[39;49m\u001b[43mbiomass_reaction\u001b[49m:\n\u001b[1;32m    115\u001b[0m     new_stoichiometry[biomass_id] \u001b[38;5;241m=\u001b[39m \u001b[38;5;241m1\u001b[39m\n\u001b[1;32m    117\u001b[0m \u001b[38;5;28;01mif\u001b[39;00m rxn\u001b[38;5;241m.\u001b[39mgpr \u001b[38;5;129;01mis\u001b[39;00m \u001b[38;5;28;01mNone\u001b[39;00m:\n",
      "File \u001b[0;32m~/miniconda3/envs/steadycom/lib/python3.10/site-packages/reframed/core/cbmodel.py:190\u001b[0m, in \u001b[0;36mCBModel.biomass_reaction\u001b[0;34m(self)\u001b[0m\n\u001b[1;32m    187\u001b[0m \u001b[38;5;129m@property\u001b[39m\n\u001b[1;32m    188\u001b[0m \u001b[38;5;28;01mdef\u001b[39;00m\u001b[38;5;250m \u001b[39m\u001b[38;5;21mbiomass_reaction\u001b[39m(\u001b[38;5;28mself\u001b[39m):\n\u001b[1;32m    189\u001b[0m     \u001b[38;5;28;01mif\u001b[39;00m \u001b[38;5;28mself\u001b[39m\u001b[38;5;241m.\u001b[39m_biomass_reaction \u001b[38;5;129;01mis\u001b[39;00m \u001b[38;5;28;01mNone\u001b[39;00m:\n\u001b[0;32m--> 190\u001b[0m         \u001b[38;5;28;43mself\u001b[39;49m\u001b[38;5;241;43m.\u001b[39;49m\u001b[43m_detect_biomass_reaction\u001b[49m\u001b[43m(\u001b[49m\u001b[43m)\u001b[49m\n\u001b[1;32m    192\u001b[0m     \u001b[38;5;28;01mreturn\u001b[39;00m \u001b[38;5;28mself\u001b[39m\u001b[38;5;241m.\u001b[39m_biomass_reaction\n",
      "File \u001b[0;32m~/miniconda3/envs/steadycom/lib/python3.10/site-packages/reframed/core/cbmodel.py:213\u001b[0m, in \u001b[0;36mCBModel._detect_biomass_reaction\u001b[0;34m(self)\u001b[0m\n\u001b[1;32m    211\u001b[0m         warn(\u001b[38;5;124mf\u001b[39m\u001b[38;5;124m\"\u001b[39m\u001b[38;5;124mSuspicious biomass identifier: \u001b[39m\u001b[38;5;132;01m{\u001b[39;00m\u001b[38;5;28mself\u001b[39m\u001b[38;5;241m.\u001b[39m_biomass_reaction\u001b[38;5;132;01m}\u001b[39;00m\u001b[38;5;124m\"\u001b[39m)\n\u001b[1;32m    212\u001b[0m \u001b[38;5;28;01melse\u001b[39;00m:\n\u001b[0;32m--> 213\u001b[0m     \u001b[38;5;28;01mraise\u001b[39;00m \u001b[38;5;167;01mRuntimeError\u001b[39;00m(\u001b[38;5;124mf\u001b[39m\u001b[38;5;124m\"\u001b[39m\u001b[38;5;124mNo biomass reaction identified from model objective.\u001b[39m\u001b[38;5;124m\"\u001b[39m)\n",
      "\u001b[0;31mRuntimeError\u001b[0m: No biomass reaction identified from model objective."
     ]
    }
   ],
   "source": [
    "# Step 1: Define model paths\n",
    "base_dir = \"/home/arog/models/xml\"\n",
    "model_files = [\"ic_1306.xml\", \"iCN900.xml\"]\n",
    "model_paths = [os.path.join(base_dir, f) for f in model_files]\n",
    "\n",
    "# Step 2: Load models\n",
    "models = []\n",
    "for path in model_paths:\n",
    "    model = load_cbmodel(path, flavor='sbml')\n",
    "    model.id = os.path.splitext(os.path.basename(path))[0]  # set id to filename without extension\n",
    "    models.append(model)\n",
    "\n",
    "# Step 3: Build community\n",
    "community = Community(\"community_model\", models, copy_models=True)\n",
    "community_model = community.merged_model\n",
    "\n",
    "# Step 4: Save result\n",
    "output_path = os.path.join(base_dir, \"community_model.json\")\n",
    "save_cbmodel(community_model, output_path)\n",
    "\n",
    "print(f\"Community model saved to: {output_path}\")\n",
    "print(f\"Reactions: {len(community_model.reactions)}, Metabolites: {len(community_model.metabolites)}, Genes: {len(community_model.genes)}\")"
   ]
  },
  {
   "cell_type": "code",
   "execution_count": null,
   "id": "4a56b9b3",
   "metadata": {},
   "outputs": [],
   "source": []
  }
 ],
 "metadata": {
  "kernelspec": {
   "display_name": "steadycom",
   "language": "python",
   "name": "python3"
  },
  "language_info": {
   "codemirror_mode": {
    "name": "ipython",
    "version": 3
   },
   "file_extension": ".py",
   "mimetype": "text/x-python",
   "name": "python",
   "nbconvert_exporter": "python",
   "pygments_lexer": "ipython3",
   "version": "3.10.16"
  }
 },
 "nbformat": 4,
 "nbformat_minor": 5
}
