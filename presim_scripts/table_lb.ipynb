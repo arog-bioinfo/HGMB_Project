{
 "cells": [
  {
   "cell_type": "markdown",
   "id": "878c3679",
   "metadata": {},
   "source": [
    "Imports"
   ]
  },
  {
   "cell_type": "code",
   "execution_count": 1,
   "id": "b2acbe61",
   "metadata": {},
   "outputs": [],
   "source": [
    "import os\n",
    "import json\n",
    "from cobra import io\n",
    "from collections import defaultdict"
   ]
  },
  {
   "cell_type": "markdown",
   "id": "d12bac7f",
   "metadata": {},
   "source": [
    "Code"
   ]
  },
  {
   "cell_type": "code",
   "execution_count": 2,
   "id": "a2e20637",
   "metadata": {},
   "outputs": [
    {
     "name": "stdout",
     "output_type": "stream",
     "text": [
      "Processing: /home/arog/models/xml/iYL1228.xml\n",
      "Processing: /home/arog/models/xml/iSDY_1059.xml\n",
      "Processing: /home/arog/models/xml/iCN900.xml\n",
      "Processing: /home/arog/models/xml/iECSE_1348.xml\n",
      "Processing: /home/arog/models/xml/iUMNK88_1353.xml\n",
      "Processing: /home/arog/models/xml/iETEC_1333.xml\n"
     ]
    },
    {
     "name": "stderr",
     "output_type": "stream",
     "text": [
      "Exception ignored in: <bound method IPythonKernel._clean_thread_parent_frames of <ipykernel.ipkernel.IPythonKernel object at 0x7b960d3c1e70>>\n",
      "Traceback (most recent call last):\n",
      "  File \"/home/arog/miniconda3/envs/micom/lib/python3.10/site-packages/ipykernel/ipkernel.py\", line 775, in _clean_thread_parent_frames\n",
      "    def _clean_thread_parent_frames(\n",
      "KeyboardInterrupt: \n"
     ]
    },
    {
     "name": "stdout",
     "output_type": "stream",
     "text": [
      "Processing: /home/arog/models/xml/iECSF_1327.xml\n",
      "Processing: /home/arog/models/xml/iEcSMS35_1347.xml\n",
      "Processing: /home/arog/models/xml/iEC1356_Bl21DE3.xml\n",
      "Processing: /home/arog/models/xml/iECUMN_1333.xml\n",
      "Processing: /home/arog/models/xml/iNRG857_1313.xml\n",
      "Processing: /home/arog/models/xml/iUTI89_1310.xml\n",
      "Processing: /home/arog/models/xml/ic_1306.xml\n",
      "\n",
      "Saved non-zero lower bounds to: /home/arog/models/fva_results/nonzero_lbs.json\n"
     ]
    }
   ],
   "source": [
    "\n",
    "\n",
    "# === CONFIGURATION ===\n",
    "input_dir = \"/home/arog/models/xml\"               # Input directory\n",
    "output_path = \"/home/arog/models/fva_results/nonzero_lbs.json\"  # Output JSON\n",
    "\n",
    "# === Store results in defaultdict(list)\n",
    "nonzero_lbs = defaultdict(list)\n",
    "\n",
    "# === Process all .xml files ===\n",
    "for file_name in os.listdir(input_dir):\n",
    "    if file_name.endswith(\".xml\"):\n",
    "        model_path = os.path.join(input_dir, file_name)\n",
    "        model_name = os.path.splitext(file_name)[0]\n",
    "        print(f\"Processing: {model_path}\")\n",
    "\n",
    "        try:\n",
    "            model = io.read_sbml_model(model_path)\n",
    "            \n",
    "            for rxn in model.reactions:\n",
    "                if rxn.lower_bound != 0:\n",
    "                    nonzero_lbs[rxn.id].append((model_name, rxn.lower_bound))\n",
    "        \n",
    "        except Exception as e:\n",
    "            print(f\"Failed to process {file_name}: {e}\")\n",
    "\n",
    "# === Save to JSON ===\n",
    "with open(output_path, \"w\") as f:\n",
    "    json.dump(nonzero_lbs, f, indent=2)\n",
    "\n",
    "print(f\"\\nSaved non-zero lower bounds to: {output_path}\")\n"
   ]
  }
 ],
 "metadata": {
  "kernelspec": {
   "display_name": "micom",
   "language": "python",
   "name": "python3"
  },
  "language_info": {
   "codemirror_mode": {
    "name": "ipython",
    "version": 3
   },
   "file_extension": ".py",
   "mimetype": "text/x-python",
   "name": "python",
   "nbconvert_exporter": "python",
   "pygments_lexer": "ipython3",
   "version": "3.10.16"
  }
 },
 "nbformat": 4,
 "nbformat_minor": 5
}
